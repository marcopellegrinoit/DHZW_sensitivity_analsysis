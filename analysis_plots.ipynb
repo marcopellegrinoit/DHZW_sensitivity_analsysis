{
 "cells": [
  {
   "cell_type": "code",
   "execution_count": null,
   "id": "fe0f7db8",
   "metadata": {
    "pycharm": {
     "name": "#%%\n"
    }
   },
   "outputs": [],
   "source": [
    "import warnings\n",
    "import os\n",
    "import pandas as pd\n",
    "import matplotlib.pyplot as plt \n",
    "import numpy as np\n",
    "import pandas as pd\n",
    "import seaborn as sns"
   ]
  },
  {
   "cell_type": "markdown",
   "id": "b351a999",
   "metadata": {},
   "source": [
    "# Analysis of results"
   ]
  },
  {
   "cell_type": "markdown",
   "id": "fe3a9cbe",
   "metadata": {},
   "source": [
    "## Calculate mean of the iterations of each parameter set "
   ]
  },
  {
   "cell_type": "code",
   "execution_count": null,
   "id": "ccd3ad8f",
   "metadata": {},
   "outputs": [],
   "source": [
    "# Prepare dataFrame to store mean values\n",
    "df_output = pd.DataFrame(columns=[\"CAR_DRIVER\", \"CAR_PASSENGER\", \"BIKE\", \"BUS_TRAM\", \"TRAIN\", \"WALK\"])\n",
    "\n",
    "df_output"
   ]
  },
  {
   "cell_type": "code",
   "execution_count": null,
   "id": "94dc5c6e",
   "metadata": {},
   "outputs": [],
   "source": [
    "warnings.filterwarnings(\"ignore\")\n",
    "\n",
    "folder_path = 'output/iterations'\n",
    "\n",
    "# Iterate through each CSV file in the folder\n",
    "for filename in os.listdir(folder_path):\n",
    "    #print(filename)\n",
    "    if filename.endswith('.csv'):\n",
    "        file_path = os.path.join(folder_path, filename)\n",
    "        \n",
    "        # Read the CSV file into a DataFrame\n",
    "        df = pd.read_csv(file_path)\n",
    "        \n",
    "        # Calculate the mean of each column\n",
    "        mean_values = df.mean()\n",
    "        \n",
    "        #print(mean_values)\n",
    "                        \n",
    "        # Append the mean values to the new DataFrame       \n",
    "        df_output.loc[len(df_output)] = mean_values\n",
    "        \n",
    "# Enable warnings again\n",
    "warnings.filterwarnings(\"default\")"
   ]
  },
  {
   "cell_type": "code",
   "execution_count": null,
   "id": "de12e3d8",
   "metadata": {},
   "outputs": [],
   "source": [
    "df_output"
   ]
  },
  {
   "cell_type": "markdown",
   "id": "43d4fa45",
   "metadata": {},
   "source": [
    "## Link means with parameter set for evaluation"
   ]
  },
  {
   "cell_type": "code",
   "execution_count": null,
   "id": "9f706803",
   "metadata": {
    "pycharm": {
     "name": "#%%\n"
    }
   },
   "outputs": [],
   "source": [
    "# read parameters that were run\n",
    "df_input = pd.read_csv('data/parametersets_to_run.csv')\n",
    "\n",
    "# check that everything matches\n",
    "print(df_output.shape[0])\n",
    "print(df_input.shape[0])\n",
    "print(df_output.shape[0] == df_input.shape[0])\n",
    "\n",
    "# put parameters and results together\n",
    "df = pd.concat([df_input, df_output], axis=1)"
   ]
  },
  {
   "cell_type": "code",
   "execution_count": null,
   "id": "a71fbd94",
   "metadata": {
    "pycharm": {
     "name": "#%%\n"
    }
   },
   "outputs": [],
   "source": [
    "df"
   ]
  },
  {
   "cell_type": "markdown",
   "id": "5913b263",
   "metadata": {
    "pycharm": {
     "name": "#%% md\n"
    }
   },
   "source": [
    "# Plot linear regressions"
   ]
  },
  {
   "cell_type": "code",
   "execution_count": null,
   "id": "ecee16f7",
   "metadata": {
    "pycharm": {
     "name": "#%%\n"
    }
   },
   "outputs": [],
   "source": [
    "threshold_slope_abs = 0.000 # possibility to filter out parameters without much impact"
   ]
  },
  {
   "cell_type": "code",
   "execution_count": null,
   "id": "bd80fe57",
   "metadata": {
    "pycharm": {
     "name": "#%%\n"
    }
   },
   "outputs": [],
   "source": [
    "# Initialize an empty list to store parameter names with slope > 0.1\n",
    "params_with_slope = []\n",
    "\n",
    "groups = df.groupby('used_parameter_label')\n",
    "\n",
    "output_cols = ['WALK', 'BIKE', 'BUS_TRAM', 'TRAIN', 'CAR_DRIVER', 'CAR_PASSENGER']\n",
    "\n",
    "# Loop over each group and calculate the slope for each parameter\n",
    "for name, group in groups:\n",
    "    for col in output_cols:\n",
    "        # Calculate the slope for this parameter and output column\n",
    "        slope, intercept = np.polyfit(group['used_parameter_value'], group[col], 1)\n",
    "        \n",
    "        # Check if the absolute value of the slope is greater than 0.1\n",
    "        if abs(slope) > threshold_slope_abs:\n",
    "            # Add the parameter name to the list\n",
    "            params_with_slope.append(name)\n",
    "            break  # Only need to add the parameter name once\n",
    "\n",
    "# Filter the dataframe to only include rows with parameter names in params_with_slope\n",
    "df_filtered = df[df['used_parameter_label'].isin(params_with_slope)]\n",
    "\n",
    "# Group the filtered data by parameter name\n",
    "groups_filtered = df_filtered.groupby('used_parameter_label')\n",
    "\n",
    "# Create a new figure with a 3x2 grid of subplots\n",
    "fig, axs = plt.subplots(nrows=3, ncols=2, figsize=(10, 10))\n",
    "\n",
    "# Initialize a dictionary to store the colors for each group\n",
    "colors = {}\n",
    "\n",
    "# Loop over each output column and plot the data in a separate subplot\n",
    "for i, col in enumerate(output_cols):\n",
    "    # Get the axis object for this subplot\n",
    "    ax = axs[i // 2, i % 2]\n",
    "    \n",
    "    j = 0\n",
    "    # Loop over each group and plot the data for this output column\n",
    "    for name, group in groups_filtered:\n",
    "        # Extract the x and y values for this group and output column\n",
    "        x = group['used_parameter_value']\n",
    "        y = group[col]\n",
    "        \n",
    "        # Assign a color to this group based on its name\n",
    "        if name not in colors:\n",
    "            colors[name] = plt.cm.tab20(j)\n",
    "        \n",
    "        # Plot the data points\n",
    "        slope, intercept = np.polyfit(x, y, 1)\n",
    "        regression_line = intercept + slope * x\n",
    "        ax.plot(x, regression_line, label=name, color=colors[name])\n",
    "        \n",
    "        \n",
    "        ax.scatter(x, y, label=name, color=colors[name], alpha=0.5, s = 10)\n",
    "        \n",
    "        j=j+1\n",
    "    \n",
    "    # Set the title for this subplot to the name of the output column\n",
    "    ax.set_title(col)\n",
    "    \n",
    "    # Set the axis labels for this subplot\n",
    "    ax.set_xlabel('Parameter Value')\n",
    "    ax.set_ylabel('Mode choice proportion')\n",
    "    \n",
    "# Create a legend for the whole figure\n",
    "handles, labels = [], []\n",
    "for name, group in groups_filtered:\n",
    "    for col in output_cols:\n",
    "        if name in params_with_slope:\n",
    "            # Check if the parameter name has already been added to the labels list\n",
    "            if name not in labels:\n",
    "                # Add a handle to the handles list for this parameter name\n",
    "                handle = plt.plot([], [], label=name, color=colors[name])[0]\n",
    "                handles.append(handle)\n",
    "                labels.append(name)\n",
    "\n",
    "fig.legend(handles, labels, loc='lower center', bbox_to_anchor=(0.5, 0.0), ncol=len(labels))\n",
    "\n",
    "# Adjust the spacing between subplots\n",
    "plt.subplots_adjust(wspace=0.3, hspace=0.5)\n",
    "\n",
    "# Title\n",
    "fig.suptitle('Linear regression and values of all intercepts (alpha coefficients).', fontsize=16)\n",
    "\n",
    "# Save\n",
    "plt.savefig('plot_slopes_'+str(threshold_slope_abs)+'.png', dpi=300, bbox_inches='tight')\n",
    "\n",
    "# Show the plot\n",
    "plt.show()"
   ]
  }
 ],
 "metadata": {
  "kernelspec": {
   "display_name": "Python 3 (ipykernel)",
   "language": "python",
   "name": "python3"
  },
  "language_info": {
   "codemirror_mode": {
    "name": "ipython",
    "version": 3
   },
   "file_extension": ".py",
   "mimetype": "text/x-python",
   "name": "python",
   "nbconvert_exporter": "python",
   "pygments_lexer": "ipython3",
   "version": "3.9.12"
  }
 },
 "nbformat": 4,
 "nbformat_minor": 5
}
