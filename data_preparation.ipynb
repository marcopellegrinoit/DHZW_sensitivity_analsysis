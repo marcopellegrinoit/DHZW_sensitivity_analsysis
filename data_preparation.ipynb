{
 "cells": [
  {
   "cell_type": "code",
   "execution_count": null,
   "id": "5d657528",
   "metadata": {
    "pycharm": {
     "name": "#%%\n"
    }
   },
   "outputs": [],
   "source": [
    "import subprocess\n",
    "import os\n",
    "import csv\n",
    "import pandas as pd\n",
    "from tqdm import tqdm"
   ]
  },
  {
   "cell_type": "markdown",
   "id": "f0d47600",
   "metadata": {
    "pycharm": {
     "name": "#%% md\n"
    }
   },
   "source": [
    "# Define the parameters and the values to try"
   ]
  },
  {
   "cell_type": "code",
   "execution_count": null,
   "id": "98dc6cf0",
   "metadata": {
    "pycharm": {
     "name": "#%%\n"
    }
   },
   "outputs": [],
   "source": [
    "# Open the CSV file and read it as a list of dictionaries\n",
    "with open('data/alpha_labels.csv', newline='') as csvfile:\n",
    "    reader = csv.DictReader(csvfile)\n",
    "    alphas = [row['parameter'] for row in reader]\n",
    "    \n",
    "df_baseline = pd.read_csv('data/baseline_parameters.csv', index_col=False)"
   ]
  },
  {
   "cell_type": "code",
   "execution_count": null,
   "id": "d96ca7f5",
   "metadata": {
    "pycharm": {
     "name": "#%%\n"
    }
   },
   "outputs": [],
   "source": [
    "# Define the range of values for each parameter\n",
    "values = [-10.0, -8.0, -6.0, -4.0, -2.0, 0.0, 2.0, 4.0, 6.0, 8.0, 10.0]"
   ]
  },
  {
   "cell_type": "markdown",
   "id": "4da049d9",
   "metadata": {
    "pycharm": {
     "name": "#%% md\n"
    }
   },
   "source": [
    "# Create the entier parameter sets"
   ]
  },
  {
   "cell_type": "code",
   "execution_count": null,
   "id": "5dbe3085",
   "metadata": {
    "pycharm": {
     "name": "#%%\n"
    }
   },
   "outputs": [],
   "source": [
    "# Create an empty table with the column headers from params\n",
    "table = df_baseline.transpose()\n",
    "\n",
    "table.columns = table.iloc[0]\n",
    "table = table[1:]\n",
    "\n",
    "table['used_parameter_label'] = 0\n",
    "table['used_parameter_value'] = 0\n",
    "\n",
    "table"
   ]
  },
  {
   "cell_type": "code",
   "execution_count": null,
   "id": "22e228a3",
   "metadata": {},
   "outputs": [],
   "source": [
    "# create a dataframe with all the entire parameter sets. replace the alpha value to analyse\n",
    "\n",
    "for alpha in alphas:\n",
    "    for value in values:\n",
    "        # Create a new row based on the baseline\n",
    "        new_row = table.iloc[0].copy()\n",
    "        \n",
    "        # set the alpha value to try\n",
    "        new_row['used_parameter_label'] = alpha\n",
    "        new_row['used_parameter_value'] = value\n",
    "        new_row[alpha] = value\n",
    "\n",
    "        # add the new row\n",
    "        table = pd.concat([table, new_row.to_frame().T], ignore_index=True)\n",
    "     \n",
    "    \n",
    "# remove the baseline\n",
    "table = table.iloc[1:]\n",
    "\n",
    "table"
   ]
  },
  {
   "cell_type": "code",
   "execution_count": null,
   "id": "7cfad44a",
   "metadata": {
    "pycharm": {
     "name": "#%%\n"
    }
   },
   "outputs": [],
   "source": [
    "#Save the table\n",
    "table.to_csv('data/parametersets_to_run.csv', index=False)"
   ]
  }
 ],
 "metadata": {
  "kernelspec": {
   "display_name": "Python 3 (ipykernel)",
   "language": "python",
   "name": "python3"
  },
  "language_info": {
   "codemirror_mode": {
    "name": "ipython",
    "version": 3
   },
   "file_extension": ".py",
   "mimetype": "text/x-python",
   "name": "python",
   "nbconvert_exporter": "python",
   "pygments_lexer": "ipython3",
   "version": "3.9.12"
  }
 },
 "nbformat": 4,
 "nbformat_minor": 5
}
