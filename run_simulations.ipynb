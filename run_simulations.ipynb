{
 "cells": [
  {
   "cell_type": "code",
   "execution_count": null,
   "id": "5d657528",
   "metadata": {
    "pycharm": {
     "name": "#%%\n"
    }
   },
   "outputs": [],
   "source": [
    "import subprocess\n",
    "import os\n",
    "import csv\n",
    "import pandas as pd\n",
    "from tqdm import tqdm\n",
    "from datetime import datetime"
   ]
  },
  {
   "cell_type": "code",
   "execution_count": null,
   "id": "14bb3a7f",
   "metadata": {},
   "outputs": [],
   "source": [
    "# function to print elapsed time\n",
    "def calculate_elapsed_time(start_time, end_time):\n",
    "    elapsed_time = end_time - start_time\n",
    "    total_seconds = elapsed_time.total_seconds()\n",
    "    seconds = int(total_seconds % 60)\n",
    "    total_minutes = total_seconds // 60\n",
    "    minutes = int(total_minutes % 60)\n",
    "    hours = int(total_minutes // 60)\n",
    "    \n",
    "    seconds = str(seconds).zfill(2)\n",
    "    minutes = str(minutes).zfill(2)\n",
    "    hours = str(hours).zfill(2)\n",
    "\n",
    "    return str(hours) + ':' + str(minutes) + ':' + str(seconds)"
   ]
  },
  {
   "cell_type": "markdown",
   "id": "d64b03fc",
   "metadata": {
    "pycharm": {
     "name": "#%% md\n"
    }
   },
   "source": [
    "# Initialise"
   ]
  },
  {
   "cell_type": "markdown",
   "id": "f0d47600",
   "metadata": {
    "pycharm": {
     "name": "#%% md\n"
    }
   },
   "source": [
    "### Read parameter sets to simulate"
   ]
  },
  {
   "cell_type": "code",
   "execution_count": null,
   "id": "9ee6af40",
   "metadata": {},
   "outputs": [],
   "source": [
    "# read parameters to run\n",
    "table = pd.read_csv('data/parametersets_to_run.csv')\n",
    "table"
   ]
  },
  {
   "cell_type": "markdown",
   "id": "3c7df30e",
   "metadata": {
    "pycharm": {
     "name": "#%% md\n"
    }
   },
   "source": [
    "### Initialise empty the output dataframe"
   ]
  },
  {
   "cell_type": "code",
   "execution_count": null,
   "id": "b9febd1a",
   "metadata": {
    "pycharm": {
     "name": "#%%\n"
    }
   },
   "outputs": [],
   "source": [
    "# Initialise dataframe for mode choice distributions (1 line = 1 distribution = 1 iteration)\n",
    "df = pd.DataFrame(columns=[\"CAR_DRIVER\", \"CAR_PASSENGER\", \"BIKE\", \"BUS_TRAM\", \"TRAIN\", \"WALK\"])\n",
    "\n",
    "for i in range(0, len(table)):\n",
    "    df.to_csv(\"output/iterations/output_proportions_\" + str(i) + \".csv\", index=False)"
   ]
  },
  {
   "cell_type": "markdown",
   "id": "cc1fd03f",
   "metadata": {
    "pycharm": {
     "name": "#%% md\n"
    }
   },
   "source": [
    "# Call Sim2APL iteratively"
   ]
  },
  {
   "cell_type": "markdown",
   "id": "0274dc6a",
   "metadata": {
    "pycharm": {
     "name": "#%% md\n"
    }
   },
   "source": [
    "### Prepare the Java command"
   ]
  },
  {
   "cell_type": "code",
   "execution_count": null,
   "id": "2c2c0040",
   "metadata": {
    "pycharm": {
     "name": "#%%\n"
    }
   },
   "outputs": [],
   "source": [
    "# baseline of the Java command\n",
    "config = \"--config src/main/resources/config_DHZW_full.toml\"\n",
    "modeliberal = \"--mode-liberal 0.5\"\n",
    "modeconservative = \"--mode-conservative 0.5\"\n",
    "output = \"-o output/deskrun\"\n",
    "parametersPath = \"--parameter_file ../data/parametersets_to_run.csv\"\n",
    "\n",
    "base_cmd = \"java -cp target/sim2apl-dhzw-simulation-1.0-SNAPSHOT-jar-with-dependencies.jar main.java.nl.uu.iss.ga.Simulation\" + \" \" + config + \" \" + modeliberal + \" \" + modeconservative + \" \" + output + \" \" + parametersPath\n",
    "\n",
    "# set current directory the folder of Sim2APL so I can execute the jar with the correct paths\n",
    "if(os.path.basename(os.getcwd()) != 'DHZW-simulation_Sim-2APL'):\n",
    "    new_directory = os.path.join(os.getcwd(), 'DHZW-simulation_Sim-2APL')\n",
    "    new_directory = new_directory.replace('\\\\', '/')\n",
    "    os.chdir(new_directory)"
   ]
  },
  {
   "cell_type": "markdown",
   "id": "fb4dd204",
   "metadata": {
    "pycharm": {
     "name": "#%% md\n"
    }
   },
   "source": [
    "### Main loop to call the simulations"
   ]
  },
  {
   "cell_type": "code",
   "execution_count": null,
   "id": "2ffde0c7",
   "metadata": {},
   "outputs": [],
   "source": [
    "idx_restart = 0 # in case somethings breaks it is easy to continue"
   ]
  },
  {
   "cell_type": "code",
   "execution_count": null,
   "id": "691245ea",
   "metadata": {
    "pycharm": {
     "name": "#%%\n"
    }
   },
   "outputs": [],
   "source": [
    "time_beginning_all = datetime.now()\n",
    "\n",
    "for idx, row in tqdm(table.iterrows(), total=table.shape[0]):\n",
    "    if idx >= idx_restart:\n",
    "        # repeat each parameter set 5 times\n",
    "        for iteration in range(0, 5):\n",
    "\n",
    "            # output file for this iteration\n",
    "            outputPath = f'--output_file=../output/iterations/output_proportions_{idx}.csv'\n",
    "            cmd = base_cmd + ' ' + outputPath\n",
    "            \n",
    "            # parameterset to use\n",
    "            arg = f'--parameterset_index={idx+1}'\n",
    "            full_command = f'{cmd} {arg}'\n",
    "            \n",
    "            time_beginning_iteration = datetime.now()\n",
    "            \n",
    "            print('parameter number: ' + str(idx) + ' - iteration: ' + str(iteration) + ' START || Time now: ' + time_beginning_iteration.strftime(\"%H:%M:%S\"))\n",
    "                                    \n",
    "            # Capture the output of the Java program\n",
    "            try:\n",
    "                output = subprocess.check_output(full_command, stderr=subprocess.STDOUT, universal_newlines=True)\n",
    "            except subprocess.CalledProcessError as e:\n",
    "                print(f\"Java program exited with non-zero return code: {e.returncode}\")\n",
    "                print(f\"Error message: {e.output}\")\n",
    "                exit(1)\n",
    "                \n",
    "            time_end_iteration = datetime.now()\n",
    "         \n",
    "            print('parameter number: ' + str(idx) + ' - iteration: ' + str(iteration) + ' END   || Time now: ' + time_end_iteration.strftime(\"%H:%M:%S\") + ' | Duration iteration: ' + calculate_elapsed_time(time_beginning_iteration, time_end_iteration) + ' | Elapsed from start: ' + calculate_elapsed_time(time_beginning_all, time_end_iteration))"
   ]
  }
 ],
 "metadata": {
  "kernelspec": {
   "display_name": "Python 3 (ipykernel)",
   "language": "python",
   "name": "python3"
  },
  "language_info": {
   "codemirror_mode": {
    "name": "ipython",
    "version": 3
   },
   "file_extension": ".py",
   "mimetype": "text/x-python",
   "name": "python",
   "nbconvert_exporter": "python",
   "pygments_lexer": "ipython3",
   "version": "3.9.12"
  }
 },
 "nbformat": 4,
 "nbformat_minor": 5
}
