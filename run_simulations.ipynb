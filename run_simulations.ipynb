{
 "cells": [
  {
   "cell_type": "code",
   "execution_count": 1,
   "id": "5d657528",
   "metadata": {
    "pycharm": {
     "name": "#%%\n"
    }
   },
   "outputs": [],
   "source": [
    "import subprocess\n",
    "import os\n",
    "import csv\n",
    "import pandas as pd\n",
    "from tqdm import tqdm\n",
    "from datetime import datetime"
   ]
  },
  {
   "cell_type": "code",
   "execution_count": 2,
   "id": "14bb3a7f",
   "metadata": {},
   "outputs": [],
   "source": [
    "# function to print elapsed time\n",
    "def calculate_elapsed_time(start_time, end_time):\n",
    "    elapsed_time = end_time - start_time\n",
    "    total_seconds = elapsed_time.total_seconds()\n",
    "    seconds = int(total_seconds % 60)\n",
    "    total_minutes = total_seconds // 60\n",
    "    minutes = int(total_minutes % 60)\n",
    "    hours = int(total_minutes // 60)\n",
    "    \n",
    "    seconds = str(seconds).zfill(2)\n",
    "    minutes = str(minutes).zfill(2)\n",
    "    hours = str(hours).zfill(2)\n",
    "\n",
    "    return str(hours) + ':' + str(minutes) + ':' + str(seconds)"
   ]
  },
  {
   "cell_type": "markdown",
   "id": "d64b03fc",
   "metadata": {
    "pycharm": {
     "name": "#%% md\n"
    }
   },
   "source": [
    "# Initialise"
   ]
  },
  {
   "cell_type": "markdown",
   "id": "f0d47600",
   "metadata": {
    "pycharm": {
     "name": "#%% md\n"
    }
   },
   "source": [
    "### Read parameter sets to simulate"
   ]
  },
  {
   "cell_type": "code",
   "execution_count": 3,
   "id": "9ee6af40",
   "metadata": {},
   "outputs": [
    {
     "data": {
      "text/html": [
       "<div>\n",
       "<style scoped>\n",
       "    .dataframe tbody tr th:only-of-type {\n",
       "        vertical-align: middle;\n",
       "    }\n",
       "\n",
       "    .dataframe tbody tr th {\n",
       "        vertical-align: top;\n",
       "    }\n",
       "\n",
       "    .dataframe thead th {\n",
       "        text-align: right;\n",
       "    }\n",
       "</style>\n",
       "<table border=\"1\" class=\"dataframe\">\n",
       "  <thead>\n",
       "    <tr style=\"text-align: right;\">\n",
       "      <th></th>\n",
       "      <th>alphaWalk</th>\n",
       "      <th>alphaBike</th>\n",
       "      <th>alphaCarDriver</th>\n",
       "      <th>alphaCarPassenger</th>\n",
       "      <th>alphaBus</th>\n",
       "      <th>alphaTrain</th>\n",
       "      <th>betaTimeWalk</th>\n",
       "      <th>betaTimeBike</th>\n",
       "      <th>betaTimeCarDriver</th>\n",
       "      <th>betaTimeCarPassenger</th>\n",
       "      <th>betaTimeBus</th>\n",
       "      <th>betaTimeTrain</th>\n",
       "      <th>betaCostCarDriver</th>\n",
       "      <th>betaCostCarPassenger</th>\n",
       "      <th>betaCostBus</th>\n",
       "      <th>betaCostTrain</th>\n",
       "      <th>betaTimeWalkTransport</th>\n",
       "      <th>betaChangesTransport</th>\n",
       "      <th>used_parameter_label</th>\n",
       "      <th>used_parameter_value</th>\n",
       "    </tr>\n",
       "  </thead>\n",
       "  <tbody>\n",
       "    <tr>\n",
       "      <th>0</th>\n",
       "      <td>-10</td>\n",
       "      <td>0</td>\n",
       "      <td>0</td>\n",
       "      <td>0</td>\n",
       "      <td>0</td>\n",
       "      <td>0</td>\n",
       "      <td>-0.04</td>\n",
       "      <td>-0.03</td>\n",
       "      <td>-0.02</td>\n",
       "      <td>-0.02</td>\n",
       "      <td>-0.02</td>\n",
       "      <td>-0.02</td>\n",
       "      <td>-0.15</td>\n",
       "      <td>-0.15</td>\n",
       "      <td>-0.1</td>\n",
       "      <td>-0.1</td>\n",
       "      <td>-0.03</td>\n",
       "      <td>-0.3</td>\n",
       "      <td>alphaWalk</td>\n",
       "      <td>-10</td>\n",
       "    </tr>\n",
       "    <tr>\n",
       "      <th>1</th>\n",
       "      <td>-8</td>\n",
       "      <td>0</td>\n",
       "      <td>0</td>\n",
       "      <td>0</td>\n",
       "      <td>0</td>\n",
       "      <td>0</td>\n",
       "      <td>-0.04</td>\n",
       "      <td>-0.03</td>\n",
       "      <td>-0.02</td>\n",
       "      <td>-0.02</td>\n",
       "      <td>-0.02</td>\n",
       "      <td>-0.02</td>\n",
       "      <td>-0.15</td>\n",
       "      <td>-0.15</td>\n",
       "      <td>-0.1</td>\n",
       "      <td>-0.1</td>\n",
       "      <td>-0.03</td>\n",
       "      <td>-0.3</td>\n",
       "      <td>alphaWalk</td>\n",
       "      <td>-8</td>\n",
       "    </tr>\n",
       "    <tr>\n",
       "      <th>2</th>\n",
       "      <td>-6</td>\n",
       "      <td>0</td>\n",
       "      <td>0</td>\n",
       "      <td>0</td>\n",
       "      <td>0</td>\n",
       "      <td>0</td>\n",
       "      <td>-0.04</td>\n",
       "      <td>-0.03</td>\n",
       "      <td>-0.02</td>\n",
       "      <td>-0.02</td>\n",
       "      <td>-0.02</td>\n",
       "      <td>-0.02</td>\n",
       "      <td>-0.15</td>\n",
       "      <td>-0.15</td>\n",
       "      <td>-0.1</td>\n",
       "      <td>-0.1</td>\n",
       "      <td>-0.03</td>\n",
       "      <td>-0.3</td>\n",
       "      <td>alphaWalk</td>\n",
       "      <td>-6</td>\n",
       "    </tr>\n",
       "    <tr>\n",
       "      <th>3</th>\n",
       "      <td>-4</td>\n",
       "      <td>0</td>\n",
       "      <td>0</td>\n",
       "      <td>0</td>\n",
       "      <td>0</td>\n",
       "      <td>0</td>\n",
       "      <td>-0.04</td>\n",
       "      <td>-0.03</td>\n",
       "      <td>-0.02</td>\n",
       "      <td>-0.02</td>\n",
       "      <td>-0.02</td>\n",
       "      <td>-0.02</td>\n",
       "      <td>-0.15</td>\n",
       "      <td>-0.15</td>\n",
       "      <td>-0.1</td>\n",
       "      <td>-0.1</td>\n",
       "      <td>-0.03</td>\n",
       "      <td>-0.3</td>\n",
       "      <td>alphaWalk</td>\n",
       "      <td>-4</td>\n",
       "    </tr>\n",
       "    <tr>\n",
       "      <th>4</th>\n",
       "      <td>-2</td>\n",
       "      <td>0</td>\n",
       "      <td>0</td>\n",
       "      <td>0</td>\n",
       "      <td>0</td>\n",
       "      <td>0</td>\n",
       "      <td>-0.04</td>\n",
       "      <td>-0.03</td>\n",
       "      <td>-0.02</td>\n",
       "      <td>-0.02</td>\n",
       "      <td>-0.02</td>\n",
       "      <td>-0.02</td>\n",
       "      <td>-0.15</td>\n",
       "      <td>-0.15</td>\n",
       "      <td>-0.1</td>\n",
       "      <td>-0.1</td>\n",
       "      <td>-0.03</td>\n",
       "      <td>-0.3</td>\n",
       "      <td>alphaWalk</td>\n",
       "      <td>-2</td>\n",
       "    </tr>\n",
       "    <tr>\n",
       "      <th>...</th>\n",
       "      <td>...</td>\n",
       "      <td>...</td>\n",
       "      <td>...</td>\n",
       "      <td>...</td>\n",
       "      <td>...</td>\n",
       "      <td>...</td>\n",
       "      <td>...</td>\n",
       "      <td>...</td>\n",
       "      <td>...</td>\n",
       "      <td>...</td>\n",
       "      <td>...</td>\n",
       "      <td>...</td>\n",
       "      <td>...</td>\n",
       "      <td>...</td>\n",
       "      <td>...</td>\n",
       "      <td>...</td>\n",
       "      <td>...</td>\n",
       "      <td>...</td>\n",
       "      <td>...</td>\n",
       "      <td>...</td>\n",
       "    </tr>\n",
       "    <tr>\n",
       "      <th>91</th>\n",
       "      <td>0</td>\n",
       "      <td>0</td>\n",
       "      <td>0</td>\n",
       "      <td>0</td>\n",
       "      <td>0</td>\n",
       "      <td>2</td>\n",
       "      <td>-0.04</td>\n",
       "      <td>-0.03</td>\n",
       "      <td>-0.02</td>\n",
       "      <td>-0.02</td>\n",
       "      <td>-0.02</td>\n",
       "      <td>-0.02</td>\n",
       "      <td>-0.15</td>\n",
       "      <td>-0.15</td>\n",
       "      <td>-0.1</td>\n",
       "      <td>-0.1</td>\n",
       "      <td>-0.03</td>\n",
       "      <td>-0.3</td>\n",
       "      <td>alphaTrain</td>\n",
       "      <td>2</td>\n",
       "    </tr>\n",
       "    <tr>\n",
       "      <th>92</th>\n",
       "      <td>0</td>\n",
       "      <td>0</td>\n",
       "      <td>0</td>\n",
       "      <td>0</td>\n",
       "      <td>0</td>\n",
       "      <td>4</td>\n",
       "      <td>-0.04</td>\n",
       "      <td>-0.03</td>\n",
       "      <td>-0.02</td>\n",
       "      <td>-0.02</td>\n",
       "      <td>-0.02</td>\n",
       "      <td>-0.02</td>\n",
       "      <td>-0.15</td>\n",
       "      <td>-0.15</td>\n",
       "      <td>-0.1</td>\n",
       "      <td>-0.1</td>\n",
       "      <td>-0.03</td>\n",
       "      <td>-0.3</td>\n",
       "      <td>alphaTrain</td>\n",
       "      <td>4</td>\n",
       "    </tr>\n",
       "    <tr>\n",
       "      <th>93</th>\n",
       "      <td>0</td>\n",
       "      <td>0</td>\n",
       "      <td>0</td>\n",
       "      <td>0</td>\n",
       "      <td>0</td>\n",
       "      <td>6</td>\n",
       "      <td>-0.04</td>\n",
       "      <td>-0.03</td>\n",
       "      <td>-0.02</td>\n",
       "      <td>-0.02</td>\n",
       "      <td>-0.02</td>\n",
       "      <td>-0.02</td>\n",
       "      <td>-0.15</td>\n",
       "      <td>-0.15</td>\n",
       "      <td>-0.1</td>\n",
       "      <td>-0.1</td>\n",
       "      <td>-0.03</td>\n",
       "      <td>-0.3</td>\n",
       "      <td>alphaTrain</td>\n",
       "      <td>6</td>\n",
       "    </tr>\n",
       "    <tr>\n",
       "      <th>94</th>\n",
       "      <td>0</td>\n",
       "      <td>0</td>\n",
       "      <td>0</td>\n",
       "      <td>0</td>\n",
       "      <td>0</td>\n",
       "      <td>8</td>\n",
       "      <td>-0.04</td>\n",
       "      <td>-0.03</td>\n",
       "      <td>-0.02</td>\n",
       "      <td>-0.02</td>\n",
       "      <td>-0.02</td>\n",
       "      <td>-0.02</td>\n",
       "      <td>-0.15</td>\n",
       "      <td>-0.15</td>\n",
       "      <td>-0.1</td>\n",
       "      <td>-0.1</td>\n",
       "      <td>-0.03</td>\n",
       "      <td>-0.3</td>\n",
       "      <td>alphaTrain</td>\n",
       "      <td>8</td>\n",
       "    </tr>\n",
       "    <tr>\n",
       "      <th>95</th>\n",
       "      <td>0</td>\n",
       "      <td>0</td>\n",
       "      <td>0</td>\n",
       "      <td>0</td>\n",
       "      <td>0</td>\n",
       "      <td>10</td>\n",
       "      <td>-0.04</td>\n",
       "      <td>-0.03</td>\n",
       "      <td>-0.02</td>\n",
       "      <td>-0.02</td>\n",
       "      <td>-0.02</td>\n",
       "      <td>-0.02</td>\n",
       "      <td>-0.15</td>\n",
       "      <td>-0.15</td>\n",
       "      <td>-0.1</td>\n",
       "      <td>-0.1</td>\n",
       "      <td>-0.03</td>\n",
       "      <td>-0.3</td>\n",
       "      <td>alphaTrain</td>\n",
       "      <td>10</td>\n",
       "    </tr>\n",
       "  </tbody>\n",
       "</table>\n",
       "<p>96 rows × 20 columns</p>\n",
       "</div>"
      ],
      "text/plain": [
       "    alphaWalk  alphaBike  alphaCarDriver  alphaCarPassenger  alphaBus  \\\n",
       "0         -10          0               0                  0         0   \n",
       "1          -8          0               0                  0         0   \n",
       "2          -6          0               0                  0         0   \n",
       "3          -4          0               0                  0         0   \n",
       "4          -2          0               0                  0         0   \n",
       "..        ...        ...             ...                ...       ...   \n",
       "91          0          0               0                  0         0   \n",
       "92          0          0               0                  0         0   \n",
       "93          0          0               0                  0         0   \n",
       "94          0          0               0                  0         0   \n",
       "95          0          0               0                  0         0   \n",
       "\n",
       "    alphaTrain  betaTimeWalk  betaTimeBike  betaTimeCarDriver  \\\n",
       "0            0         -0.04         -0.03              -0.02   \n",
       "1            0         -0.04         -0.03              -0.02   \n",
       "2            0         -0.04         -0.03              -0.02   \n",
       "3            0         -0.04         -0.03              -0.02   \n",
       "4            0         -0.04         -0.03              -0.02   \n",
       "..         ...           ...           ...                ...   \n",
       "91           2         -0.04         -0.03              -0.02   \n",
       "92           4         -0.04         -0.03              -0.02   \n",
       "93           6         -0.04         -0.03              -0.02   \n",
       "94           8         -0.04         -0.03              -0.02   \n",
       "95          10         -0.04         -0.03              -0.02   \n",
       "\n",
       "    betaTimeCarPassenger  betaTimeBus  betaTimeTrain  betaCostCarDriver  \\\n",
       "0                  -0.02        -0.02          -0.02              -0.15   \n",
       "1                  -0.02        -0.02          -0.02              -0.15   \n",
       "2                  -0.02        -0.02          -0.02              -0.15   \n",
       "3                  -0.02        -0.02          -0.02              -0.15   \n",
       "4                  -0.02        -0.02          -0.02              -0.15   \n",
       "..                   ...          ...            ...                ...   \n",
       "91                 -0.02        -0.02          -0.02              -0.15   \n",
       "92                 -0.02        -0.02          -0.02              -0.15   \n",
       "93                 -0.02        -0.02          -0.02              -0.15   \n",
       "94                 -0.02        -0.02          -0.02              -0.15   \n",
       "95                 -0.02        -0.02          -0.02              -0.15   \n",
       "\n",
       "    betaCostCarPassenger  betaCostBus  betaCostTrain  betaTimeWalkTransport  \\\n",
       "0                  -0.15         -0.1           -0.1                  -0.03   \n",
       "1                  -0.15         -0.1           -0.1                  -0.03   \n",
       "2                  -0.15         -0.1           -0.1                  -0.03   \n",
       "3                  -0.15         -0.1           -0.1                  -0.03   \n",
       "4                  -0.15         -0.1           -0.1                  -0.03   \n",
       "..                   ...          ...            ...                    ...   \n",
       "91                 -0.15         -0.1           -0.1                  -0.03   \n",
       "92                 -0.15         -0.1           -0.1                  -0.03   \n",
       "93                 -0.15         -0.1           -0.1                  -0.03   \n",
       "94                 -0.15         -0.1           -0.1                  -0.03   \n",
       "95                 -0.15         -0.1           -0.1                  -0.03   \n",
       "\n",
       "    betaChangesTransport used_parameter_label  used_parameter_value  \n",
       "0                   -0.3            alphaWalk                   -10  \n",
       "1                   -0.3            alphaWalk                    -8  \n",
       "2                   -0.3            alphaWalk                    -6  \n",
       "3                   -0.3            alphaWalk                    -4  \n",
       "4                   -0.3            alphaWalk                    -2  \n",
       "..                   ...                  ...                   ...  \n",
       "91                  -0.3           alphaTrain                     2  \n",
       "92                  -0.3           alphaTrain                     4  \n",
       "93                  -0.3           alphaTrain                     6  \n",
       "94                  -0.3           alphaTrain                     8  \n",
       "95                  -0.3           alphaTrain                    10  \n",
       "\n",
       "[96 rows x 20 columns]"
      ]
     },
     "execution_count": 3,
     "metadata": {},
     "output_type": "execute_result"
    }
   ],
   "source": [
    "# read parameters to run\n",
    "table = pd.read_csv('data/parametersets_to_run.csv')\n",
    "table"
   ]
  },
  {
   "cell_type": "markdown",
   "id": "3c7df30e",
   "metadata": {
    "pycharm": {
     "name": "#%% md\n"
    }
   },
   "source": [
    "### Initialise empty the output dataframe"
   ]
  },
  {
   "cell_type": "code",
   "execution_count": 4,
   "id": "b9febd1a",
   "metadata": {
    "pycharm": {
     "name": "#%%\n"
    }
   },
   "outputs": [],
   "source": [
    "# Initialise dataframe for mode choice distributions (1 line = 1 distribution = 1 iteration)\n",
    "df = pd.DataFrame(columns=[\"CAR_DRIVER\", \"CAR_PASSENGER\", \"BIKE\", \"BUS_TRAM\", \"TRAIN\", \"WALK\"])\n",
    "\n",
    "for i in range(0, len(table)):\n",
    "    df.to_csv(\"output/iterations/output_proportions_\" + str(i) + \".csv\", index=False)"
   ]
  },
  {
   "cell_type": "markdown",
   "id": "cc1fd03f",
   "metadata": {
    "pycharm": {
     "name": "#%% md\n"
    }
   },
   "source": [
    "# Call Sim2APL iteratively"
   ]
  },
  {
   "cell_type": "markdown",
   "id": "0274dc6a",
   "metadata": {
    "pycharm": {
     "name": "#%% md\n"
    }
   },
   "source": [
    "### Prepare the Java command"
   ]
  },
  {
   "cell_type": "code",
   "execution_count": 5,
   "id": "2c2c0040",
   "metadata": {
    "pycharm": {
     "name": "#%%\n"
    }
   },
   "outputs": [],
   "source": [
    "# baseline of the Java command\n",
    "config = \"--config src/main/resources/config_DHZW_full.toml\"\n",
    "modeliberal = \"--mode-liberal 0.5\"\n",
    "modeconservative = \"--mode-conservative 0.5\"\n",
    "output = \"-o output/deskrun\"\n",
    "parametersPath = \"--parameter_file ../data/parametersets_to_run.csv\"\n",
    "\n",
    "base_cmd = \"java -cp target/sim2apl-dhzw-simulation-1.0-SNAPSHOT-jar-with-dependencies.jar main.java.nl.uu.iss.ga.Simulation\" + \" \" + config + \" \" + modeliberal + \" \" + modeconservative + \" \" + output + \" \" + parametersPath\n",
    "\n",
    "# set current directory the folder of Sim2APL so I can execute the jar with the correct paths\n",
    "if(os.path.basename(os.getcwd()) != 'DHZW-simulation_Sim-2APL'):\n",
    "    new_directory = os.path.join(os.getcwd(), 'DHZW-simulation_Sim-2APL')\n",
    "    new_directory = new_directory.replace('\\\\', '/')\n",
    "    os.chdir(new_directory)"
   ]
  },
  {
   "cell_type": "markdown",
   "id": "fb4dd204",
   "metadata": {
    "pycharm": {
     "name": "#%% md\n"
    }
   },
   "source": [
    "### Main loop to call the simulations"
   ]
  },
  {
   "cell_type": "code",
   "execution_count": 6,
   "id": "2ffde0c7",
   "metadata": {},
   "outputs": [],
   "source": [
    "idx_restart = 0 # in case somethings breaks it is easy to continue"
   ]
  },
  {
   "cell_type": "code",
   "execution_count": 7,
   "id": "691245ea",
   "metadata": {
    "pycharm": {
     "name": "#%%\n"
    }
   },
   "outputs": [
    {
     "name": "stderr",
     "output_type": "stream",
     "text": [
      "\r",
      "  0%|                                                                                           | 0/96 [00:00<?, ?it/s]"
     ]
    },
    {
     "name": "stdout",
     "output_type": "stream",
     "text": [
      "parameter number: 0 - iteration: 0 START || Time now: 12:28:40\n",
      "parameter number: 0 - iteration: 0 END   || Time now: 12:30:18 | Duration iteration: 00:01:38 | Elapsed from start: 00:01:39\n",
      "parameter number: 0 - iteration: 1 START || Time now: 12:30:18\n",
      "parameter number: 0 - iteration: 1 END   || Time now: 12:30:44 | Duration iteration: 00:00:26 | Elapsed from start: 00:02:05\n",
      "parameter number: 0 - iteration: 2 START || Time now: 12:30:44\n",
      "parameter number: 0 - iteration: 2 END   || Time now: 12:31:11 | Duration iteration: 00:00:26 | Elapsed from start: 00:02:32\n",
      "parameter number: 0 - iteration: 3 START || Time now: 12:31:11\n",
      "parameter number: 0 - iteration: 3 END   || Time now: 12:31:39 | Duration iteration: 00:00:27 | Elapsed from start: 00:02:59\n",
      "parameter number: 0 - iteration: 4 START || Time now: 12:31:39\n"
     ]
    },
    {
     "name": "stderr",
     "output_type": "stream",
     "text": [
      "\r",
      "  1%|▊                                                                               | 1/96 [03:23<5:22:03, 203.40s/it]"
     ]
    },
    {
     "name": "stdout",
     "output_type": "stream",
     "text": [
      "parameter number: 0 - iteration: 4 END   || Time now: 12:32:03 | Duration iteration: 00:00:24 | Elapsed from start: 00:03:24\n",
      "parameter number: 1 - iteration: 0 START || Time now: 12:32:03\n",
      "parameter number: 1 - iteration: 0 END   || Time now: 12:32:32 | Duration iteration: 00:00:28 | Elapsed from start: 00:03:52\n",
      "parameter number: 1 - iteration: 1 START || Time now: 12:32:32\n",
      "parameter number: 1 - iteration: 1 END   || Time now: 12:33:00 | Duration iteration: 00:00:28 | Elapsed from start: 00:04:21\n",
      "parameter number: 1 - iteration: 2 START || Time now: 12:33:00\n",
      "parameter number: 1 - iteration: 2 END   || Time now: 12:33:32 | Duration iteration: 00:00:31 | Elapsed from start: 00:04:52\n",
      "parameter number: 1 - iteration: 3 START || Time now: 12:33:32\n",
      "parameter number: 1 - iteration: 3 END   || Time now: 12:33:59 | Duration iteration: 00:00:27 | Elapsed from start: 00:05:20\n",
      "parameter number: 1 - iteration: 4 START || Time now: 12:33:59\n"
     ]
    },
    {
     "name": "stderr",
     "output_type": "stream",
     "text": [
      "\r",
      "  2%|█▋                                                                              | 2/96 [05:47<4:23:42, 168.32s/it]"
     ]
    },
    {
     "name": "stdout",
     "output_type": "stream",
     "text": [
      "parameter number: 1 - iteration: 4 END   || Time now: 12:34:27 | Duration iteration: 00:00:27 | Elapsed from start: 00:05:48\n",
      "parameter number: 2 - iteration: 0 START || Time now: 12:34:27\n",
      "parameter number: 2 - iteration: 0 END   || Time now: 12:34:55 | Duration iteration: 00:00:28 | Elapsed from start: 00:06:16\n",
      "parameter number: 2 - iteration: 1 START || Time now: 12:34:55\n",
      "parameter number: 2 - iteration: 1 END   || Time now: 12:35:21 | Duration iteration: 00:00:25 | Elapsed from start: 00:06:42\n",
      "parameter number: 2 - iteration: 2 START || Time now: 12:35:21\n",
      "parameter number: 2 - iteration: 2 END   || Time now: 12:35:53 | Duration iteration: 00:00:31 | Elapsed from start: 00:07:13\n",
      "parameter number: 2 - iteration: 3 START || Time now: 12:35:53\n",
      "parameter number: 2 - iteration: 3 END   || Time now: 12:36:20 | Duration iteration: 00:00:27 | Elapsed from start: 00:07:41\n",
      "parameter number: 2 - iteration: 4 START || Time now: 12:36:20\n"
     ]
    },
    {
     "name": "stderr",
     "output_type": "stream",
     "text": [
      "\r",
      "  3%|██▌                                                                             | 3/96 [08:03<3:58:29, 153.87s/it]"
     ]
    },
    {
     "name": "stdout",
     "output_type": "stream",
     "text": [
      "parameter number: 2 - iteration: 4 END   || Time now: 12:36:44 | Duration iteration: 00:00:23 | Elapsed from start: 00:08:04\n",
      "parameter number: 3 - iteration: 0 START || Time now: 12:36:44\n",
      "parameter number: 3 - iteration: 0 END   || Time now: 12:37:10 | Duration iteration: 00:00:25 | Elapsed from start: 00:08:30\n",
      "parameter number: 3 - iteration: 1 START || Time now: 12:37:10\n",
      "parameter number: 3 - iteration: 1 END   || Time now: 12:37:35 | Duration iteration: 00:00:25 | Elapsed from start: 00:08:56\n",
      "parameter number: 3 - iteration: 2 START || Time now: 12:37:35\n",
      "parameter number: 3 - iteration: 2 END   || Time now: 12:38:03 | Duration iteration: 00:00:27 | Elapsed from start: 00:09:24\n",
      "parameter number: 3 - iteration: 3 START || Time now: 12:38:03\n",
      "parameter number: 3 - iteration: 3 END   || Time now: 12:38:39 | Duration iteration: 00:00:35 | Elapsed from start: 00:09:59\n",
      "parameter number: 3 - iteration: 4 START || Time now: 12:38:39\n"
     ]
    },
    {
     "name": "stderr",
     "output_type": "stream",
     "text": [
      "\r",
      "  4%|███▎                                                                            | 4/96 [10:22<3:46:33, 147.75s/it]"
     ]
    },
    {
     "name": "stdout",
     "output_type": "stream",
     "text": [
      "parameter number: 3 - iteration: 4 END   || Time now: 12:39:02 | Duration iteration: 00:00:23 | Elapsed from start: 00:10:23\n",
      "parameter number: 4 - iteration: 0 START || Time now: 12:39:02\n",
      "parameter number: 4 - iteration: 0 END   || Time now: 12:39:27 | Duration iteration: 00:00:25 | Elapsed from start: 00:10:48\n",
      "parameter number: 4 - iteration: 1 START || Time now: 12:39:27\n",
      "parameter number: 4 - iteration: 1 END   || Time now: 12:39:51 | Duration iteration: 00:00:23 | Elapsed from start: 00:11:11\n",
      "parameter number: 4 - iteration: 2 START || Time now: 12:39:51\n",
      "parameter number: 4 - iteration: 2 END   || Time now: 12:40:14 | Duration iteration: 00:00:23 | Elapsed from start: 00:11:35\n",
      "parameter number: 4 - iteration: 3 START || Time now: 12:40:14\n",
      "parameter number: 4 - iteration: 3 END   || Time now: 12:40:40 | Duration iteration: 00:00:25 | Elapsed from start: 00:12:00\n",
      "parameter number: 4 - iteration: 4 START || Time now: 12:40:40\n"
     ]
    },
    {
     "name": "stderr",
     "output_type": "stream",
     "text": [
      "\r",
      "  5%|████▏                                                                           | 5/96 [12:26<3:31:04, 139.17s/it]"
     ]
    },
    {
     "name": "stdout",
     "output_type": "stream",
     "text": [
      "parameter number: 4 - iteration: 4 END   || Time now: 12:41:06 | Duration iteration: 00:00:26 | Elapsed from start: 00:12:27\n",
      "parameter number: 5 - iteration: 0 START || Time now: 12:41:06\n",
      "parameter number: 5 - iteration: 0 END   || Time now: 12:41:32 | Duration iteration: 00:00:25 | Elapsed from start: 00:12:52\n",
      "parameter number: 5 - iteration: 1 START || Time now: 12:41:32\n",
      "parameter number: 5 - iteration: 1 END   || Time now: 12:41:59 | Duration iteration: 00:00:27 | Elapsed from start: 00:13:19\n",
      "parameter number: 5 - iteration: 2 START || Time now: 12:41:59\n",
      "parameter number: 5 - iteration: 2 END   || Time now: 12:42:22 | Duration iteration: 00:00:23 | Elapsed from start: 00:13:43\n",
      "parameter number: 5 - iteration: 3 START || Time now: 12:42:22\n",
      "parameter number: 5 - iteration: 3 END   || Time now: 12:42:46 | Duration iteration: 00:00:23 | Elapsed from start: 00:14:06\n",
      "parameter number: 5 - iteration: 4 START || Time now: 12:42:46\n"
     ]
    },
    {
     "name": "stderr",
     "output_type": "stream",
     "text": [
      "\r",
      "  6%|█████                                                                           | 6/96 [14:28<3:20:17, 133.53s/it]"
     ]
    },
    {
     "name": "stdout",
     "output_type": "stream",
     "text": [
      "parameter number: 5 - iteration: 4 END   || Time now: 12:43:09 | Duration iteration: 00:00:23 | Elapsed from start: 00:14:29\n",
      "parameter number: 6 - iteration: 0 START || Time now: 12:43:09\n",
      "parameter number: 6 - iteration: 0 END   || Time now: 12:43:34 | Duration iteration: 00:00:25 | Elapsed from start: 00:14:55\n",
      "parameter number: 6 - iteration: 1 START || Time now: 12:43:34\n",
      "parameter number: 6 - iteration: 1 END   || Time now: 12:43:58 | Duration iteration: 00:00:23 | Elapsed from start: 00:15:18\n",
      "parameter number: 6 - iteration: 2 START || Time now: 12:43:58\n",
      "parameter number: 6 - iteration: 2 END   || Time now: 12:44:28 | Duration iteration: 00:00:30 | Elapsed from start: 00:15:48\n",
      "parameter number: 6 - iteration: 3 START || Time now: 12:44:28\n",
      "parameter number: 6 - iteration: 3 END   || Time now: 12:44:53 | Duration iteration: 00:00:24 | Elapsed from start: 00:16:13\n",
      "parameter number: 6 - iteration: 4 START || Time now: 12:44:53\n"
     ]
    },
    {
     "name": "stderr",
     "output_type": "stream",
     "text": [
      "\r",
      "  7%|█████▊                                                                          | 7/96 [16:38<3:16:01, 132.15s/it]"
     ]
    },
    {
     "name": "stdout",
     "output_type": "stream",
     "text": [
      "parameter number: 6 - iteration: 4 END   || Time now: 12:45:18 | Duration iteration: 00:00:25 | Elapsed from start: 00:16:39\n",
      "parameter number: 7 - iteration: 0 START || Time now: 12:45:18\n",
      "parameter number: 7 - iteration: 0 END   || Time now: 12:45:42 | Duration iteration: 00:00:23 | Elapsed from start: 00:17:02\n",
      "parameter number: 7 - iteration: 1 START || Time now: 12:45:42\n",
      "parameter number: 7 - iteration: 1 END   || Time now: 12:46:05 | Duration iteration: 00:00:23 | Elapsed from start: 00:17:26\n",
      "parameter number: 7 - iteration: 2 START || Time now: 12:46:05\n",
      "parameter number: 7 - iteration: 2 END   || Time now: 12:46:28 | Duration iteration: 00:00:23 | Elapsed from start: 00:17:49\n",
      "parameter number: 7 - iteration: 3 START || Time now: 12:46:28\n",
      "parameter number: 7 - iteration: 3 END   || Time now: 12:46:52 | Duration iteration: 00:00:23 | Elapsed from start: 00:18:12\n",
      "parameter number: 7 - iteration: 4 START || Time now: 12:46:52\n"
     ]
    },
    {
     "name": "stderr",
     "output_type": "stream",
     "text": [
      "\r",
      "  8%|██████▋                                                                         | 8/96 [18:35<3:06:44, 127.32s/it]"
     ]
    },
    {
     "name": "stdout",
     "output_type": "stream",
     "text": [
      "parameter number: 7 - iteration: 4 END   || Time now: 12:47:15 | Duration iteration: 00:00:23 | Elapsed from start: 00:18:36\n",
      "parameter number: 8 - iteration: 0 START || Time now: 12:47:15\n",
      "parameter number: 8 - iteration: 0 END   || Time now: 12:47:38 | Duration iteration: 00:00:23 | Elapsed from start: 00:18:59\n",
      "parameter number: 8 - iteration: 1 START || Time now: 12:47:38\n",
      "parameter number: 8 - iteration: 1 END   || Time now: 12:48:03 | Duration iteration: 00:00:24 | Elapsed from start: 00:19:23\n",
      "parameter number: 8 - iteration: 2 START || Time now: 12:48:03\n",
      "parameter number: 8 - iteration: 2 END   || Time now: 12:48:28 | Duration iteration: 00:00:24 | Elapsed from start: 00:19:48\n",
      "parameter number: 8 - iteration: 3 START || Time now: 12:48:28\n",
      "parameter number: 8 - iteration: 3 END   || Time now: 12:48:51 | Duration iteration: 00:00:23 | Elapsed from start: 00:20:11\n",
      "parameter number: 8 - iteration: 4 START || Time now: 12:48:51\n"
     ]
    },
    {
     "name": "stderr",
     "output_type": "stream",
     "text": [
      "\r",
      "  9%|███████▌                                                                        | 9/96 [20:33<3:00:39, 124.60s/it]"
     ]
    },
    {
     "name": "stdout",
     "output_type": "stream",
     "text": [
      "parameter number: 8 - iteration: 4 END   || Time now: 12:49:14 | Duration iteration: 00:00:23 | Elapsed from start: 00:20:34\n",
      "parameter number: 9 - iteration: 0 START || Time now: 12:49:14\n",
      "parameter number: 9 - iteration: 0 END   || Time now: 12:49:37 | Duration iteration: 00:00:23 | Elapsed from start: 00:20:57\n",
      "parameter number: 9 - iteration: 1 START || Time now: 12:49:37\n",
      "parameter number: 9 - iteration: 1 END   || Time now: 12:50:01 | Duration iteration: 00:00:24 | Elapsed from start: 00:21:22\n",
      "parameter number: 9 - iteration: 2 START || Time now: 12:50:01\n",
      "parameter number: 9 - iteration: 2 END   || Time now: 12:50:26 | Duration iteration: 00:00:25 | Elapsed from start: 00:21:47\n",
      "parameter number: 9 - iteration: 3 START || Time now: 12:50:26\n",
      "parameter number: 9 - iteration: 3 END   || Time now: 12:50:52 | Duration iteration: 00:00:25 | Elapsed from start: 00:22:12\n",
      "parameter number: 9 - iteration: 4 START || Time now: 12:50:52\n"
     ]
    },
    {
     "name": "stderr",
     "output_type": "stream",
     "text": [
      "\r",
      " 10%|████████▏                                                                      | 10/96 [22:37<2:58:13, 124.35s/it]"
     ]
    },
    {
     "name": "stdout",
     "output_type": "stream",
     "text": [
      "parameter number: 9 - iteration: 4 END   || Time now: 12:51:17 | Duration iteration: 00:00:25 | Elapsed from start: 00:22:38\n",
      "parameter number: 10 - iteration: 0 START || Time now: 12:51:17\n",
      "parameter number: 10 - iteration: 0 END   || Time now: 12:51:40 | Duration iteration: 00:00:23 | Elapsed from start: 00:23:01\n",
      "parameter number: 10 - iteration: 1 START || Time now: 12:51:40\n",
      "parameter number: 10 - iteration: 1 END   || Time now: 12:52:06 | Duration iteration: 00:00:25 | Elapsed from start: 00:23:26\n",
      "parameter number: 10 - iteration: 2 START || Time now: 12:52:06\n",
      "parameter number: 10 - iteration: 2 END   || Time now: 12:52:28 | Duration iteration: 00:00:22 | Elapsed from start: 00:23:49\n",
      "parameter number: 10 - iteration: 3 START || Time now: 12:52:28\n",
      "parameter number: 10 - iteration: 3 END   || Time now: 12:52:52 | Duration iteration: 00:00:23 | Elapsed from start: 00:24:12\n",
      "parameter number: 10 - iteration: 4 START || Time now: 12:52:52\n"
     ]
    },
    {
     "name": "stderr",
     "output_type": "stream",
     "text": [
      "\r",
      " 11%|█████████                                                                      | 11/96 [24:34<2:53:03, 122.15s/it]"
     ]
    },
    {
     "name": "stdout",
     "output_type": "stream",
     "text": [
      "parameter number: 10 - iteration: 4 END   || Time now: 12:53:15 | Duration iteration: 00:00:22 | Elapsed from start: 00:24:35\n",
      "parameter number: 11 - iteration: 0 START || Time now: 12:53:15\n",
      "parameter number: 11 - iteration: 0 END   || Time now: 12:53:38 | Duration iteration: 00:00:22 | Elapsed from start: 00:24:58\n",
      "parameter number: 11 - iteration: 1 START || Time now: 12:53:38\n",
      "parameter number: 11 - iteration: 1 END   || Time now: 12:54:00 | Duration iteration: 00:00:22 | Elapsed from start: 00:25:21\n",
      "parameter number: 11 - iteration: 2 START || Time now: 12:54:00\n",
      "parameter number: 11 - iteration: 2 END   || Time now: 12:54:24 | Duration iteration: 00:00:23 | Elapsed from start: 00:25:44\n",
      "parameter number: 11 - iteration: 3 START || Time now: 12:54:24\n",
      "parameter number: 11 - iteration: 3 END   || Time now: 12:54:49 | Duration iteration: 00:00:24 | Elapsed from start: 00:26:09\n",
      "parameter number: 11 - iteration: 4 START || Time now: 12:54:49\n"
     ]
    },
    {
     "name": "stderr",
     "output_type": "stream",
     "text": [
      "\r",
      " 12%|█████████▉                                                                     | 12/96 [26:31<2:48:48, 120.58s/it]"
     ]
    },
    {
     "name": "stdout",
     "output_type": "stream",
     "text": [
      "parameter number: 11 - iteration: 4 END   || Time now: 12:55:12 | Duration iteration: 00:00:23 | Elapsed from start: 00:26:32\n",
      "parameter number: 12 - iteration: 0 START || Time now: 12:55:12\n",
      "parameter number: 12 - iteration: 0 END   || Time now: 12:55:34 | Duration iteration: 00:00:22 | Elapsed from start: 00:26:55\n",
      "parameter number: 12 - iteration: 1 START || Time now: 12:55:34\n",
      "parameter number: 12 - iteration: 1 END   || Time now: 12:56:00 | Duration iteration: 00:00:25 | Elapsed from start: 00:27:21\n",
      "parameter number: 12 - iteration: 2 START || Time now: 12:56:00\n",
      "parameter number: 12 - iteration: 2 END   || Time now: 12:56:23 | Duration iteration: 00:00:23 | Elapsed from start: 00:27:44\n",
      "parameter number: 12 - iteration: 3 START || Time now: 12:56:23\n",
      "parameter number: 12 - iteration: 3 END   || Time now: 12:56:46 | Duration iteration: 00:00:23 | Elapsed from start: 00:28:07\n",
      "parameter number: 12 - iteration: 4 START || Time now: 12:56:46\n"
     ]
    },
    {
     "name": "stderr",
     "output_type": "stream",
     "text": [
      "\r",
      " 14%|██████████▋                                                                    | 13/96 [28:29<2:45:40, 119.77s/it]"
     ]
    },
    {
     "name": "stdout",
     "output_type": "stream",
     "text": [
      "parameter number: 12 - iteration: 4 END   || Time now: 12:57:10 | Duration iteration: 00:00:23 | Elapsed from start: 00:28:30\n",
      "parameter number: 13 - iteration: 0 START || Time now: 12:57:10\n",
      "parameter number: 13 - iteration: 0 END   || Time now: 12:57:32 | Duration iteration: 00:00:22 | Elapsed from start: 00:28:53\n",
      "parameter number: 13 - iteration: 1 START || Time now: 12:57:32\n",
      "parameter number: 13 - iteration: 1 END   || Time now: 12:57:55 | Duration iteration: 00:00:22 | Elapsed from start: 00:29:16\n",
      "parameter number: 13 - iteration: 2 START || Time now: 12:57:55\n",
      "parameter number: 13 - iteration: 2 END   || Time now: 12:58:20 | Duration iteration: 00:00:24 | Elapsed from start: 00:29:40\n",
      "parameter number: 13 - iteration: 3 START || Time now: 12:58:20\n",
      "parameter number: 13 - iteration: 3 END   || Time now: 12:58:43 | Duration iteration: 00:00:23 | Elapsed from start: 00:30:04\n",
      "parameter number: 13 - iteration: 4 START || Time now: 12:58:43\n"
     ]
    },
    {
     "name": "stderr",
     "output_type": "stream",
     "text": [
      "\r",
      " 15%|███████████▌                                                                   | 14/96 [30:27<2:43:08, 119.37s/it]"
     ]
    },
    {
     "name": "stdout",
     "output_type": "stream",
     "text": [
      "parameter number: 13 - iteration: 4 END   || Time now: 12:59:08 | Duration iteration: 00:00:24 | Elapsed from start: 00:30:28\n",
      "parameter number: 14 - iteration: 0 START || Time now: 12:59:08\n",
      "parameter number: 14 - iteration: 0 END   || Time now: 12:59:31 | Duration iteration: 00:00:23 | Elapsed from start: 00:30:52\n",
      "parameter number: 14 - iteration: 1 START || Time now: 12:59:31\n",
      "parameter number: 14 - iteration: 1 END   || Time now: 12:59:55 | Duration iteration: 00:00:23 | Elapsed from start: 00:31:15\n",
      "parameter number: 14 - iteration: 2 START || Time now: 12:59:55\n",
      "parameter number: 14 - iteration: 2 END   || Time now: 13:00:18 | Duration iteration: 00:00:23 | Elapsed from start: 00:31:39\n",
      "parameter number: 14 - iteration: 3 START || Time now: 13:00:18\n",
      "parameter number: 14 - iteration: 3 END   || Time now: 13:00:41 | Duration iteration: 00:00:22 | Elapsed from start: 00:32:01\n",
      "parameter number: 14 - iteration: 4 START || Time now: 13:00:41\n"
     ]
    },
    {
     "name": "stderr",
     "output_type": "stream",
     "text": [
      "\r",
      " 16%|████████████▎                                                                  | 15/96 [32:25<2:40:26, 118.85s/it]"
     ]
    },
    {
     "name": "stdout",
     "output_type": "stream",
     "text": [
      "parameter number: 14 - iteration: 4 END   || Time now: 13:01:06 | Duration iteration: 00:00:25 | Elapsed from start: 00:32:26\n",
      "parameter number: 15 - iteration: 0 START || Time now: 13:01:06\n",
      "parameter number: 15 - iteration: 0 END   || Time now: 13:01:31 | Duration iteration: 00:00:25 | Elapsed from start: 00:32:51\n",
      "parameter number: 15 - iteration: 1 START || Time now: 13:01:31\n",
      "parameter number: 15 - iteration: 1 END   || Time now: 13:01:53 | Duration iteration: 00:00:22 | Elapsed from start: 00:33:14\n",
      "parameter number: 15 - iteration: 2 START || Time now: 13:01:53\n",
      "parameter number: 15 - iteration: 2 END   || Time now: 13:02:15 | Duration iteration: 00:00:22 | Elapsed from start: 00:33:36\n",
      "parameter number: 15 - iteration: 3 START || Time now: 13:02:15\n",
      "parameter number: 15 - iteration: 3 END   || Time now: 13:02:38 | Duration iteration: 00:00:22 | Elapsed from start: 00:33:59\n",
      "parameter number: 15 - iteration: 4 START || Time now: 13:02:38\n"
     ]
    },
    {
     "name": "stderr",
     "output_type": "stream",
     "text": [
      "\r",
      " 17%|█████████████▏                                                                 | 16/96 [34:20<2:37:02, 117.79s/it]"
     ]
    },
    {
     "name": "stdout",
     "output_type": "stream",
     "text": [
      "parameter number: 15 - iteration: 4 END   || Time now: 13:03:01 | Duration iteration: 00:00:22 | Elapsed from start: 00:34:21\n",
      "parameter number: 16 - iteration: 0 START || Time now: 13:03:01\n",
      "parameter number: 16 - iteration: 0 END   || Time now: 13:03:23 | Duration iteration: 00:00:22 | Elapsed from start: 00:34:44\n",
      "parameter number: 16 - iteration: 1 START || Time now: 13:03:23\n",
      "parameter number: 16 - iteration: 1 END   || Time now: 13:03:49 | Duration iteration: 00:00:25 | Elapsed from start: 00:35:09\n",
      "parameter number: 16 - iteration: 2 START || Time now: 13:03:49\n",
      "parameter number: 16 - iteration: 2 END   || Time now: 13:04:11 | Duration iteration: 00:00:22 | Elapsed from start: 00:35:31\n",
      "parameter number: 16 - iteration: 3 START || Time now: 13:04:11\n",
      "parameter number: 16 - iteration: 3 END   || Time now: 13:04:34 | Duration iteration: 00:00:23 | Elapsed from start: 00:35:55\n",
      "parameter number: 16 - iteration: 4 START || Time now: 13:04:34\n"
     ]
    },
    {
     "name": "stderr",
     "output_type": "stream",
     "text": [
      "\r",
      " 18%|█████████████▉                                                                 | 17/96 [36:16<2:34:09, 117.09s/it]"
     ]
    },
    {
     "name": "stdout",
     "output_type": "stream",
     "text": [
      "parameter number: 16 - iteration: 4 END   || Time now: 13:04:56 | Duration iteration: 00:00:22 | Elapsed from start: 00:36:17\n",
      "parameter number: 17 - iteration: 0 START || Time now: 13:04:56\n",
      "parameter number: 17 - iteration: 0 END   || Time now: 13:05:19 | Duration iteration: 00:00:22 | Elapsed from start: 00:36:39\n",
      "parameter number: 17 - iteration: 1 START || Time now: 13:05:19\n",
      "parameter number: 17 - iteration: 1 END   || Time now: 13:05:42 | Duration iteration: 00:00:22 | Elapsed from start: 00:37:02\n",
      "parameter number: 17 - iteration: 2 START || Time now: 13:05:42\n",
      "parameter number: 17 - iteration: 2 END   || Time now: 13:06:06 | Duration iteration: 00:00:24 | Elapsed from start: 00:37:27\n",
      "parameter number: 17 - iteration: 3 START || Time now: 13:06:06\n",
      "parameter number: 17 - iteration: 3 END   || Time now: 13:06:32 | Duration iteration: 00:00:25 | Elapsed from start: 00:37:52\n",
      "parameter number: 17 - iteration: 4 START || Time now: 13:06:32\n"
     ]
    },
    {
     "name": "stderr",
     "output_type": "stream",
     "text": [
      "\r",
      " 19%|██████████████▊                                                                | 18/96 [38:16<2:33:17, 117.91s/it]"
     ]
    },
    {
     "name": "stdout",
     "output_type": "stream",
     "text": [
      "parameter number: 17 - iteration: 4 END   || Time now: 13:06:56 | Duration iteration: 00:00:24 | Elapsed from start: 00:38:17\n",
      "parameter number: 18 - iteration: 0 START || Time now: 13:06:56\n",
      "parameter number: 18 - iteration: 0 END   || Time now: 13:07:21 | Duration iteration: 00:00:25 | Elapsed from start: 00:38:42\n",
      "parameter number: 18 - iteration: 1 START || Time now: 13:07:21\n",
      "parameter number: 18 - iteration: 1 END   || Time now: 13:07:44 | Duration iteration: 00:00:22 | Elapsed from start: 00:39:04\n",
      "parameter number: 18 - iteration: 2 START || Time now: 13:07:44\n",
      "parameter number: 18 - iteration: 2 END   || Time now: 13:08:07 | Duration iteration: 00:00:23 | Elapsed from start: 00:39:28\n",
      "parameter number: 18 - iteration: 3 START || Time now: 13:08:07\n",
      "parameter number: 18 - iteration: 3 END   || Time now: 13:08:30 | Duration iteration: 00:00:22 | Elapsed from start: 00:39:50\n",
      "parameter number: 18 - iteration: 4 START || Time now: 13:08:30\n"
     ]
    },
    {
     "name": "stderr",
     "output_type": "stream",
     "text": [
      "\r",
      " 20%|███████████████▋                                                               | 19/96 [40:14<2:31:36, 118.14s/it]"
     ]
    },
    {
     "name": "stdout",
     "output_type": "stream",
     "text": [
      "parameter number: 18 - iteration: 4 END   || Time now: 13:08:55 | Duration iteration: 00:00:25 | Elapsed from start: 00:40:15\n",
      "parameter number: 19 - iteration: 0 START || Time now: 13:08:55\n",
      "parameter number: 19 - iteration: 0 END   || Time now: 13:09:18 | Duration iteration: 00:00:23 | Elapsed from start: 00:40:39\n",
      "parameter number: 19 - iteration: 1 START || Time now: 13:09:18\n",
      "parameter number: 19 - iteration: 1 END   || Time now: 13:09:41 | Duration iteration: 00:00:22 | Elapsed from start: 00:41:01\n",
      "parameter number: 19 - iteration: 2 START || Time now: 13:09:41\n",
      "parameter number: 19 - iteration: 2 END   || Time now: 13:10:04 | Duration iteration: 00:00:23 | Elapsed from start: 00:41:25\n",
      "parameter number: 19 - iteration: 3 START || Time now: 13:10:04\n",
      "parameter number: 19 - iteration: 3 END   || Time now: 13:10:30 | Duration iteration: 00:00:25 | Elapsed from start: 00:41:50\n",
      "parameter number: 19 - iteration: 4 START || Time now: 13:10:30\n"
     ]
    },
    {
     "name": "stderr",
     "output_type": "stream",
     "text": [
      "\r",
      " 21%|████████████████▍                                                              | 20/96 [42:15<2:30:33, 118.87s/it]"
     ]
    },
    {
     "name": "stdout",
     "output_type": "stream",
     "text": [
      "parameter number: 19 - iteration: 4 END   || Time now: 13:10:55 | Duration iteration: 00:00:25 | Elapsed from start: 00:42:16\n",
      "parameter number: 20 - iteration: 0 START || Time now: 13:10:55\n",
      "parameter number: 20 - iteration: 0 END   || Time now: 13:11:20 | Duration iteration: 00:00:24 | Elapsed from start: 00:42:41\n",
      "parameter number: 20 - iteration: 1 START || Time now: 13:11:20\n",
      "parameter number: 20 - iteration: 1 END   || Time now: 13:11:42 | Duration iteration: 00:00:22 | Elapsed from start: 00:43:03\n",
      "parameter number: 20 - iteration: 2 START || Time now: 13:11:42\n",
      "parameter number: 20 - iteration: 2 END   || Time now: 13:12:07 | Duration iteration: 00:00:25 | Elapsed from start: 00:43:28\n",
      "parameter number: 20 - iteration: 3 START || Time now: 13:12:07\n",
      "parameter number: 20 - iteration: 3 END   || Time now: 13:12:32 | Duration iteration: 00:00:24 | Elapsed from start: 00:43:53\n",
      "parameter number: 20 - iteration: 4 START || Time now: 13:12:32\n"
     ]
    },
    {
     "name": "stderr",
     "output_type": "stream",
     "text": [
      "\r",
      " 22%|█████████████████▎                                                             | 21/96 [44:15<2:28:55, 119.14s/it]"
     ]
    },
    {
     "name": "stdout",
     "output_type": "stream",
     "text": [
      "parameter number: 20 - iteration: 4 END   || Time now: 13:12:55 | Duration iteration: 00:00:23 | Elapsed from start: 00:44:16\n",
      "parameter number: 21 - iteration: 0 START || Time now: 13:12:55\n",
      "parameter number: 21 - iteration: 0 END   || Time now: 13:13:18 | Duration iteration: 00:00:23 | Elapsed from start: 00:44:39\n",
      "parameter number: 21 - iteration: 1 START || Time now: 13:13:18\n",
      "parameter number: 21 - iteration: 1 END   || Time now: 13:13:41 | Duration iteration: 00:00:23 | Elapsed from start: 00:45:02\n",
      "parameter number: 21 - iteration: 2 START || Time now: 13:13:41\n",
      "parameter number: 21 - iteration: 2 END   || Time now: 13:14:03 | Duration iteration: 00:00:22 | Elapsed from start: 00:45:24\n",
      "parameter number: 21 - iteration: 3 START || Time now: 13:14:03\n",
      "parameter number: 21 - iteration: 3 END   || Time now: 13:14:29 | Duration iteration: 00:00:25 | Elapsed from start: 00:45:50\n",
      "parameter number: 21 - iteration: 4 START || Time now: 13:14:29\n"
     ]
    },
    {
     "name": "stderr",
     "output_type": "stream",
     "text": [
      "\r",
      " 23%|██████████████████                                                             | 22/96 [46:12<2:26:14, 118.57s/it]"
     ]
    },
    {
     "name": "stdout",
     "output_type": "stream",
     "text": [
      "parameter number: 21 - iteration: 4 END   || Time now: 13:14:52 | Duration iteration: 00:00:23 | Elapsed from start: 00:46:13\n",
      "parameter number: 22 - iteration: 0 START || Time now: 13:14:52\n",
      "parameter number: 22 - iteration: 0 END   || Time now: 13:15:16 | Duration iteration: 00:00:23 | Elapsed from start: 00:46:36\n",
      "parameter number: 22 - iteration: 1 START || Time now: 13:15:16\n",
      "parameter number: 22 - iteration: 1 END   || Time now: 13:15:41 | Duration iteration: 00:00:25 | Elapsed from start: 00:47:01\n",
      "parameter number: 22 - iteration: 2 START || Time now: 13:15:41\n",
      "parameter number: 22 - iteration: 2 END   || Time now: 13:16:06 | Duration iteration: 00:00:25 | Elapsed from start: 00:47:27\n",
      "parameter number: 22 - iteration: 3 START || Time now: 13:16:06\n",
      "parameter number: 22 - iteration: 3 END   || Time now: 13:16:31 | Duration iteration: 00:00:25 | Elapsed from start: 00:47:52\n",
      "parameter number: 22 - iteration: 4 START || Time now: 13:16:31\n"
     ]
    },
    {
     "name": "stderr",
     "output_type": "stream",
     "text": [
      "\r",
      " 24%|██████████████████▉                                                            | 23/96 [48:15<2:25:54, 119.92s/it]"
     ]
    },
    {
     "name": "stdout",
     "output_type": "stream",
     "text": [
      "parameter number: 22 - iteration: 4 END   || Time now: 13:16:56 | Duration iteration: 00:00:24 | Elapsed from start: 00:48:16\n",
      "parameter number: 23 - iteration: 0 START || Time now: 13:16:56\n",
      "parameter number: 23 - iteration: 0 END   || Time now: 13:17:20 | Duration iteration: 00:00:24 | Elapsed from start: 00:48:41\n",
      "parameter number: 23 - iteration: 1 START || Time now: 13:17:20\n",
      "parameter number: 23 - iteration: 1 END   || Time now: 13:17:44 | Duration iteration: 00:00:23 | Elapsed from start: 00:49:04\n",
      "parameter number: 23 - iteration: 2 START || Time now: 13:17:44\n",
      "parameter number: 23 - iteration: 2 END   || Time now: 13:18:07 | Duration iteration: 00:00:22 | Elapsed from start: 00:49:27\n",
      "parameter number: 23 - iteration: 3 START || Time now: 13:18:07\n",
      "parameter number: 23 - iteration: 3 END   || Time now: 13:18:31 | Duration iteration: 00:00:24 | Elapsed from start: 00:49:52\n",
      "parameter number: 23 - iteration: 4 START || Time now: 13:18:31\n"
     ]
    },
    {
     "name": "stderr",
     "output_type": "stream",
     "text": [
      "\r",
      " 25%|███████████████████▊                                                           | 24/96 [50:14<2:23:32, 119.62s/it]"
     ]
    },
    {
     "name": "stdout",
     "output_type": "stream",
     "text": [
      "parameter number: 23 - iteration: 4 END   || Time now: 13:18:54 | Duration iteration: 00:00:23 | Elapsed from start: 00:50:15\n",
      "parameter number: 24 - iteration: 0 START || Time now: 13:18:54\n",
      "parameter number: 24 - iteration: 0 END   || Time now: 13:19:20 | Duration iteration: 00:00:25 | Elapsed from start: 00:50:40\n",
      "parameter number: 24 - iteration: 1 START || Time now: 13:19:20\n",
      "parameter number: 24 - iteration: 1 END   || Time now: 13:19:44 | Duration iteration: 00:00:24 | Elapsed from start: 00:51:05\n",
      "parameter number: 24 - iteration: 2 START || Time now: 13:19:44\n",
      "parameter number: 24 - iteration: 2 END   || Time now: 13:20:07 | Duration iteration: 00:00:23 | Elapsed from start: 00:51:28\n",
      "parameter number: 24 - iteration: 3 START || Time now: 13:20:07\n",
      "parameter number: 24 - iteration: 3 END   || Time now: 13:20:31 | Duration iteration: 00:00:23 | Elapsed from start: 00:51:51\n",
      "parameter number: 24 - iteration: 4 START || Time now: 13:20:31\n"
     ]
    },
    {
     "name": "stderr",
     "output_type": "stream",
     "text": [
      "\r",
      " 26%|████████████████████▌                                                          | 25/96 [52:13<2:21:24, 119.50s/it]"
     ]
    },
    {
     "name": "stdout",
     "output_type": "stream",
     "text": [
      "parameter number: 24 - iteration: 4 END   || Time now: 13:20:54 | Duration iteration: 00:00:23 | Elapsed from start: 00:52:14\n",
      "parameter number: 25 - iteration: 0 START || Time now: 13:20:54\n",
      "parameter number: 25 - iteration: 0 END   || Time now: 13:21:19 | Duration iteration: 00:00:25 | Elapsed from start: 00:52:39\n",
      "parameter number: 25 - iteration: 1 START || Time now: 13:21:19\n",
      "parameter number: 25 - iteration: 1 END   || Time now: 13:21:41 | Duration iteration: 00:00:22 | Elapsed from start: 00:53:02\n",
      "parameter number: 25 - iteration: 2 START || Time now: 13:21:41\n",
      "parameter number: 25 - iteration: 2 END   || Time now: 13:22:06 | Duration iteration: 00:00:25 | Elapsed from start: 00:53:27\n",
      "parameter number: 25 - iteration: 3 START || Time now: 13:22:06\n",
      "parameter number: 25 - iteration: 3 END   || Time now: 13:22:29 | Duration iteration: 00:00:22 | Elapsed from start: 00:53:50\n",
      "parameter number: 25 - iteration: 4 START || Time now: 13:22:29\n"
     ]
    },
    {
     "name": "stderr",
     "output_type": "stream",
     "text": [
      "\r",
      " 27%|█████████████████████▍                                                         | 26/96 [54:14<2:19:52, 119.89s/it]"
     ]
    },
    {
     "name": "stdout",
     "output_type": "stream",
     "text": [
      "parameter number: 25 - iteration: 4 END   || Time now: 13:22:54 | Duration iteration: 00:00:25 | Elapsed from start: 00:54:15\n",
      "parameter number: 26 - iteration: 0 START || Time now: 13:22:54\n",
      "parameter number: 26 - iteration: 0 END   || Time now: 13:23:17 | Duration iteration: 00:00:22 | Elapsed from start: 00:54:38\n",
      "parameter number: 26 - iteration: 1 START || Time now: 13:23:17\n",
      "parameter number: 26 - iteration: 1 END   || Time now: 13:23:43 | Duration iteration: 00:00:25 | Elapsed from start: 00:55:03\n",
      "parameter number: 26 - iteration: 2 START || Time now: 13:23:43\n",
      "parameter number: 26 - iteration: 2 END   || Time now: 13:24:07 | Duration iteration: 00:00:24 | Elapsed from start: 00:55:28\n",
      "parameter number: 26 - iteration: 3 START || Time now: 13:24:07\n",
      "parameter number: 26 - iteration: 3 END   || Time now: 13:24:32 | Duration iteration: 00:00:24 | Elapsed from start: 00:55:53\n",
      "parameter number: 26 - iteration: 4 START || Time now: 13:24:32\n"
     ]
    },
    {
     "name": "stderr",
     "output_type": "stream",
     "text": [
      "\r",
      " 28%|██████████████████████▏                                                        | 27/96 [56:15<2:18:15, 120.23s/it]"
     ]
    },
    {
     "name": "stdout",
     "output_type": "stream",
     "text": [
      "parameter number: 26 - iteration: 4 END   || Time now: 13:24:56 | Duration iteration: 00:00:23 | Elapsed from start: 00:56:16\n",
      "parameter number: 27 - iteration: 0 START || Time now: 13:24:56\n",
      "parameter number: 27 - iteration: 0 END   || Time now: 13:25:21 | Duration iteration: 00:00:25 | Elapsed from start: 00:56:41\n",
      "parameter number: 27 - iteration: 1 START || Time now: 13:25:21\n",
      "parameter number: 27 - iteration: 1 END   || Time now: 13:25:44 | Duration iteration: 00:00:23 | Elapsed from start: 00:57:04\n",
      "parameter number: 27 - iteration: 2 START || Time now: 13:25:44\n",
      "parameter number: 27 - iteration: 2 END   || Time now: 13:26:07 | Duration iteration: 00:00:23 | Elapsed from start: 00:57:27\n",
      "parameter number: 27 - iteration: 3 START || Time now: 13:26:07\n",
      "parameter number: 27 - iteration: 3 END   || Time now: 13:26:32 | Duration iteration: 00:00:25 | Elapsed from start: 00:57:52\n",
      "parameter number: 27 - iteration: 4 START || Time now: 13:26:32\n"
     ]
    },
    {
     "name": "stderr",
     "output_type": "stream",
     "text": [
      "\r",
      " 29%|███████████████████████                                                        | 28/96 [58:15<2:16:17, 120.25s/it]"
     ]
    },
    {
     "name": "stdout",
     "output_type": "stream",
     "text": [
      "parameter number: 27 - iteration: 4 END   || Time now: 13:26:56 | Duration iteration: 00:00:23 | Elapsed from start: 00:58:16\n",
      "parameter number: 28 - iteration: 0 START || Time now: 13:26:56\n",
      "parameter number: 28 - iteration: 0 END   || Time now: 13:27:19 | Duration iteration: 00:00:23 | Elapsed from start: 00:58:39\n",
      "parameter number: 28 - iteration: 1 START || Time now: 13:27:19\n",
      "parameter number: 28 - iteration: 1 END   || Time now: 13:27:42 | Duration iteration: 00:00:23 | Elapsed from start: 00:59:03\n",
      "parameter number: 28 - iteration: 2 START || Time now: 13:27:42\n",
      "parameter number: 28 - iteration: 2 END   || Time now: 13:28:05 | Duration iteration: 00:00:23 | Elapsed from start: 00:59:26\n",
      "parameter number: 28 - iteration: 3 START || Time now: 13:28:05\n",
      "parameter number: 28 - iteration: 3 END   || Time now: 13:28:30 | Duration iteration: 00:00:25 | Elapsed from start: 00:59:51\n",
      "parameter number: 28 - iteration: 4 START || Time now: 13:28:30\n"
     ]
    },
    {
     "name": "stderr",
     "output_type": "stream",
     "text": [
      "\r",
      " 30%|███████████████████████▎                                                     | 29/96 [1:00:15<2:14:07, 120.12s/it]"
     ]
    },
    {
     "name": "stdout",
     "output_type": "stream",
     "text": [
      "parameter number: 28 - iteration: 4 END   || Time now: 13:28:56 | Duration iteration: 00:00:25 | Elapsed from start: 01:00:16\n",
      "parameter number: 29 - iteration: 0 START || Time now: 13:28:56\n",
      "parameter number: 29 - iteration: 0 END   || Time now: 13:29:22 | Duration iteration: 00:00:26 | Elapsed from start: 01:00:43\n",
      "parameter number: 29 - iteration: 1 START || Time now: 13:29:22\n",
      "parameter number: 29 - iteration: 1 END   || Time now: 13:29:45 | Duration iteration: 00:00:22 | Elapsed from start: 01:01:05\n",
      "parameter number: 29 - iteration: 2 START || Time now: 13:29:45\n",
      "parameter number: 29 - iteration: 2 END   || Time now: 13:30:08 | Duration iteration: 00:00:22 | Elapsed from start: 01:01:28\n",
      "parameter number: 29 - iteration: 3 START || Time now: 13:30:08\n",
      "parameter number: 29 - iteration: 3 END   || Time now: 13:30:31 | Duration iteration: 00:00:23 | Elapsed from start: 01:01:51\n",
      "parameter number: 29 - iteration: 4 START || Time now: 13:30:31\n"
     ]
    },
    {
     "name": "stderr",
     "output_type": "stream",
     "text": [
      "\r",
      " 31%|████████████████████████                                                     | 30/96 [1:02:15<2:11:55, 119.93s/it]"
     ]
    },
    {
     "name": "stdout",
     "output_type": "stream",
     "text": [
      "parameter number: 29 - iteration: 4 END   || Time now: 13:30:55 | Duration iteration: 00:00:24 | Elapsed from start: 01:02:16\n",
      "parameter number: 30 - iteration: 0 START || Time now: 13:30:55\n",
      "parameter number: 30 - iteration: 0 END   || Time now: 13:31:18 | Duration iteration: 00:00:23 | Elapsed from start: 01:02:39\n",
      "parameter number: 30 - iteration: 1 START || Time now: 13:31:18\n",
      "parameter number: 30 - iteration: 1 END   || Time now: 13:31:41 | Duration iteration: 00:00:23 | Elapsed from start: 01:03:02\n",
      "parameter number: 30 - iteration: 2 START || Time now: 13:31:41\n",
      "parameter number: 30 - iteration: 2 END   || Time now: 13:32:06 | Duration iteration: 00:00:25 | Elapsed from start: 01:03:27\n",
      "parameter number: 30 - iteration: 3 START || Time now: 13:32:06\n",
      "parameter number: 30 - iteration: 3 END   || Time now: 13:32:31 | Duration iteration: 00:00:24 | Elapsed from start: 01:03:52\n",
      "parameter number: 30 - iteration: 4 START || Time now: 13:32:31\n"
     ]
    },
    {
     "name": "stderr",
     "output_type": "stream",
     "text": [
      "\r",
      " 32%|████████████████████████▊                                                    | 31/96 [1:04:14<2:09:36, 119.64s/it]"
     ]
    },
    {
     "name": "stdout",
     "output_type": "stream",
     "text": [
      "parameter number: 30 - iteration: 4 END   || Time now: 13:32:54 | Duration iteration: 00:00:22 | Elapsed from start: 01:04:15\n",
      "parameter number: 31 - iteration: 0 START || Time now: 13:32:54\n",
      "parameter number: 31 - iteration: 0 END   || Time now: 13:33:16 | Duration iteration: 00:00:22 | Elapsed from start: 01:04:37\n",
      "parameter number: 31 - iteration: 1 START || Time now: 13:33:16\n",
      "parameter number: 31 - iteration: 1 END   || Time now: 13:33:40 | Duration iteration: 00:00:23 | Elapsed from start: 01:05:00\n",
      "parameter number: 31 - iteration: 2 START || Time now: 13:33:40\n",
      "parameter number: 31 - iteration: 2 END   || Time now: 13:34:02 | Duration iteration: 00:00:22 | Elapsed from start: 01:05:23\n",
      "parameter number: 31 - iteration: 3 START || Time now: 13:34:02\n",
      "parameter number: 31 - iteration: 3 END   || Time now: 13:34:28 | Duration iteration: 00:00:25 | Elapsed from start: 01:05:48\n",
      "parameter number: 31 - iteration: 4 START || Time now: 13:34:28\n"
     ]
    },
    {
     "name": "stderr",
     "output_type": "stream",
     "text": [
      "\r",
      " 33%|█████████████████████████▋                                                   | 32/96 [1:06:12<2:07:13, 119.28s/it]"
     ]
    },
    {
     "name": "stdout",
     "output_type": "stream",
     "text": [
      "parameter number: 31 - iteration: 4 END   || Time now: 13:34:53 | Duration iteration: 00:00:24 | Elapsed from start: 01:06:13\n",
      "parameter number: 32 - iteration: 0 START || Time now: 13:34:53\n",
      "parameter number: 32 - iteration: 0 END   || Time now: 13:35:16 | Duration iteration: 00:00:23 | Elapsed from start: 01:06:37\n",
      "parameter number: 32 - iteration: 1 START || Time now: 13:35:16\n",
      "parameter number: 32 - iteration: 1 END   || Time now: 13:35:40 | Duration iteration: 00:00:23 | Elapsed from start: 01:07:00\n",
      "parameter number: 32 - iteration: 2 START || Time now: 13:35:40\n",
      "parameter number: 32 - iteration: 2 END   || Time now: 13:36:03 | Duration iteration: 00:00:23 | Elapsed from start: 01:07:23\n",
      "parameter number: 32 - iteration: 3 START || Time now: 13:36:03\n",
      "parameter number: 32 - iteration: 3 END   || Time now: 13:36:26 | Duration iteration: 00:00:22 | Elapsed from start: 01:07:46\n",
      "parameter number: 32 - iteration: 4 START || Time now: 13:36:26\n"
     ]
    },
    {
     "name": "stderr",
     "output_type": "stream",
     "text": [
      "\r",
      " 34%|██████████████████████████▍                                                  | 33/96 [1:08:09<2:04:23, 118.47s/it]"
     ]
    },
    {
     "name": "stdout",
     "output_type": "stream",
     "text": [
      "parameter number: 32 - iteration: 4 END   || Time now: 13:36:49 | Duration iteration: 00:00:23 | Elapsed from start: 01:08:10\n",
      "parameter number: 33 - iteration: 0 START || Time now: 13:36:49\n",
      "parameter number: 33 - iteration: 0 END   || Time now: 13:37:14 | Duration iteration: 00:00:25 | Elapsed from start: 01:08:35\n",
      "parameter number: 33 - iteration: 1 START || Time now: 13:37:14\n",
      "parameter number: 33 - iteration: 1 END   || Time now: 13:37:37 | Duration iteration: 00:00:23 | Elapsed from start: 01:08:58\n",
      "parameter number: 33 - iteration: 2 START || Time now: 13:37:37\n",
      "parameter number: 33 - iteration: 2 END   || Time now: 13:38:01 | Duration iteration: 00:00:23 | Elapsed from start: 01:09:21\n",
      "parameter number: 33 - iteration: 3 START || Time now: 13:38:01\n",
      "parameter number: 33 - iteration: 3 END   || Time now: 13:38:24 | Duration iteration: 00:00:23 | Elapsed from start: 01:09:44\n",
      "parameter number: 33 - iteration: 4 START || Time now: 13:38:24\n"
     ]
    },
    {
     "name": "stderr",
     "output_type": "stream",
     "text": [
      "\r",
      " 35%|███████████████████████████▎                                                 | 34/96 [1:10:06<2:02:09, 118.21s/it]"
     ]
    },
    {
     "name": "stdout",
     "output_type": "stream",
     "text": [
      "parameter number: 33 - iteration: 4 END   || Time now: 13:38:47 | Duration iteration: 00:00:22 | Elapsed from start: 01:10:07\n",
      "parameter number: 34 - iteration: 0 START || Time now: 13:38:47\n",
      "parameter number: 34 - iteration: 0 END   || Time now: 13:39:10 | Duration iteration: 00:00:23 | Elapsed from start: 01:10:30\n",
      "parameter number: 34 - iteration: 1 START || Time now: 13:39:10\n",
      "parameter number: 34 - iteration: 1 END   || Time now: 13:39:33 | Duration iteration: 00:00:23 | Elapsed from start: 01:10:53\n",
      "parameter number: 34 - iteration: 2 START || Time now: 13:39:33\n",
      "parameter number: 34 - iteration: 2 END   || Time now: 13:39:56 | Duration iteration: 00:00:23 | Elapsed from start: 01:11:16\n",
      "parameter number: 34 - iteration: 3 START || Time now: 13:39:56\n",
      "parameter number: 34 - iteration: 3 END   || Time now: 13:40:19 | Duration iteration: 00:00:22 | Elapsed from start: 01:11:39\n",
      "parameter number: 34 - iteration: 4 START || Time now: 13:40:19\n"
     ]
    },
    {
     "name": "stderr",
     "output_type": "stream",
     "text": [
      "\r",
      " 36%|████████████████████████████                                                 | 35/96 [1:12:03<1:59:42, 117.74s/it]"
     ]
    },
    {
     "name": "stdout",
     "output_type": "stream",
     "text": [
      "parameter number: 34 - iteration: 4 END   || Time now: 13:40:43 | Duration iteration: 00:00:24 | Elapsed from start: 01:12:04\n",
      "parameter number: 35 - iteration: 0 START || Time now: 13:40:43\n",
      "parameter number: 35 - iteration: 0 END   || Time now: 13:41:08 | Duration iteration: 00:00:24 | Elapsed from start: 01:12:29\n",
      "parameter number: 35 - iteration: 1 START || Time now: 13:41:08\n",
      "parameter number: 35 - iteration: 1 END   || Time now: 13:41:31 | Duration iteration: 00:00:22 | Elapsed from start: 01:12:52\n",
      "parameter number: 35 - iteration: 2 START || Time now: 13:41:31\n",
      "parameter number: 35 - iteration: 2 END   || Time now: 13:41:56 | Duration iteration: 00:00:24 | Elapsed from start: 01:13:16\n",
      "parameter number: 35 - iteration: 3 START || Time now: 13:41:56\n",
      "parameter number: 35 - iteration: 3 END   || Time now: 13:42:19 | Duration iteration: 00:00:22 | Elapsed from start: 01:13:39\n",
      "parameter number: 35 - iteration: 4 START || Time now: 13:42:19\n"
     ]
    },
    {
     "name": "stderr",
     "output_type": "stream",
     "text": [
      "\r",
      " 38%|████████████████████████████▉                                                | 36/96 [1:14:04<1:58:40, 118.68s/it]"
     ]
    },
    {
     "name": "stdout",
     "output_type": "stream",
     "text": [
      "parameter number: 35 - iteration: 4 END   || Time now: 13:42:44 | Duration iteration: 00:00:25 | Elapsed from start: 01:14:05\n",
      "parameter number: 36 - iteration: 0 START || Time now: 13:42:44\n",
      "parameter number: 36 - iteration: 0 END   || Time now: 13:43:09 | Duration iteration: 00:00:24 | Elapsed from start: 01:14:30\n",
      "parameter number: 36 - iteration: 1 START || Time now: 13:43:09\n",
      "parameter number: 36 - iteration: 1 END   || Time now: 13:43:32 | Duration iteration: 00:00:23 | Elapsed from start: 01:14:53\n",
      "parameter number: 36 - iteration: 2 START || Time now: 13:43:32\n",
      "parameter number: 36 - iteration: 2 END   || Time now: 13:43:57 | Duration iteration: 00:00:25 | Elapsed from start: 01:15:18\n",
      "parameter number: 36 - iteration: 3 START || Time now: 13:43:57\n",
      "parameter number: 36 - iteration: 3 END   || Time now: 13:44:22 | Duration iteration: 00:00:24 | Elapsed from start: 01:15:42\n",
      "parameter number: 36 - iteration: 4 START || Time now: 13:44:22\n"
     ]
    },
    {
     "name": "stderr",
     "output_type": "stream",
     "text": [
      "\r",
      " 39%|█████████████████████████████▋                                               | 37/96 [1:16:07<1:58:04, 120.07s/it]"
     ]
    },
    {
     "name": "stdout",
     "output_type": "stream",
     "text": [
      "parameter number: 36 - iteration: 4 END   || Time now: 13:44:48 | Duration iteration: 00:00:25 | Elapsed from start: 01:16:08\n",
      "parameter number: 37 - iteration: 0 START || Time now: 13:44:48\n",
      "parameter number: 37 - iteration: 0 END   || Time now: 13:45:10 | Duration iteration: 00:00:22 | Elapsed from start: 01:16:30\n",
      "parameter number: 37 - iteration: 1 START || Time now: 13:45:10\n",
      "parameter number: 37 - iteration: 1 END   || Time now: 13:45:33 | Duration iteration: 00:00:22 | Elapsed from start: 01:16:53\n",
      "parameter number: 37 - iteration: 2 START || Time now: 13:45:33\n",
      "parameter number: 37 - iteration: 2 END   || Time now: 13:45:56 | Duration iteration: 00:00:23 | Elapsed from start: 01:17:17\n",
      "parameter number: 37 - iteration: 3 START || Time now: 13:45:56\n",
      "parameter number: 37 - iteration: 3 END   || Time now: 13:46:20 | Duration iteration: 00:00:23 | Elapsed from start: 01:17:40\n",
      "parameter number: 37 - iteration: 4 START || Time now: 13:46:20\n"
     ]
    },
    {
     "name": "stderr",
     "output_type": "stream",
     "text": [
      "\r",
      " 40%|██████████████████████████████▍                                              | 38/96 [1:18:02<1:54:31, 118.48s/it]"
     ]
    },
    {
     "name": "stdout",
     "output_type": "stream",
     "text": [
      "parameter number: 37 - iteration: 4 END   || Time now: 13:46:42 | Duration iteration: 00:00:22 | Elapsed from start: 01:18:03\n",
      "parameter number: 38 - iteration: 0 START || Time now: 13:46:42\n",
      "parameter number: 38 - iteration: 0 END   || Time now: 13:47:07 | Duration iteration: 00:00:24 | Elapsed from start: 01:18:27\n",
      "parameter number: 38 - iteration: 1 START || Time now: 13:47:07\n",
      "parameter number: 38 - iteration: 1 END   || Time now: 13:47:30 | Duration iteration: 00:00:23 | Elapsed from start: 01:18:50\n",
      "parameter number: 38 - iteration: 2 START || Time now: 13:47:30\n",
      "parameter number: 38 - iteration: 2 END   || Time now: 13:47:53 | Duration iteration: 00:00:22 | Elapsed from start: 01:19:13\n",
      "parameter number: 38 - iteration: 3 START || Time now: 13:47:53\n",
      "parameter number: 38 - iteration: 3 END   || Time now: 13:48:18 | Duration iteration: 00:00:25 | Elapsed from start: 01:19:39\n",
      "parameter number: 38 - iteration: 4 START || Time now: 13:48:18\n"
     ]
    },
    {
     "name": "stderr",
     "output_type": "stream",
     "text": [
      "\r",
      " 41%|███████████████████████████████▎                                             | 39/96 [1:20:00<1:52:31, 118.45s/it]"
     ]
    },
    {
     "name": "stdout",
     "output_type": "stream",
     "text": [
      "parameter number: 38 - iteration: 4 END   || Time now: 13:48:41 | Duration iteration: 00:00:22 | Elapsed from start: 01:20:01\n",
      "parameter number: 39 - iteration: 0 START || Time now: 13:48:41\n",
      "parameter number: 39 - iteration: 0 END   || Time now: 13:49:04 | Duration iteration: 00:00:23 | Elapsed from start: 01:20:24\n",
      "parameter number: 39 - iteration: 1 START || Time now: 13:49:04\n",
      "parameter number: 39 - iteration: 1 END   || Time now: 13:49:27 | Duration iteration: 00:00:23 | Elapsed from start: 01:20:48\n",
      "parameter number: 39 - iteration: 2 START || Time now: 13:49:27\n",
      "parameter number: 39 - iteration: 2 END   || Time now: 13:49:51 | Duration iteration: 00:00:23 | Elapsed from start: 01:21:11\n",
      "parameter number: 39 - iteration: 3 START || Time now: 13:49:51\n",
      "parameter number: 39 - iteration: 3 END   || Time now: 13:50:16 | Duration iteration: 00:00:25 | Elapsed from start: 01:21:36\n",
      "parameter number: 39 - iteration: 4 START || Time now: 13:50:16\n"
     ]
    },
    {
     "name": "stderr",
     "output_type": "stream",
     "text": [
      "\r",
      " 42%|████████████████████████████████                                             | 40/96 [1:21:59<1:50:37, 118.53s/it]"
     ]
    },
    {
     "name": "stdout",
     "output_type": "stream",
     "text": [
      "parameter number: 39 - iteration: 4 END   || Time now: 13:50:39 | Duration iteration: 00:00:23 | Elapsed from start: 01:22:00\n",
      "parameter number: 40 - iteration: 0 START || Time now: 13:50:39\n",
      "parameter number: 40 - iteration: 0 END   || Time now: 13:51:02 | Duration iteration: 00:00:22 | Elapsed from start: 01:22:22\n",
      "parameter number: 40 - iteration: 1 START || Time now: 13:51:02\n",
      "parameter number: 40 - iteration: 1 END   || Time now: 13:51:25 | Duration iteration: 00:00:23 | Elapsed from start: 01:22:45\n",
      "parameter number: 40 - iteration: 2 START || Time now: 13:51:25\n",
      "parameter number: 40 - iteration: 2 END   || Time now: 13:51:48 | Duration iteration: 00:00:22 | Elapsed from start: 01:23:08\n",
      "parameter number: 40 - iteration: 3 START || Time now: 13:51:48\n",
      "parameter number: 40 - iteration: 3 END   || Time now: 13:52:11 | Duration iteration: 00:00:22 | Elapsed from start: 01:23:31\n",
      "parameter number: 40 - iteration: 4 START || Time now: 13:52:11\n"
     ]
    },
    {
     "name": "stderr",
     "output_type": "stream",
     "text": [
      "\r",
      " 43%|████████████████████████████████▉                                            | 41/96 [1:23:53<1:47:31, 117.30s/it]"
     ]
    },
    {
     "name": "stdout",
     "output_type": "stream",
     "text": [
      "parameter number: 40 - iteration: 4 END   || Time now: 13:52:34 | Duration iteration: 00:00:23 | Elapsed from start: 01:23:54\n",
      "parameter number: 41 - iteration: 0 START || Time now: 13:52:34\n",
      "parameter number: 41 - iteration: 0 END   || Time now: 13:52:57 | Duration iteration: 00:00:23 | Elapsed from start: 01:24:17\n",
      "parameter number: 41 - iteration: 1 START || Time now: 13:52:57\n",
      "parameter number: 41 - iteration: 1 END   || Time now: 13:53:20 | Duration iteration: 00:00:22 | Elapsed from start: 01:24:40\n",
      "parameter number: 41 - iteration: 2 START || Time now: 13:53:20\n",
      "parameter number: 41 - iteration: 2 END   || Time now: 13:53:43 | Duration iteration: 00:00:23 | Elapsed from start: 01:25:04\n",
      "parameter number: 41 - iteration: 3 START || Time now: 13:53:43\n",
      "parameter number: 41 - iteration: 3 END   || Time now: 13:54:06 | Duration iteration: 00:00:23 | Elapsed from start: 01:25:27\n",
      "parameter number: 41 - iteration: 4 START || Time now: 13:54:06\n"
     ]
    },
    {
     "name": "stderr",
     "output_type": "stream",
     "text": [
      "\r",
      " 44%|█████████████████████████████████▋                                           | 42/96 [1:25:50<1:45:16, 116.97s/it]"
     ]
    },
    {
     "name": "stdout",
     "output_type": "stream",
     "text": [
      "parameter number: 41 - iteration: 4 END   || Time now: 13:54:30 | Duration iteration: 00:00:23 | Elapsed from start: 01:25:51\n",
      "parameter number: 42 - iteration: 0 START || Time now: 13:54:30\n",
      "parameter number: 42 - iteration: 0 END   || Time now: 13:54:53 | Duration iteration: 00:00:23 | Elapsed from start: 01:26:14\n",
      "parameter number: 42 - iteration: 1 START || Time now: 13:54:53\n",
      "parameter number: 42 - iteration: 1 END   || Time now: 13:55:18 | Duration iteration: 00:00:24 | Elapsed from start: 01:26:39\n",
      "parameter number: 42 - iteration: 2 START || Time now: 13:55:18\n",
      "parameter number: 42 - iteration: 2 END   || Time now: 13:55:42 | Duration iteration: 00:00:24 | Elapsed from start: 01:27:03\n",
      "parameter number: 42 - iteration: 3 START || Time now: 13:55:42\n",
      "parameter number: 42 - iteration: 3 END   || Time now: 13:56:05 | Duration iteration: 00:00:23 | Elapsed from start: 01:27:26\n",
      "parameter number: 42 - iteration: 4 START || Time now: 13:56:05\n"
     ]
    },
    {
     "name": "stderr",
     "output_type": "stream",
     "text": [
      "\r",
      " 45%|██████████████████████████████████▍                                          | 43/96 [1:27:50<1:44:13, 117.99s/it]"
     ]
    },
    {
     "name": "stdout",
     "output_type": "stream",
     "text": [
      "parameter number: 42 - iteration: 4 END   || Time now: 13:56:30 | Duration iteration: 00:00:24 | Elapsed from start: 01:27:51\n",
      "parameter number: 43 - iteration: 0 START || Time now: 13:56:30\n",
      "parameter number: 43 - iteration: 0 END   || Time now: 13:56:55 | Duration iteration: 00:00:24 | Elapsed from start: 01:28:15\n",
      "parameter number: 43 - iteration: 1 START || Time now: 13:56:55\n",
      "parameter number: 43 - iteration: 1 END   || Time now: 13:57:18 | Duration iteration: 00:00:22 | Elapsed from start: 01:28:38\n",
      "parameter number: 43 - iteration: 2 START || Time now: 13:57:18\n",
      "parameter number: 43 - iteration: 2 END   || Time now: 13:57:41 | Duration iteration: 00:00:23 | Elapsed from start: 01:29:02\n",
      "parameter number: 43 - iteration: 3 START || Time now: 13:57:41\n",
      "parameter number: 43 - iteration: 3 END   || Time now: 13:58:06 | Duration iteration: 00:00:24 | Elapsed from start: 01:29:27\n",
      "parameter number: 43 - iteration: 4 START || Time now: 13:58:06\n"
     ]
    },
    {
     "name": "stderr",
     "output_type": "stream",
     "text": [
      "\r",
      " 46%|███████████████████████████████████▎                                         | 44/96 [1:29:49<1:42:26, 118.20s/it]"
     ]
    },
    {
     "name": "stdout",
     "output_type": "stream",
     "text": [
      "parameter number: 43 - iteration: 4 END   || Time now: 13:58:29 | Duration iteration: 00:00:23 | Elapsed from start: 01:29:50\n",
      "parameter number: 44 - iteration: 0 START || Time now: 13:58:29\n",
      "parameter number: 44 - iteration: 0 END   || Time now: 13:58:52 | Duration iteration: 00:00:23 | Elapsed from start: 01:30:13\n",
      "parameter number: 44 - iteration: 1 START || Time now: 13:58:52\n",
      "parameter number: 44 - iteration: 1 END   || Time now: 13:59:15 | Duration iteration: 00:00:23 | Elapsed from start: 01:30:36\n",
      "parameter number: 44 - iteration: 2 START || Time now: 13:59:15\n",
      "parameter number: 44 - iteration: 2 END   || Time now: 13:59:39 | Duration iteration: 00:00:23 | Elapsed from start: 01:30:59\n",
      "parameter number: 44 - iteration: 3 START || Time now: 13:59:39\n",
      "parameter number: 44 - iteration: 3 END   || Time now: 14:00:01 | Duration iteration: 00:00:22 | Elapsed from start: 01:31:22\n",
      "parameter number: 44 - iteration: 4 START || Time now: 14:00:01\n"
     ]
    },
    {
     "name": "stderr",
     "output_type": "stream",
     "text": [
      "\r",
      " 47%|████████████████████████████████████                                         | 45/96 [1:31:45<1:40:06, 117.77s/it]"
     ]
    },
    {
     "name": "stdout",
     "output_type": "stream",
     "text": [
      "parameter number: 44 - iteration: 4 END   || Time now: 14:00:26 | Duration iteration: 00:00:24 | Elapsed from start: 01:31:46\n",
      "parameter number: 45 - iteration: 0 START || Time now: 14:00:26\n",
      "parameter number: 45 - iteration: 0 END   || Time now: 14:00:48 | Duration iteration: 00:00:22 | Elapsed from start: 01:32:08\n",
      "parameter number: 45 - iteration: 1 START || Time now: 14:00:48\n",
      "parameter number: 45 - iteration: 1 END   || Time now: 14:01:11 | Duration iteration: 00:00:22 | Elapsed from start: 01:32:31\n",
      "parameter number: 45 - iteration: 2 START || Time now: 14:01:11\n",
      "parameter number: 45 - iteration: 2 END   || Time now: 14:01:34 | Duration iteration: 00:00:22 | Elapsed from start: 01:32:54\n",
      "parameter number: 45 - iteration: 3 START || Time now: 14:01:34\n",
      "parameter number: 45 - iteration: 3 END   || Time now: 14:01:59 | Duration iteration: 00:00:25 | Elapsed from start: 01:33:19\n",
      "parameter number: 45 - iteration: 4 START || Time now: 14:01:59\n"
     ]
    },
    {
     "name": "stderr",
     "output_type": "stream",
     "text": [
      "\r",
      " 48%|████████████████████████████████████▉                                        | 46/96 [1:33:42<1:37:44, 117.30s/it]"
     ]
    },
    {
     "name": "stdout",
     "output_type": "stream",
     "text": [
      "parameter number: 45 - iteration: 4 END   || Time now: 14:02:22 | Duration iteration: 00:00:23 | Elapsed from start: 01:33:43\n",
      "parameter number: 46 - iteration: 0 START || Time now: 14:02:22\n",
      "parameter number: 46 - iteration: 0 END   || Time now: 14:02:47 | Duration iteration: 00:00:24 | Elapsed from start: 01:34:08\n",
      "parameter number: 46 - iteration: 1 START || Time now: 14:02:47\n",
      "parameter number: 46 - iteration: 1 END   || Time now: 14:03:10 | Duration iteration: 00:00:22 | Elapsed from start: 01:34:30\n",
      "parameter number: 46 - iteration: 2 START || Time now: 14:03:10\n",
      "parameter number: 46 - iteration: 2 END   || Time now: 14:03:35 | Duration iteration: 00:00:25 | Elapsed from start: 01:34:55\n",
      "parameter number: 46 - iteration: 3 START || Time now: 14:03:35\n",
      "parameter number: 46 - iteration: 3 END   || Time now: 14:03:57 | Duration iteration: 00:00:22 | Elapsed from start: 01:35:18\n",
      "parameter number: 46 - iteration: 4 START || Time now: 14:03:57\n"
     ]
    },
    {
     "name": "stderr",
     "output_type": "stream",
     "text": [
      "\r",
      " 49%|█████████████████████████████████████▋                                       | 47/96 [1:35:40<1:36:00, 117.55s/it]"
     ]
    },
    {
     "name": "stdout",
     "output_type": "stream",
     "text": [
      "parameter number: 46 - iteration: 4 END   || Time now: 14:04:20 | Duration iteration: 00:00:23 | Elapsed from start: 01:35:41\n",
      "parameter number: 47 - iteration: 0 START || Time now: 14:04:20\n",
      "parameter number: 47 - iteration: 0 END   || Time now: 14:04:43 | Duration iteration: 00:00:22 | Elapsed from start: 01:36:03\n",
      "parameter number: 47 - iteration: 1 START || Time now: 14:04:43\n",
      "parameter number: 47 - iteration: 1 END   || Time now: 14:05:07 | Duration iteration: 00:00:24 | Elapsed from start: 01:36:28\n",
      "parameter number: 47 - iteration: 2 START || Time now: 14:05:07\n",
      "parameter number: 47 - iteration: 2 END   || Time now: 14:05:32 | Duration iteration: 00:00:24 | Elapsed from start: 01:36:53\n",
      "parameter number: 47 - iteration: 3 START || Time now: 14:05:32\n",
      "parameter number: 47 - iteration: 3 END   || Time now: 14:05:58 | Duration iteration: 00:00:25 | Elapsed from start: 01:37:18\n",
      "parameter number: 47 - iteration: 4 START || Time now: 14:05:58\n"
     ]
    },
    {
     "name": "stderr",
     "output_type": "stream",
     "text": [
      "\r",
      " 50%|██████████████████████████████████████▌                                      | 48/96 [1:37:40<1:34:45, 118.44s/it]"
     ]
    },
    {
     "name": "stdout",
     "output_type": "stream",
     "text": [
      "parameter number: 47 - iteration: 4 END   || Time now: 14:06:21 | Duration iteration: 00:00:23 | Elapsed from start: 01:37:41\n",
      "parameter number: 48 - iteration: 0 START || Time now: 14:06:21\n",
      "parameter number: 48 - iteration: 0 END   || Time now: 14:06:45 | Duration iteration: 00:00:24 | Elapsed from start: 01:38:05\n",
      "parameter number: 48 - iteration: 1 START || Time now: 14:06:45\n",
      "parameter number: 48 - iteration: 1 END   || Time now: 14:07:10 | Duration iteration: 00:00:25 | Elapsed from start: 01:38:31\n",
      "parameter number: 48 - iteration: 2 START || Time now: 14:07:10\n",
      "parameter number: 48 - iteration: 2 END   || Time now: 14:07:33 | Duration iteration: 00:00:22 | Elapsed from start: 01:38:54\n",
      "parameter number: 48 - iteration: 3 START || Time now: 14:07:33\n",
      "parameter number: 48 - iteration: 3 END   || Time now: 14:07:57 | Duration iteration: 00:00:23 | Elapsed from start: 01:39:17\n",
      "parameter number: 48 - iteration: 4 START || Time now: 14:07:57\n"
     ]
    },
    {
     "name": "stderr",
     "output_type": "stream",
     "text": [
      "\r",
      " 51%|███████████████████████████████████████▎                                     | 49/96 [1:39:39<1:32:50, 118.52s/it]"
     ]
    },
    {
     "name": "stdout",
     "output_type": "stream",
     "text": [
      "parameter number: 48 - iteration: 4 END   || Time now: 14:08:19 | Duration iteration: 00:00:22 | Elapsed from start: 01:39:40\n",
      "parameter number: 49 - iteration: 0 START || Time now: 14:08:19\n",
      "parameter number: 49 - iteration: 0 END   || Time now: 14:08:42 | Duration iteration: 00:00:23 | Elapsed from start: 01:40:03\n",
      "parameter number: 49 - iteration: 1 START || Time now: 14:08:42\n",
      "parameter number: 49 - iteration: 1 END   || Time now: 14:09:05 | Duration iteration: 00:00:22 | Elapsed from start: 01:40:26\n",
      "parameter number: 49 - iteration: 2 START || Time now: 14:09:05\n",
      "parameter number: 49 - iteration: 2 END   || Time now: 14:09:28 | Duration iteration: 00:00:22 | Elapsed from start: 01:40:48\n",
      "parameter number: 49 - iteration: 3 START || Time now: 14:09:28\n",
      "parameter number: 49 - iteration: 3 END   || Time now: 14:09:51 | Duration iteration: 00:00:23 | Elapsed from start: 01:41:12\n",
      "parameter number: 49 - iteration: 4 START || Time now: 14:09:51\n"
     ]
    },
    {
     "name": "stderr",
     "output_type": "stream",
     "text": [
      "\r",
      " 52%|████████████████████████████████████████                                     | 50/96 [1:41:34<1:30:00, 117.40s/it]"
     ]
    },
    {
     "name": "stdout",
     "output_type": "stream",
     "text": [
      "parameter number: 49 - iteration: 4 END   || Time now: 14:10:14 | Duration iteration: 00:00:23 | Elapsed from start: 01:41:35\n",
      "parameter number: 50 - iteration: 0 START || Time now: 14:10:14\n",
      "parameter number: 50 - iteration: 0 END   || Time now: 14:10:39 | Duration iteration: 00:00:24 | Elapsed from start: 01:41:59\n",
      "parameter number: 50 - iteration: 1 START || Time now: 14:10:39\n",
      "parameter number: 50 - iteration: 1 END   || Time now: 14:11:02 | Duration iteration: 00:00:22 | Elapsed from start: 01:42:22\n",
      "parameter number: 50 - iteration: 2 START || Time now: 14:11:02\n",
      "parameter number: 50 - iteration: 2 END   || Time now: 14:11:25 | Duration iteration: 00:00:23 | Elapsed from start: 01:42:45\n",
      "parameter number: 50 - iteration: 3 START || Time now: 14:11:25\n",
      "parameter number: 50 - iteration: 3 END   || Time now: 14:11:48 | Duration iteration: 00:00:23 | Elapsed from start: 01:43:08\n",
      "parameter number: 50 - iteration: 4 START || Time now: 14:11:48\n"
     ]
    },
    {
     "name": "stderr",
     "output_type": "stream",
     "text": [
      "\r",
      " 53%|████████████████████████████████████████▉                                    | 51/96 [1:43:30<1:27:54, 117.21s/it]"
     ]
    },
    {
     "name": "stdout",
     "output_type": "stream",
     "text": [
      "parameter number: 50 - iteration: 4 END   || Time now: 14:12:11 | Duration iteration: 00:00:23 | Elapsed from start: 01:43:31\n",
      "parameter number: 51 - iteration: 0 START || Time now: 14:12:11\n",
      "parameter number: 51 - iteration: 0 END   || Time now: 14:12:34 | Duration iteration: 00:00:23 | Elapsed from start: 01:43:55\n",
      "parameter number: 51 - iteration: 1 START || Time now: 14:12:34\n",
      "parameter number: 51 - iteration: 1 END   || Time now: 14:12:57 | Duration iteration: 00:00:23 | Elapsed from start: 01:44:18\n",
      "parameter number: 51 - iteration: 2 START || Time now: 14:12:57\n",
      "parameter number: 51 - iteration: 2 END   || Time now: 14:13:22 | Duration iteration: 00:00:24 | Elapsed from start: 01:44:43\n",
      "parameter number: 51 - iteration: 3 START || Time now: 14:13:22\n",
      "parameter number: 51 - iteration: 3 END   || Time now: 14:13:47 | Duration iteration: 00:00:24 | Elapsed from start: 01:45:08\n",
      "parameter number: 51 - iteration: 4 START || Time now: 14:13:47\n"
     ]
    },
    {
     "name": "stderr",
     "output_type": "stream",
     "text": [
      "\r",
      " 54%|█████████████████████████████████████████▋                                   | 52/96 [1:45:30<1:26:29, 117.95s/it]"
     ]
    },
    {
     "name": "stdout",
     "output_type": "stream",
     "text": [
      "parameter number: 51 - iteration: 4 END   || Time now: 14:14:11 | Duration iteration: 00:00:23 | Elapsed from start: 01:45:31\n",
      "parameter number: 52 - iteration: 0 START || Time now: 14:14:11\n",
      "parameter number: 52 - iteration: 0 END   || Time now: 14:14:36 | Duration iteration: 00:00:25 | Elapsed from start: 01:45:57\n",
      "parameter number: 52 - iteration: 1 START || Time now: 14:14:36\n",
      "parameter number: 52 - iteration: 1 END   || Time now: 14:15:01 | Duration iteration: 00:00:25 | Elapsed from start: 01:46:22\n",
      "parameter number: 52 - iteration: 2 START || Time now: 14:15:01\n",
      "parameter number: 52 - iteration: 2 END   || Time now: 14:15:25 | Duration iteration: 00:00:23 | Elapsed from start: 01:46:45\n",
      "parameter number: 52 - iteration: 3 START || Time now: 14:15:25\n",
      "parameter number: 52 - iteration: 3 END   || Time now: 14:15:48 | Duration iteration: 00:00:23 | Elapsed from start: 01:47:08\n",
      "parameter number: 52 - iteration: 4 START || Time now: 14:15:48\n"
     ]
    },
    {
     "name": "stderr",
     "output_type": "stream",
     "text": [
      "\r",
      " 55%|██████████████████████████████████████████▌                                  | 53/96 [1:47:31<1:25:06, 118.77s/it]"
     ]
    },
    {
     "name": "stdout",
     "output_type": "stream",
     "text": [
      "parameter number: 52 - iteration: 4 END   || Time now: 14:16:11 | Duration iteration: 00:00:23 | Elapsed from start: 01:47:32\n",
      "parameter number: 53 - iteration: 0 START || Time now: 14:16:11\n",
      "parameter number: 53 - iteration: 0 END   || Time now: 14:16:36 | Duration iteration: 00:00:24 | Elapsed from start: 01:47:56\n",
      "parameter number: 53 - iteration: 1 START || Time now: 14:16:36\n",
      "parameter number: 53 - iteration: 1 END   || Time now: 14:16:59 | Duration iteration: 00:00:23 | Elapsed from start: 01:48:20\n",
      "parameter number: 53 - iteration: 2 START || Time now: 14:16:59\n",
      "parameter number: 53 - iteration: 2 END   || Time now: 14:17:23 | Duration iteration: 00:00:23 | Elapsed from start: 01:48:43\n",
      "parameter number: 53 - iteration: 3 START || Time now: 14:17:23\n",
      "parameter number: 53 - iteration: 3 END   || Time now: 14:17:48 | Duration iteration: 00:00:25 | Elapsed from start: 01:49:08\n",
      "parameter number: 53 - iteration: 4 START || Time now: 14:17:48\n"
     ]
    },
    {
     "name": "stderr",
     "output_type": "stream",
     "text": [
      "\r",
      " 56%|███████████████████████████████████████████▎                                 | 54/96 [1:49:30<1:23:13, 118.89s/it]"
     ]
    },
    {
     "name": "stdout",
     "output_type": "stream",
     "text": [
      "parameter number: 53 - iteration: 4 END   || Time now: 14:18:11 | Duration iteration: 00:00:22 | Elapsed from start: 01:49:31\n",
      "parameter number: 54 - iteration: 0 START || Time now: 14:18:11\n",
      "parameter number: 54 - iteration: 0 END   || Time now: 14:18:35 | Duration iteration: 00:00:24 | Elapsed from start: 01:49:56\n",
      "parameter number: 54 - iteration: 1 START || Time now: 14:18:35\n",
      "parameter number: 54 - iteration: 1 END   || Time now: 14:18:58 | Duration iteration: 00:00:22 | Elapsed from start: 01:50:19\n",
      "parameter number: 54 - iteration: 2 START || Time now: 14:18:58\n",
      "parameter number: 54 - iteration: 2 END   || Time now: 14:19:23 | Duration iteration: 00:00:25 | Elapsed from start: 01:50:44\n",
      "parameter number: 54 - iteration: 3 START || Time now: 14:19:23\n",
      "parameter number: 54 - iteration: 3 END   || Time now: 14:19:49 | Duration iteration: 00:00:25 | Elapsed from start: 01:51:09\n",
      "parameter number: 54 - iteration: 4 START || Time now: 14:19:49\n"
     ]
    },
    {
     "name": "stderr",
     "output_type": "stream",
     "text": [
      "\r",
      " 57%|████████████████████████████████████████████                                 | 55/96 [1:51:31<1:21:35, 119.40s/it]"
     ]
    },
    {
     "name": "stdout",
     "output_type": "stream",
     "text": [
      "parameter number: 54 - iteration: 4 END   || Time now: 14:20:11 | Duration iteration: 00:00:22 | Elapsed from start: 01:51:32\n",
      "parameter number: 55 - iteration: 0 START || Time now: 14:20:11\n",
      "parameter number: 55 - iteration: 0 END   || Time now: 14:20:37 | Duration iteration: 00:00:25 | Elapsed from start: 01:51:57\n",
      "parameter number: 55 - iteration: 1 START || Time now: 14:20:37\n",
      "parameter number: 55 - iteration: 1 END   || Time now: 14:20:59 | Duration iteration: 00:00:22 | Elapsed from start: 01:52:19\n",
      "parameter number: 55 - iteration: 2 START || Time now: 14:20:59\n",
      "parameter number: 55 - iteration: 2 END   || Time now: 14:21:22 | Duration iteration: 00:00:22 | Elapsed from start: 01:52:42\n",
      "parameter number: 55 - iteration: 3 START || Time now: 14:21:22\n",
      "parameter number: 55 - iteration: 3 END   || Time now: 14:21:47 | Duration iteration: 00:00:25 | Elapsed from start: 01:53:08\n",
      "parameter number: 55 - iteration: 4 START || Time now: 14:21:47\n"
     ]
    },
    {
     "name": "stderr",
     "output_type": "stream",
     "text": [
      "\r",
      " 58%|████████████████████████████████████████████▉                                | 56/96 [1:53:31<1:19:52, 119.80s/it]"
     ]
    },
    {
     "name": "stdout",
     "output_type": "stream",
     "text": [
      "parameter number: 55 - iteration: 4 END   || Time now: 14:22:12 | Duration iteration: 00:00:24 | Elapsed from start: 01:53:32\n",
      "parameter number: 56 - iteration: 0 START || Time now: 14:22:12\n",
      "parameter number: 56 - iteration: 0 END   || Time now: 14:22:34 | Duration iteration: 00:00:22 | Elapsed from start: 01:53:55\n",
      "parameter number: 56 - iteration: 1 START || Time now: 14:22:34\n",
      "parameter number: 56 - iteration: 1 END   || Time now: 14:22:58 | Duration iteration: 00:00:23 | Elapsed from start: 01:54:18\n",
      "parameter number: 56 - iteration: 2 START || Time now: 14:22:58\n",
      "parameter number: 56 - iteration: 2 END   || Time now: 14:23:20 | Duration iteration: 00:00:22 | Elapsed from start: 01:54:41\n",
      "parameter number: 56 - iteration: 3 START || Time now: 14:23:20\n",
      "parameter number: 56 - iteration: 3 END   || Time now: 14:23:43 | Duration iteration: 00:00:22 | Elapsed from start: 01:55:03\n",
      "parameter number: 56 - iteration: 4 START || Time now: 14:23:43\n"
     ]
    },
    {
     "name": "stderr",
     "output_type": "stream",
     "text": [
      "\r",
      " 59%|█████████████████████████████████████████████▋                               | 57/96 [1:55:26<1:16:48, 118.16s/it]"
     ]
    },
    {
     "name": "stdout",
     "output_type": "stream",
     "text": [
      "parameter number: 56 - iteration: 4 END   || Time now: 14:24:06 | Duration iteration: 00:00:23 | Elapsed from start: 01:55:27\n",
      "parameter number: 57 - iteration: 0 START || Time now: 14:24:06\n",
      "parameter number: 57 - iteration: 0 END   || Time now: 14:24:29 | Duration iteration: 00:00:22 | Elapsed from start: 01:55:49\n",
      "parameter number: 57 - iteration: 1 START || Time now: 14:24:29\n",
      "parameter number: 57 - iteration: 1 END   || Time now: 14:24:53 | Duration iteration: 00:00:24 | Elapsed from start: 01:56:14\n",
      "parameter number: 57 - iteration: 2 START || Time now: 14:24:53\n",
      "parameter number: 57 - iteration: 2 END   || Time now: 14:25:16 | Duration iteration: 00:00:22 | Elapsed from start: 01:56:37\n",
      "parameter number: 57 - iteration: 3 START || Time now: 14:25:16\n",
      "parameter number: 57 - iteration: 3 END   || Time now: 14:25:39 | Duration iteration: 00:00:23 | Elapsed from start: 01:57:00\n",
      "parameter number: 57 - iteration: 4 START || Time now: 14:25:39\n"
     ]
    },
    {
     "name": "stderr",
     "output_type": "stream",
     "text": [
      "\r",
      " 60%|██████████████████████████████████████████████▌                              | 58/96 [1:57:24<1:14:47, 118.10s/it]"
     ]
    },
    {
     "name": "stdout",
     "output_type": "stream",
     "text": [
      "parameter number: 57 - iteration: 4 END   || Time now: 14:26:04 | Duration iteration: 00:00:24 | Elapsed from start: 01:57:25\n",
      "parameter number: 58 - iteration: 0 START || Time now: 14:26:04\n",
      "parameter number: 58 - iteration: 0 END   || Time now: 14:26:27 | Duration iteration: 00:00:22 | Elapsed from start: 01:57:47\n",
      "parameter number: 58 - iteration: 1 START || Time now: 14:26:27\n",
      "parameter number: 58 - iteration: 1 END   || Time now: 14:26:51 | Duration iteration: 00:00:24 | Elapsed from start: 01:58:12\n",
      "parameter number: 58 - iteration: 2 START || Time now: 14:26:51\n",
      "parameter number: 58 - iteration: 2 END   || Time now: 14:27:17 | Duration iteration: 00:00:25 | Elapsed from start: 01:58:37\n",
      "parameter number: 58 - iteration: 3 START || Time now: 14:27:17\n",
      "parameter number: 58 - iteration: 3 END   || Time now: 14:27:41 | Duration iteration: 00:00:24 | Elapsed from start: 01:59:02\n",
      "parameter number: 58 - iteration: 4 START || Time now: 14:27:41\n"
     ]
    },
    {
     "name": "stderr",
     "output_type": "stream",
     "text": [
      "\r",
      " 61%|███████████████████████████████████████████████▎                             | 59/96 [1:59:24<1:13:13, 118.74s/it]"
     ]
    },
    {
     "name": "stdout",
     "output_type": "stream",
     "text": [
      "parameter number: 58 - iteration: 4 END   || Time now: 14:28:04 | Duration iteration: 00:00:23 | Elapsed from start: 01:59:25\n",
      "parameter number: 59 - iteration: 0 START || Time now: 14:28:04\n",
      "parameter number: 59 - iteration: 0 END   || Time now: 14:28:29 | Duration iteration: 00:00:24 | Elapsed from start: 01:59:50\n",
      "parameter number: 59 - iteration: 1 START || Time now: 14:28:29\n",
      "parameter number: 59 - iteration: 1 END   || Time now: 14:28:52 | Duration iteration: 00:00:23 | Elapsed from start: 02:00:13\n",
      "parameter number: 59 - iteration: 2 START || Time now: 14:28:52\n",
      "parameter number: 59 - iteration: 2 END   || Time now: 14:29:15 | Duration iteration: 00:00:22 | Elapsed from start: 02:00:35\n",
      "parameter number: 59 - iteration: 3 START || Time now: 14:29:15\n",
      "parameter number: 59 - iteration: 3 END   || Time now: 14:29:38 | Duration iteration: 00:00:23 | Elapsed from start: 02:00:58\n",
      "parameter number: 59 - iteration: 4 START || Time now: 14:29:38\n"
     ]
    },
    {
     "name": "stderr",
     "output_type": "stream",
     "text": [
      "\r",
      " 62%|████████████████████████████████████████████████▏                            | 60/96 [2:01:22<1:11:03, 118.44s/it]"
     ]
    },
    {
     "name": "stdout",
     "output_type": "stream",
     "text": [
      "parameter number: 59 - iteration: 4 END   || Time now: 14:30:02 | Duration iteration: 00:00:24 | Elapsed from start: 02:01:23\n",
      "parameter number: 60 - iteration: 0 START || Time now: 14:30:02\n",
      "parameter number: 60 - iteration: 0 END   || Time now: 14:30:25 | Duration iteration: 00:00:23 | Elapsed from start: 02:01:46\n",
      "parameter number: 60 - iteration: 1 START || Time now: 14:30:25\n",
      "parameter number: 60 - iteration: 1 END   || Time now: 14:30:48 | Duration iteration: 00:00:23 | Elapsed from start: 02:02:09\n",
      "parameter number: 60 - iteration: 2 START || Time now: 14:30:48\n",
      "parameter number: 60 - iteration: 2 END   || Time now: 14:31:12 | Duration iteration: 00:00:23 | Elapsed from start: 02:02:32\n",
      "parameter number: 60 - iteration: 3 START || Time now: 14:31:12\n",
      "parameter number: 60 - iteration: 3 END   || Time now: 14:31:34 | Duration iteration: 00:00:22 | Elapsed from start: 02:02:54\n",
      "parameter number: 60 - iteration: 4 START || Time now: 14:31:34\n"
     ]
    },
    {
     "name": "stderr",
     "output_type": "stream",
     "text": [
      "\r",
      " 64%|████████████████████████████████████████████████▉                            | 61/96 [2:03:16<1:08:25, 117.29s/it]"
     ]
    },
    {
     "name": "stdout",
     "output_type": "stream",
     "text": [
      "parameter number: 60 - iteration: 4 END   || Time now: 14:31:57 | Duration iteration: 00:00:22 | Elapsed from start: 02:03:17\n",
      "parameter number: 61 - iteration: 0 START || Time now: 14:31:57\n",
      "parameter number: 61 - iteration: 0 END   || Time now: 14:32:20 | Duration iteration: 00:00:23 | Elapsed from start: 02:03:40\n",
      "parameter number: 61 - iteration: 1 START || Time now: 14:32:20\n",
      "parameter number: 61 - iteration: 1 END   || Time now: 14:32:43 | Duration iteration: 00:00:22 | Elapsed from start: 02:04:03\n",
      "parameter number: 61 - iteration: 2 START || Time now: 14:32:43\n",
      "parameter number: 61 - iteration: 2 END   || Time now: 14:33:06 | Duration iteration: 00:00:23 | Elapsed from start: 02:04:26\n",
      "parameter number: 61 - iteration: 3 START || Time now: 14:33:06\n",
      "parameter number: 61 - iteration: 3 END   || Time now: 14:33:29 | Duration iteration: 00:00:23 | Elapsed from start: 02:04:50\n",
      "parameter number: 61 - iteration: 4 START || Time now: 14:33:29\n"
     ]
    },
    {
     "name": "stderr",
     "output_type": "stream",
     "text": [
      "\r",
      " 65%|█████████████████████████████████████████████████▋                           | 62/96 [2:05:14<1:06:34, 117.47s/it]"
     ]
    },
    {
     "name": "stdout",
     "output_type": "stream",
     "text": [
      "parameter number: 61 - iteration: 4 END   || Time now: 14:33:55 | Duration iteration: 00:00:25 | Elapsed from start: 02:05:15\n",
      "parameter number: 62 - iteration: 0 START || Time now: 14:33:55\n",
      "parameter number: 62 - iteration: 0 END   || Time now: 14:34:17 | Duration iteration: 00:00:22 | Elapsed from start: 02:05:38\n",
      "parameter number: 62 - iteration: 1 START || Time now: 14:34:17\n",
      "parameter number: 62 - iteration: 1 END   || Time now: 14:34:42 | Duration iteration: 00:00:24 | Elapsed from start: 02:06:03\n",
      "parameter number: 62 - iteration: 2 START || Time now: 14:34:42\n",
      "parameter number: 62 - iteration: 2 END   || Time now: 14:35:08 | Duration iteration: 00:00:25 | Elapsed from start: 02:06:28\n",
      "parameter number: 62 - iteration: 3 START || Time now: 14:35:08\n",
      "parameter number: 62 - iteration: 3 END   || Time now: 14:35:31 | Duration iteration: 00:00:23 | Elapsed from start: 02:06:52\n",
      "parameter number: 62 - iteration: 4 START || Time now: 14:35:31\n"
     ]
    },
    {
     "name": "stderr",
     "output_type": "stream",
     "text": [
      "\r",
      " 66%|██████████████████████████████████████████████████▌                          | 63/96 [2:07:16<1:05:19, 118.77s/it]"
     ]
    },
    {
     "name": "stdout",
     "output_type": "stream",
     "text": [
      "parameter number: 62 - iteration: 4 END   || Time now: 14:35:56 | Duration iteration: 00:00:25 | Elapsed from start: 02:07:17\n",
      "parameter number: 63 - iteration: 0 START || Time now: 14:35:56\n",
      "parameter number: 63 - iteration: 0 END   || Time now: 14:36:21 | Duration iteration: 00:00:24 | Elapsed from start: 02:07:42\n",
      "parameter number: 63 - iteration: 1 START || Time now: 14:36:21\n",
      "parameter number: 63 - iteration: 1 END   || Time now: 14:36:46 | Duration iteration: 00:00:24 | Elapsed from start: 02:08:06\n",
      "parameter number: 63 - iteration: 2 START || Time now: 14:36:46\n",
      "parameter number: 63 - iteration: 2 END   || Time now: 14:37:09 | Duration iteration: 00:00:22 | Elapsed from start: 02:08:29\n",
      "parameter number: 63 - iteration: 3 START || Time now: 14:37:09\n",
      "parameter number: 63 - iteration: 3 END   || Time now: 14:37:33 | Duration iteration: 00:00:24 | Elapsed from start: 02:08:54\n",
      "parameter number: 63 - iteration: 4 START || Time now: 14:37:33\n"
     ]
    },
    {
     "name": "stderr",
     "output_type": "stream",
     "text": [
      "\r",
      " 67%|███████████████████████████████████████████████████▎                         | 64/96 [2:09:16<1:03:35, 119.23s/it]"
     ]
    },
    {
     "name": "stdout",
     "output_type": "stream",
     "text": [
      "parameter number: 63 - iteration: 4 END   || Time now: 14:37:57 | Duration iteration: 00:00:23 | Elapsed from start: 02:09:17\n",
      "parameter number: 64 - iteration: 0 START || Time now: 14:37:57\n",
      "parameter number: 64 - iteration: 0 END   || Time now: 14:38:20 | Duration iteration: 00:00:22 | Elapsed from start: 02:09:40\n",
      "parameter number: 64 - iteration: 1 START || Time now: 14:38:20\n",
      "parameter number: 64 - iteration: 1 END   || Time now: 14:38:42 | Duration iteration: 00:00:22 | Elapsed from start: 02:10:03\n",
      "parameter number: 64 - iteration: 2 START || Time now: 14:38:42\n",
      "parameter number: 64 - iteration: 2 END   || Time now: 14:39:06 | Duration iteration: 00:00:23 | Elapsed from start: 02:10:27\n",
      "parameter number: 64 - iteration: 3 START || Time now: 14:39:06\n",
      "parameter number: 64 - iteration: 3 END   || Time now: 14:39:29 | Duration iteration: 00:00:22 | Elapsed from start: 02:10:50\n",
      "parameter number: 64 - iteration: 4 START || Time now: 14:39:29\n"
     ]
    },
    {
     "name": "stderr",
     "output_type": "stream",
     "text": [
      "\r",
      " 68%|████████████████████████████████████████████████████▏                        | 65/96 [2:11:11<1:00:58, 118.02s/it]"
     ]
    },
    {
     "name": "stdout",
     "output_type": "stream",
     "text": [
      "parameter number: 64 - iteration: 4 END   || Time now: 14:39:52 | Duration iteration: 00:00:22 | Elapsed from start: 02:11:12\n",
      "parameter number: 65 - iteration: 0 START || Time now: 14:39:52\n",
      "parameter number: 65 - iteration: 0 END   || Time now: 14:40:15 | Duration iteration: 00:00:22 | Elapsed from start: 02:11:35\n",
      "parameter number: 65 - iteration: 1 START || Time now: 14:40:15\n",
      "parameter number: 65 - iteration: 1 END   || Time now: 14:40:38 | Duration iteration: 00:00:23 | Elapsed from start: 02:11:58\n",
      "parameter number: 65 - iteration: 2 START || Time now: 14:40:38\n",
      "parameter number: 65 - iteration: 2 END   || Time now: 14:41:01 | Duration iteration: 00:00:23 | Elapsed from start: 02:12:21\n",
      "parameter number: 65 - iteration: 3 START || Time now: 14:41:01\n",
      "parameter number: 65 - iteration: 3 END   || Time now: 14:41:24 | Duration iteration: 00:00:22 | Elapsed from start: 02:12:44\n",
      "parameter number: 65 - iteration: 4 START || Time now: 14:41:24\n"
     ]
    },
    {
     "name": "stderr",
     "output_type": "stream",
     "text": [
      "\r",
      " 69%|██████████████████████████████████████████████████████▎                        | 66/96 [2:13:09<58:56, 117.87s/it]"
     ]
    },
    {
     "name": "stdout",
     "output_type": "stream",
     "text": [
      "parameter number: 65 - iteration: 4 END   || Time now: 14:41:49 | Duration iteration: 00:00:25 | Elapsed from start: 02:13:10\n",
      "parameter number: 66 - iteration: 0 START || Time now: 14:41:49\n",
      "parameter number: 66 - iteration: 0 END   || Time now: 14:42:14 | Duration iteration: 00:00:24 | Elapsed from start: 02:13:34\n",
      "parameter number: 66 - iteration: 1 START || Time now: 14:42:14\n",
      "parameter number: 66 - iteration: 1 END   || Time now: 14:42:38 | Duration iteration: 00:00:24 | Elapsed from start: 02:13:58\n",
      "parameter number: 66 - iteration: 2 START || Time now: 14:42:38\n",
      "parameter number: 66 - iteration: 2 END   || Time now: 14:43:02 | Duration iteration: 00:00:24 | Elapsed from start: 02:14:23\n",
      "parameter number: 66 - iteration: 3 START || Time now: 14:43:02\n",
      "parameter number: 66 - iteration: 3 END   || Time now: 14:43:26 | Duration iteration: 00:00:24 | Elapsed from start: 02:14:47\n",
      "parameter number: 66 - iteration: 4 START || Time now: 14:43:26\n"
     ]
    },
    {
     "name": "stderr",
     "output_type": "stream",
     "text": [
      "\r",
      " 70%|███████████████████████████████████████████████████████▏                       | 67/96 [2:15:11<57:31, 119.00s/it]"
     ]
    },
    {
     "name": "stdout",
     "output_type": "stream",
     "text": [
      "parameter number: 66 - iteration: 4 END   || Time now: 14:43:51 | Duration iteration: 00:00:24 | Elapsed from start: 02:15:12\n",
      "parameter number: 67 - iteration: 0 START || Time now: 14:43:51\n",
      "parameter number: 67 - iteration: 0 END   || Time now: 14:44:15 | Duration iteration: 00:00:24 | Elapsed from start: 02:15:36\n",
      "parameter number: 67 - iteration: 1 START || Time now: 14:44:15\n",
      "parameter number: 67 - iteration: 1 END   || Time now: 14:44:42 | Duration iteration: 00:00:26 | Elapsed from start: 02:16:02\n",
      "parameter number: 67 - iteration: 2 START || Time now: 14:44:42\n",
      "parameter number: 67 - iteration: 2 END   || Time now: 14:45:07 | Duration iteration: 00:00:25 | Elapsed from start: 02:16:28\n",
      "parameter number: 67 - iteration: 3 START || Time now: 14:45:07\n",
      "parameter number: 67 - iteration: 3 END   || Time now: 14:45:34 | Duration iteration: 00:00:26 | Elapsed from start: 02:16:54\n",
      "parameter number: 67 - iteration: 4 START || Time now: 14:45:34\n"
     ]
    },
    {
     "name": "stderr",
     "output_type": "stream",
     "text": [
      "\r",
      " 71%|███████████████████████████████████████████████████████▉                       | 68/96 [2:17:17<56:34, 121.23s/it]"
     ]
    },
    {
     "name": "stdout",
     "output_type": "stream",
     "text": [
      "parameter number: 67 - iteration: 4 END   || Time now: 14:45:57 | Duration iteration: 00:00:23 | Elapsed from start: 02:17:18\n",
      "parameter number: 68 - iteration: 0 START || Time now: 14:45:57\n",
      "parameter number: 68 - iteration: 0 END   || Time now: 14:46:22 | Duration iteration: 00:00:24 | Elapsed from start: 02:17:42\n",
      "parameter number: 68 - iteration: 1 START || Time now: 14:46:22\n",
      "parameter number: 68 - iteration: 1 END   || Time now: 14:46:46 | Duration iteration: 00:00:24 | Elapsed from start: 02:18:07\n",
      "parameter number: 68 - iteration: 2 START || Time now: 14:46:46\n",
      "parameter number: 68 - iteration: 2 END   || Time now: 14:47:13 | Duration iteration: 00:00:26 | Elapsed from start: 02:18:33\n",
      "parameter number: 68 - iteration: 3 START || Time now: 14:47:13\n",
      "parameter number: 68 - iteration: 3 END   || Time now: 14:47:37 | Duration iteration: 00:00:24 | Elapsed from start: 02:18:58\n",
      "parameter number: 68 - iteration: 4 START || Time now: 14:47:37\n"
     ]
    },
    {
     "name": "stderr",
     "output_type": "stream",
     "text": [
      "\r",
      " 72%|████████████████████████████████████████████████████████▊                      | 69/96 [2:19:22<55:03, 122.34s/it]"
     ]
    },
    {
     "name": "stdout",
     "output_type": "stream",
     "text": [
      "parameter number: 68 - iteration: 4 END   || Time now: 14:48:02 | Duration iteration: 00:00:24 | Elapsed from start: 02:19:23\n",
      "parameter number: 69 - iteration: 0 START || Time now: 14:48:02\n",
      "parameter number: 69 - iteration: 0 END   || Time now: 14:48:26 | Duration iteration: 00:00:23 | Elapsed from start: 02:19:46\n",
      "parameter number: 69 - iteration: 1 START || Time now: 14:48:26\n",
      "parameter number: 69 - iteration: 1 END   || Time now: 14:48:53 | Duration iteration: 00:00:26 | Elapsed from start: 02:20:13\n",
      "parameter number: 69 - iteration: 2 START || Time now: 14:48:53\n",
      "parameter number: 69 - iteration: 2 END   || Time now: 14:49:17 | Duration iteration: 00:00:24 | Elapsed from start: 02:20:38\n",
      "parameter number: 69 - iteration: 3 START || Time now: 14:49:17\n",
      "parameter number: 69 - iteration: 3 END   || Time now: 14:49:40 | Duration iteration: 00:00:22 | Elapsed from start: 02:21:01\n",
      "parameter number: 69 - iteration: 4 START || Time now: 14:49:40\n"
     ]
    },
    {
     "name": "stderr",
     "output_type": "stream",
     "text": [
      "\r",
      " 73%|█████████████████████████████████████████████████████████▌                     | 70/96 [2:21:23<52:47, 121.84s/it]"
     ]
    },
    {
     "name": "stdout",
     "output_type": "stream",
     "text": [
      "parameter number: 69 - iteration: 4 END   || Time now: 14:50:03 | Duration iteration: 00:00:22 | Elapsed from start: 02:21:24\n",
      "parameter number: 70 - iteration: 0 START || Time now: 14:50:03\n",
      "parameter number: 70 - iteration: 0 END   || Time now: 14:50:27 | Duration iteration: 00:00:23 | Elapsed from start: 02:21:47\n",
      "parameter number: 70 - iteration: 1 START || Time now: 14:50:27\n",
      "parameter number: 70 - iteration: 1 END   || Time now: 14:50:51 | Duration iteration: 00:00:24 | Elapsed from start: 02:22:12\n",
      "parameter number: 70 - iteration: 2 START || Time now: 14:50:51\n",
      "parameter number: 70 - iteration: 2 END   || Time now: 14:51:15 | Duration iteration: 00:00:23 | Elapsed from start: 02:22:35\n",
      "parameter number: 70 - iteration: 3 START || Time now: 14:51:15\n",
      "parameter number: 70 - iteration: 3 END   || Time now: 14:51:37 | Duration iteration: 00:00:22 | Elapsed from start: 02:22:58\n",
      "parameter number: 70 - iteration: 4 START || Time now: 14:51:37\n"
     ]
    },
    {
     "name": "stderr",
     "output_type": "stream",
     "text": [
      "\r",
      " 74%|██████████████████████████████████████████████████████████▍                    | 71/96 [2:23:19<50:03, 120.13s/it]"
     ]
    },
    {
     "name": "stdout",
     "output_type": "stream",
     "text": [
      "parameter number: 70 - iteration: 4 END   || Time now: 14:51:59 | Duration iteration: 00:00:22 | Elapsed from start: 02:23:20\n",
      "parameter number: 71 - iteration: 0 START || Time now: 14:51:59\n",
      "parameter number: 71 - iteration: 0 END   || Time now: 14:52:24 | Duration iteration: 00:00:25 | Elapsed from start: 02:23:45\n",
      "parameter number: 71 - iteration: 1 START || Time now: 14:52:24\n",
      "parameter number: 71 - iteration: 1 END   || Time now: 14:52:47 | Duration iteration: 00:00:22 | Elapsed from start: 02:24:08\n",
      "parameter number: 71 - iteration: 2 START || Time now: 14:52:47\n",
      "parameter number: 71 - iteration: 2 END   || Time now: 14:53:10 | Duration iteration: 00:00:23 | Elapsed from start: 02:24:31\n",
      "parameter number: 71 - iteration: 3 START || Time now: 14:53:10\n",
      "parameter number: 71 - iteration: 3 END   || Time now: 14:53:35 | Duration iteration: 00:00:24 | Elapsed from start: 02:24:56\n",
      "parameter number: 71 - iteration: 4 START || Time now: 14:53:35\n"
     ]
    },
    {
     "name": "stderr",
     "output_type": "stream",
     "text": [
      "\r",
      " 75%|███████████████████████████████████████████████████████████▎                   | 72/96 [2:25:18<47:56, 119.87s/it]"
     ]
    },
    {
     "name": "stdout",
     "output_type": "stream",
     "text": [
      "parameter number: 71 - iteration: 4 END   || Time now: 14:53:58 | Duration iteration: 00:00:23 | Elapsed from start: 02:25:19\n",
      "parameter number: 72 - iteration: 0 START || Time now: 14:53:58\n",
      "parameter number: 72 - iteration: 0 END   || Time now: 14:54:24 | Duration iteration: 00:00:25 | Elapsed from start: 02:25:45\n",
      "parameter number: 72 - iteration: 1 START || Time now: 14:54:24\n",
      "parameter number: 72 - iteration: 1 END   || Time now: 14:54:47 | Duration iteration: 00:00:22 | Elapsed from start: 02:26:08\n",
      "parameter number: 72 - iteration: 2 START || Time now: 14:54:47\n",
      "parameter number: 72 - iteration: 2 END   || Time now: 14:55:11 | Duration iteration: 00:00:23 | Elapsed from start: 02:26:31\n",
      "parameter number: 72 - iteration: 3 START || Time now: 14:55:11\n",
      "parameter number: 72 - iteration: 3 END   || Time now: 14:55:34 | Duration iteration: 00:00:23 | Elapsed from start: 02:26:54\n",
      "parameter number: 72 - iteration: 4 START || Time now: 14:55:34\n"
     ]
    },
    {
     "name": "stderr",
     "output_type": "stream",
     "text": [
      "\r",
      " 76%|████████████████████████████████████████████████████████████                   | 73/96 [2:27:16<45:45, 119.39s/it]"
     ]
    },
    {
     "name": "stdout",
     "output_type": "stream",
     "text": [
      "parameter number: 72 - iteration: 4 END   || Time now: 14:55:57 | Duration iteration: 00:00:22 | Elapsed from start: 02:27:17\n",
      "parameter number: 73 - iteration: 0 START || Time now: 14:55:57\n",
      "parameter number: 73 - iteration: 0 END   || Time now: 14:56:22 | Duration iteration: 00:00:25 | Elapsed from start: 02:27:43\n",
      "parameter number: 73 - iteration: 1 START || Time now: 14:56:22\n",
      "parameter number: 73 - iteration: 1 END   || Time now: 14:56:45 | Duration iteration: 00:00:22 | Elapsed from start: 02:28:05\n",
      "parameter number: 73 - iteration: 2 START || Time now: 14:56:45\n",
      "parameter number: 73 - iteration: 2 END   || Time now: 14:57:08 | Duration iteration: 00:00:23 | Elapsed from start: 02:28:28\n",
      "parameter number: 73 - iteration: 3 START || Time now: 14:57:08\n",
      "parameter number: 73 - iteration: 3 END   || Time now: 14:57:31 | Duration iteration: 00:00:22 | Elapsed from start: 02:28:51\n",
      "parameter number: 73 - iteration: 4 START || Time now: 14:57:31\n"
     ]
    },
    {
     "name": "stderr",
     "output_type": "stream",
     "text": [
      "\r",
      " 77%|████████████████████████████████████████████████████████████▉                  | 74/96 [2:29:13<43:31, 118.71s/it]"
     ]
    },
    {
     "name": "stdout",
     "output_type": "stream",
     "text": [
      "parameter number: 73 - iteration: 4 END   || Time now: 14:57:54 | Duration iteration: 00:00:23 | Elapsed from start: 02:29:14\n",
      "parameter number: 74 - iteration: 0 START || Time now: 14:57:54\n",
      "parameter number: 74 - iteration: 0 END   || Time now: 14:58:17 | Duration iteration: 00:00:23 | Elapsed from start: 02:29:38\n",
      "parameter number: 74 - iteration: 1 START || Time now: 14:58:17\n",
      "parameter number: 74 - iteration: 1 END   || Time now: 14:58:43 | Duration iteration: 00:00:25 | Elapsed from start: 02:30:03\n",
      "parameter number: 74 - iteration: 2 START || Time now: 14:58:43\n",
      "parameter number: 74 - iteration: 2 END   || Time now: 14:59:08 | Duration iteration: 00:00:25 | Elapsed from start: 02:30:29\n",
      "parameter number: 74 - iteration: 3 START || Time now: 14:59:08\n",
      "parameter number: 74 - iteration: 3 END   || Time now: 14:59:31 | Duration iteration: 00:00:23 | Elapsed from start: 02:30:52\n",
      "parameter number: 74 - iteration: 4 START || Time now: 14:59:31\n"
     ]
    },
    {
     "name": "stderr",
     "output_type": "stream",
     "text": [
      "\r",
      " 78%|█████████████████████████████████████████████████████████████▋                 | 75/96 [2:31:17<42:02, 120.14s/it]"
     ]
    },
    {
     "name": "stdout",
     "output_type": "stream",
     "text": [
      "parameter number: 74 - iteration: 4 END   || Time now: 14:59:57 | Duration iteration: 00:00:26 | Elapsed from start: 02:31:18\n",
      "parameter number: 75 - iteration: 0 START || Time now: 14:59:57\n",
      "parameter number: 75 - iteration: 0 END   || Time now: 15:00:22 | Duration iteration: 00:00:24 | Elapsed from start: 02:31:43\n",
      "parameter number: 75 - iteration: 1 START || Time now: 15:00:22\n",
      "parameter number: 75 - iteration: 1 END   || Time now: 15:00:46 | Duration iteration: 00:00:23 | Elapsed from start: 02:32:06\n",
      "parameter number: 75 - iteration: 2 START || Time now: 15:00:46\n",
      "parameter number: 75 - iteration: 2 END   || Time now: 15:01:08 | Duration iteration: 00:00:22 | Elapsed from start: 02:32:29\n",
      "parameter number: 75 - iteration: 3 START || Time now: 15:01:08\n",
      "parameter number: 75 - iteration: 3 END   || Time now: 15:01:31 | Duration iteration: 00:00:22 | Elapsed from start: 02:32:51\n",
      "parameter number: 75 - iteration: 4 START || Time now: 15:01:31\n"
     ]
    },
    {
     "name": "stderr",
     "output_type": "stream",
     "text": [
      "\r",
      " 79%|██████████████████████████████████████████████████████████████▌                | 76/96 [2:33:14<39:42, 119.14s/it]"
     ]
    },
    {
     "name": "stdout",
     "output_type": "stream",
     "text": [
      "parameter number: 75 - iteration: 4 END   || Time now: 15:01:54 | Duration iteration: 00:00:23 | Elapsed from start: 02:33:15\n",
      "parameter number: 76 - iteration: 0 START || Time now: 15:01:54\n",
      "parameter number: 76 - iteration: 0 END   || Time now: 15:02:19 | Duration iteration: 00:00:25 | Elapsed from start: 02:33:40\n",
      "parameter number: 76 - iteration: 1 START || Time now: 15:02:19\n",
      "parameter number: 76 - iteration: 1 END   || Time now: 15:02:42 | Duration iteration: 00:00:22 | Elapsed from start: 02:34:02\n",
      "parameter number: 76 - iteration: 2 START || Time now: 15:02:42\n",
      "parameter number: 76 - iteration: 2 END   || Time now: 15:03:06 | Duration iteration: 00:00:24 | Elapsed from start: 02:34:27\n",
      "parameter number: 76 - iteration: 3 START || Time now: 15:03:06\n",
      "parameter number: 76 - iteration: 3 END   || Time now: 15:03:31 | Duration iteration: 00:00:24 | Elapsed from start: 02:34:51\n",
      "parameter number: 76 - iteration: 4 START || Time now: 15:03:31\n"
     ]
    },
    {
     "name": "stderr",
     "output_type": "stream",
     "text": [
      "\r",
      " 80%|███████████████████████████████████████████████████████████████▎               | 77/96 [2:35:12<37:41, 119.00s/it]"
     ]
    },
    {
     "name": "stdout",
     "output_type": "stream",
     "text": [
      "parameter number: 76 - iteration: 4 END   || Time now: 15:03:53 | Duration iteration: 00:00:21 | Elapsed from start: 02:35:13\n",
      "parameter number: 77 - iteration: 0 START || Time now: 15:03:53\n",
      "parameter number: 77 - iteration: 0 END   || Time now: 15:04:16 | Duration iteration: 00:00:23 | Elapsed from start: 02:35:36\n",
      "parameter number: 77 - iteration: 1 START || Time now: 15:04:16\n",
      "parameter number: 77 - iteration: 1 END   || Time now: 15:04:39 | Duration iteration: 00:00:23 | Elapsed from start: 02:36:00\n",
      "parameter number: 77 - iteration: 2 START || Time now: 15:04:39\n",
      "parameter number: 77 - iteration: 2 END   || Time now: 15:05:04 | Duration iteration: 00:00:24 | Elapsed from start: 02:36:24\n",
      "parameter number: 77 - iteration: 3 START || Time now: 15:05:04\n",
      "parameter number: 77 - iteration: 3 END   || Time now: 15:05:27 | Duration iteration: 00:00:23 | Elapsed from start: 02:36:48\n",
      "parameter number: 77 - iteration: 4 START || Time now: 15:05:27\n"
     ]
    },
    {
     "name": "stderr",
     "output_type": "stream",
     "text": [
      "\r",
      " 81%|████████████████████████████████████████████████████████████████▏              | 78/96 [2:37:12<35:47, 119.31s/it]"
     ]
    },
    {
     "name": "stdout",
     "output_type": "stream",
     "text": [
      "parameter number: 77 - iteration: 4 END   || Time now: 15:05:53 | Duration iteration: 00:00:25 | Elapsed from start: 02:37:13\n",
      "parameter number: 78 - iteration: 0 START || Time now: 15:05:53\n",
      "parameter number: 78 - iteration: 0 END   || Time now: 15:06:17 | Duration iteration: 00:00:23 | Elapsed from start: 02:37:37\n",
      "parameter number: 78 - iteration: 1 START || Time now: 15:06:17\n",
      "parameter number: 78 - iteration: 1 END   || Time now: 15:06:41 | Duration iteration: 00:00:24 | Elapsed from start: 02:38:02\n",
      "parameter number: 78 - iteration: 2 START || Time now: 15:06:41\n",
      "parameter number: 78 - iteration: 2 END   || Time now: 15:07:04 | Duration iteration: 00:00:22 | Elapsed from start: 02:38:24\n",
      "parameter number: 78 - iteration: 3 START || Time now: 15:07:04\n",
      "parameter number: 78 - iteration: 3 END   || Time now: 15:07:28 | Duration iteration: 00:00:24 | Elapsed from start: 02:38:49\n",
      "parameter number: 78 - iteration: 4 START || Time now: 15:07:28\n"
     ]
    },
    {
     "name": "stderr",
     "output_type": "stream",
     "text": [
      "\r",
      " 82%|█████████████████████████████████████████████████████████████████              | 79/96 [2:39:13<33:53, 119.59s/it]"
     ]
    },
    {
     "name": "stdout",
     "output_type": "stream",
     "text": [
      "parameter number: 78 - iteration: 4 END   || Time now: 15:07:53 | Duration iteration: 00:00:24 | Elapsed from start: 02:39:14\n",
      "parameter number: 79 - iteration: 0 START || Time now: 15:07:53\n",
      "parameter number: 79 - iteration: 0 END   || Time now: 15:08:16 | Duration iteration: 00:00:23 | Elapsed from start: 02:39:37\n",
      "parameter number: 79 - iteration: 1 START || Time now: 15:08:16\n",
      "parameter number: 79 - iteration: 1 END   || Time now: 15:08:43 | Duration iteration: 00:00:26 | Elapsed from start: 02:40:03\n",
      "parameter number: 79 - iteration: 2 START || Time now: 15:08:43\n",
      "parameter number: 79 - iteration: 2 END   || Time now: 15:09:08 | Duration iteration: 00:00:25 | Elapsed from start: 02:40:28\n",
      "parameter number: 79 - iteration: 3 START || Time now: 15:09:08\n",
      "parameter number: 79 - iteration: 3 END   || Time now: 15:09:34 | Duration iteration: 00:00:25 | Elapsed from start: 02:40:54\n",
      "parameter number: 79 - iteration: 4 START || Time now: 15:09:34\n"
     ]
    },
    {
     "name": "stderr",
     "output_type": "stream",
     "text": [
      "\r",
      " 83%|█████████████████████████████████████████████████████████████████▊             | 80/96 [2:41:21<32:37, 122.36s/it]"
     ]
    },
    {
     "name": "stdout",
     "output_type": "stream",
     "text": [
      "parameter number: 79 - iteration: 4 END   || Time now: 15:10:02 | Duration iteration: 00:00:28 | Elapsed from start: 02:41:22\n",
      "parameter number: 80 - iteration: 0 START || Time now: 15:10:02\n",
      "parameter number: 80 - iteration: 0 END   || Time now: 15:10:27 | Duration iteration: 00:00:24 | Elapsed from start: 02:41:47\n",
      "parameter number: 80 - iteration: 1 START || Time now: 15:10:27\n",
      "parameter number: 80 - iteration: 1 END   || Time now: 15:10:51 | Duration iteration: 00:00:24 | Elapsed from start: 02:42:12\n",
      "parameter number: 80 - iteration: 2 START || Time now: 15:10:51\n",
      "parameter number: 80 - iteration: 2 END   || Time now: 15:11:16 | Duration iteration: 00:00:24 | Elapsed from start: 02:42:36\n",
      "parameter number: 80 - iteration: 3 START || Time now: 15:11:16\n",
      "parameter number: 80 - iteration: 3 END   || Time now: 15:11:40 | Duration iteration: 00:00:24 | Elapsed from start: 02:43:01\n",
      "parameter number: 80 - iteration: 4 START || Time now: 15:11:40\n"
     ]
    },
    {
     "name": "stderr",
     "output_type": "stream",
     "text": [
      "\r",
      " 84%|██████████████████████████████████████████████████████████████████▋            | 81/96 [2:43:26<30:44, 122.99s/it]"
     ]
    },
    {
     "name": "stdout",
     "output_type": "stream",
     "text": [
      "parameter number: 80 - iteration: 4 END   || Time now: 15:12:06 | Duration iteration: 00:00:26 | Elapsed from start: 02:43:27\n",
      "parameter number: 81 - iteration: 0 START || Time now: 15:12:06\n",
      "parameter number: 81 - iteration: 0 END   || Time now: 15:12:31 | Duration iteration: 00:00:24 | Elapsed from start: 02:43:51\n",
      "parameter number: 81 - iteration: 1 START || Time now: 15:12:31\n",
      "parameter number: 81 - iteration: 1 END   || Time now: 15:12:58 | Duration iteration: 00:00:26 | Elapsed from start: 02:44:18\n",
      "parameter number: 81 - iteration: 2 START || Time now: 15:12:58\n",
      "parameter number: 81 - iteration: 2 END   || Time now: 15:13:24 | Duration iteration: 00:00:25 | Elapsed from start: 02:44:44\n",
      "parameter number: 81 - iteration: 3 START || Time now: 15:13:24\n",
      "parameter number: 81 - iteration: 3 END   || Time now: 15:13:51 | Duration iteration: 00:00:27 | Elapsed from start: 02:45:11\n",
      "parameter number: 81 - iteration: 4 START || Time now: 15:13:51\n"
     ]
    },
    {
     "name": "stderr",
     "output_type": "stream",
     "text": [
      "\r",
      " 85%|███████████████████████████████████████████████████████████████████▍           | 82/96 [2:45:33<29:00, 124.29s/it]"
     ]
    },
    {
     "name": "stdout",
     "output_type": "stream",
     "text": [
      "parameter number: 81 - iteration: 4 END   || Time now: 15:14:14 | Duration iteration: 00:00:23 | Elapsed from start: 02:45:34\n",
      "parameter number: 82 - iteration: 0 START || Time now: 15:14:14\n",
      "parameter number: 82 - iteration: 0 END   || Time now: 15:14:38 | Duration iteration: 00:00:23 | Elapsed from start: 02:45:58\n",
      "parameter number: 82 - iteration: 1 START || Time now: 15:14:38\n",
      "parameter number: 82 - iteration: 1 END   || Time now: 15:15:06 | Duration iteration: 00:00:28 | Elapsed from start: 02:46:26\n",
      "parameter number: 82 - iteration: 2 START || Time now: 15:15:06\n",
      "parameter number: 82 - iteration: 2 END   || Time now: 15:15:29 | Duration iteration: 00:00:23 | Elapsed from start: 02:46:50\n",
      "parameter number: 82 - iteration: 3 START || Time now: 15:15:29\n",
      "parameter number: 82 - iteration: 3 END   || Time now: 15:15:54 | Duration iteration: 00:00:24 | Elapsed from start: 02:47:15\n",
      "parameter number: 82 - iteration: 4 START || Time now: 15:15:54\n"
     ]
    },
    {
     "name": "stderr",
     "output_type": "stream",
     "text": [
      "\r",
      " 86%|████████████████████████████████████████████████████████████████████▎          | 83/96 [2:47:37<26:52, 124.02s/it]"
     ]
    },
    {
     "name": "stdout",
     "output_type": "stream",
     "text": [
      "parameter number: 82 - iteration: 4 END   || Time now: 15:16:17 | Duration iteration: 00:00:23 | Elapsed from start: 02:47:38\n",
      "parameter number: 83 - iteration: 0 START || Time now: 15:16:17\n",
      "parameter number: 83 - iteration: 0 END   || Time now: 15:16:43 | Duration iteration: 00:00:25 | Elapsed from start: 02:48:03\n",
      "parameter number: 83 - iteration: 1 START || Time now: 15:16:43\n",
      "parameter number: 83 - iteration: 1 END   || Time now: 15:17:08 | Duration iteration: 00:00:25 | Elapsed from start: 02:48:29\n",
      "parameter number: 83 - iteration: 2 START || Time now: 15:17:08\n",
      "parameter number: 83 - iteration: 2 END   || Time now: 15:17:33 | Duration iteration: 00:00:24 | Elapsed from start: 02:48:53\n",
      "parameter number: 83 - iteration: 3 START || Time now: 15:17:33\n",
      "parameter number: 83 - iteration: 3 END   || Time now: 15:17:56 | Duration iteration: 00:00:23 | Elapsed from start: 02:49:17\n",
      "parameter number: 83 - iteration: 4 START || Time now: 15:17:56\n"
     ]
    },
    {
     "name": "stderr",
     "output_type": "stream",
     "text": [
      "\r",
      " 88%|█████████████████████████████████████████████████████████████████████▏         | 84/96 [2:49:39<24:42, 123.55s/it]"
     ]
    },
    {
     "name": "stdout",
     "output_type": "stream",
     "text": [
      "parameter number: 83 - iteration: 4 END   || Time now: 15:18:20 | Duration iteration: 00:00:23 | Elapsed from start: 02:49:40\n",
      "parameter number: 84 - iteration: 0 START || Time now: 15:18:20\n",
      "parameter number: 84 - iteration: 0 END   || Time now: 15:18:44 | Duration iteration: 00:00:24 | Elapsed from start: 02:50:05\n",
      "parameter number: 84 - iteration: 1 START || Time now: 15:18:44\n",
      "parameter number: 84 - iteration: 1 END   || Time now: 15:19:08 | Duration iteration: 00:00:23 | Elapsed from start: 02:50:28\n",
      "parameter number: 84 - iteration: 2 START || Time now: 15:19:08\n",
      "parameter number: 84 - iteration: 2 END   || Time now: 15:19:30 | Duration iteration: 00:00:22 | Elapsed from start: 02:50:51\n",
      "parameter number: 84 - iteration: 3 START || Time now: 15:19:30\n",
      "parameter number: 84 - iteration: 3 END   || Time now: 15:19:55 | Duration iteration: 00:00:24 | Elapsed from start: 02:51:15\n",
      "parameter number: 84 - iteration: 4 START || Time now: 15:19:55\n"
     ]
    },
    {
     "name": "stderr",
     "output_type": "stream",
     "text": [
      "\r",
      " 89%|█████████████████████████████████████████████████████████████████████▉         | 85/96 [2:51:37<22:22, 122.02s/it]"
     ]
    },
    {
     "name": "stdout",
     "output_type": "stream",
     "text": [
      "parameter number: 84 - iteration: 4 END   || Time now: 15:20:18 | Duration iteration: 00:00:23 | Elapsed from start: 02:51:39\n",
      "parameter number: 85 - iteration: 0 START || Time now: 15:20:18\n",
      "parameter number: 85 - iteration: 0 END   || Time now: 15:20:41 | Duration iteration: 00:00:23 | Elapsed from start: 02:52:02\n",
      "parameter number: 85 - iteration: 1 START || Time now: 15:20:41\n",
      "parameter number: 85 - iteration: 1 END   || Time now: 15:21:04 | Duration iteration: 00:00:22 | Elapsed from start: 02:52:24\n",
      "parameter number: 85 - iteration: 2 START || Time now: 15:21:04\n",
      "parameter number: 85 - iteration: 2 END   || Time now: 15:21:29 | Duration iteration: 00:00:25 | Elapsed from start: 02:52:49\n",
      "parameter number: 85 - iteration: 3 START || Time now: 15:21:29\n",
      "parameter number: 85 - iteration: 3 END   || Time now: 15:21:52 | Duration iteration: 00:00:23 | Elapsed from start: 02:53:13\n",
      "parameter number: 85 - iteration: 4 START || Time now: 15:21:52\n"
     ]
    },
    {
     "name": "stderr",
     "output_type": "stream",
     "text": [
      "\r",
      " 90%|██████████████████████████████████████████████████████████████████████▊        | 86/96 [2:53:37<20:12, 121.22s/it]"
     ]
    },
    {
     "name": "stdout",
     "output_type": "stream",
     "text": [
      "parameter number: 85 - iteration: 4 END   || Time now: 15:22:17 | Duration iteration: 00:00:25 | Elapsed from start: 02:53:38\n",
      "parameter number: 86 - iteration: 0 START || Time now: 15:22:17\n",
      "parameter number: 86 - iteration: 0 END   || Time now: 15:22:41 | Duration iteration: 00:00:23 | Elapsed from start: 02:54:01\n",
      "parameter number: 86 - iteration: 1 START || Time now: 15:22:41\n",
      "parameter number: 86 - iteration: 1 END   || Time now: 15:23:06 | Duration iteration: 00:00:25 | Elapsed from start: 02:54:27\n",
      "parameter number: 86 - iteration: 2 START || Time now: 15:23:06\n",
      "parameter number: 86 - iteration: 2 END   || Time now: 15:23:29 | Duration iteration: 00:00:23 | Elapsed from start: 02:54:50\n",
      "parameter number: 86 - iteration: 3 START || Time now: 15:23:29\n",
      "parameter number: 86 - iteration: 3 END   || Time now: 15:23:54 | Duration iteration: 00:00:24 | Elapsed from start: 02:55:15\n",
      "parameter number: 86 - iteration: 4 START || Time now: 15:23:54\n"
     ]
    },
    {
     "name": "stderr",
     "output_type": "stream",
     "text": [
      "\r",
      " 91%|███████████████████████████████████████████████████████████████████████▌       | 87/96 [2:55:39<18:12, 121.42s/it]"
     ]
    },
    {
     "name": "stdout",
     "output_type": "stream",
     "text": [
      "parameter number: 86 - iteration: 4 END   || Time now: 15:24:19 | Duration iteration: 00:00:24 | Elapsed from start: 02:55:40\n",
      "parameter number: 87 - iteration: 0 START || Time now: 15:24:19\n",
      "parameter number: 87 - iteration: 0 END   || Time now: 15:24:44 | Duration iteration: 00:00:24 | Elapsed from start: 02:56:05\n",
      "parameter number: 87 - iteration: 1 START || Time now: 15:24:44\n",
      "parameter number: 87 - iteration: 1 END   || Time now: 15:25:07 | Duration iteration: 00:00:23 | Elapsed from start: 02:56:28\n",
      "parameter number: 87 - iteration: 2 START || Time now: 15:25:07\n",
      "parameter number: 87 - iteration: 2 END   || Time now: 15:25:30 | Duration iteration: 00:00:22 | Elapsed from start: 02:56:51\n",
      "parameter number: 87 - iteration: 3 START || Time now: 15:25:30\n",
      "parameter number: 87 - iteration: 3 END   || Time now: 15:25:53 | Duration iteration: 00:00:23 | Elapsed from start: 02:57:14\n",
      "parameter number: 87 - iteration: 4 START || Time now: 15:25:53\n"
     ]
    },
    {
     "name": "stderr",
     "output_type": "stream",
     "text": [
      "\r",
      " 92%|████████████████████████████████████████████████████████████████████████▍      | 88/96 [2:57:38<16:06, 120.80s/it]"
     ]
    },
    {
     "name": "stdout",
     "output_type": "stream",
     "text": [
      "parameter number: 87 - iteration: 4 END   || Time now: 15:26:19 | Duration iteration: 00:00:25 | Elapsed from start: 02:57:39\n",
      "parameter number: 88 - iteration: 0 START || Time now: 15:26:19\n",
      "parameter number: 88 - iteration: 0 END   || Time now: 15:26:41 | Duration iteration: 00:00:22 | Elapsed from start: 02:58:02\n",
      "parameter number: 88 - iteration: 1 START || Time now: 15:26:41\n",
      "parameter number: 88 - iteration: 1 END   || Time now: 15:27:05 | Duration iteration: 00:00:23 | Elapsed from start: 02:58:25\n",
      "parameter number: 88 - iteration: 2 START || Time now: 15:27:05\n",
      "parameter number: 88 - iteration: 2 END   || Time now: 15:27:27 | Duration iteration: 00:00:22 | Elapsed from start: 02:58:48\n",
      "parameter number: 88 - iteration: 3 START || Time now: 15:27:27\n",
      "parameter number: 88 - iteration: 3 END   || Time now: 15:27:50 | Duration iteration: 00:00:23 | Elapsed from start: 02:59:11\n",
      "parameter number: 88 - iteration: 4 START || Time now: 15:27:50\n"
     ]
    },
    {
     "name": "stderr",
     "output_type": "stream",
     "text": [
      "\r",
      " 93%|█████████████████████████████████████████████████████████████████████████▏     | 89/96 [2:59:34<13:56, 119.43s/it]"
     ]
    },
    {
     "name": "stdout",
     "output_type": "stream",
     "text": [
      "parameter number: 88 - iteration: 4 END   || Time now: 15:28:15 | Duration iteration: 00:00:24 | Elapsed from start: 02:59:35\n",
      "parameter number: 89 - iteration: 0 START || Time now: 15:28:15\n",
      "parameter number: 89 - iteration: 0 END   || Time now: 15:28:38 | Duration iteration: 00:00:23 | Elapsed from start: 02:59:59\n",
      "parameter number: 89 - iteration: 1 START || Time now: 15:28:38\n",
      "parameter number: 89 - iteration: 1 END   || Time now: 15:29:03 | Duration iteration: 00:00:24 | Elapsed from start: 03:00:23\n",
      "parameter number: 89 - iteration: 2 START || Time now: 15:29:03\n",
      "parameter number: 89 - iteration: 2 END   || Time now: 15:29:29 | Duration iteration: 00:00:25 | Elapsed from start: 03:00:49\n",
      "parameter number: 89 - iteration: 3 START || Time now: 15:29:29\n",
      "parameter number: 89 - iteration: 3 END   || Time now: 15:29:54 | Duration iteration: 00:00:25 | Elapsed from start: 03:01:15\n",
      "parameter number: 89 - iteration: 4 START || Time now: 15:29:54\n"
     ]
    },
    {
     "name": "stderr",
     "output_type": "stream",
     "text": [
      "\r",
      " 94%|██████████████████████████████████████████████████████████████████████████     | 90/96 [3:01:39<12:05, 120.99s/it]"
     ]
    },
    {
     "name": "stdout",
     "output_type": "stream",
     "text": [
      "parameter number: 89 - iteration: 4 END   || Time now: 15:30:19 | Duration iteration: 00:00:25 | Elapsed from start: 03:01:40\n",
      "parameter number: 90 - iteration: 0 START || Time now: 15:30:19\n",
      "parameter number: 90 - iteration: 0 END   || Time now: 15:30:42 | Duration iteration: 00:00:22 | Elapsed from start: 03:02:03\n",
      "parameter number: 90 - iteration: 1 START || Time now: 15:30:42\n",
      "parameter number: 90 - iteration: 1 END   || Time now: 15:31:08 | Duration iteration: 00:00:25 | Elapsed from start: 03:02:28\n",
      "parameter number: 90 - iteration: 2 START || Time now: 15:31:08\n",
      "parameter number: 90 - iteration: 2 END   || Time now: 15:31:31 | Duration iteration: 00:00:23 | Elapsed from start: 03:02:52\n",
      "parameter number: 90 - iteration: 3 START || Time now: 15:31:31\n",
      "parameter number: 90 - iteration: 3 END   || Time now: 15:31:56 | Duration iteration: 00:00:24 | Elapsed from start: 03:03:16\n",
      "parameter number: 90 - iteration: 4 START || Time now: 15:31:56\n"
     ]
    },
    {
     "name": "stderr",
     "output_type": "stream",
     "text": [
      "\r",
      " 95%|██████████████████████████████████████████████████████████████████████████▉    | 91/96 [3:03:38<10:02, 120.53s/it]"
     ]
    },
    {
     "name": "stdout",
     "output_type": "stream",
     "text": [
      "parameter number: 90 - iteration: 4 END   || Time now: 15:32:19 | Duration iteration: 00:00:22 | Elapsed from start: 03:03:39\n",
      "parameter number: 91 - iteration: 0 START || Time now: 15:32:19\n",
      "parameter number: 91 - iteration: 0 END   || Time now: 15:32:42 | Duration iteration: 00:00:22 | Elapsed from start: 03:04:02\n",
      "parameter number: 91 - iteration: 1 START || Time now: 15:32:42\n",
      "parameter number: 91 - iteration: 1 END   || Time now: 15:33:05 | Duration iteration: 00:00:23 | Elapsed from start: 03:04:25\n",
      "parameter number: 91 - iteration: 2 START || Time now: 15:33:05\n",
      "parameter number: 91 - iteration: 2 END   || Time now: 15:33:28 | Duration iteration: 00:00:23 | Elapsed from start: 03:04:49\n",
      "parameter number: 91 - iteration: 3 START || Time now: 15:33:28\n",
      "parameter number: 91 - iteration: 3 END   || Time now: 15:33:52 | Duration iteration: 00:00:23 | Elapsed from start: 03:05:12\n",
      "parameter number: 91 - iteration: 4 START || Time now: 15:33:52\n"
     ]
    },
    {
     "name": "stderr",
     "output_type": "stream",
     "text": [
      "\r",
      " 96%|███████████████████████████████████████████████████████████████████████████▋   | 92/96 [3:05:36<07:58, 119.54s/it]"
     ]
    },
    {
     "name": "stdout",
     "output_type": "stream",
     "text": [
      "parameter number: 91 - iteration: 4 END   || Time now: 15:34:16 | Duration iteration: 00:00:24 | Elapsed from start: 03:05:37\n",
      "parameter number: 92 - iteration: 0 START || Time now: 15:34:16\n",
      "parameter number: 92 - iteration: 0 END   || Time now: 15:34:41 | Duration iteration: 00:00:25 | Elapsed from start: 03:06:02\n",
      "parameter number: 92 - iteration: 1 START || Time now: 15:34:41\n",
      "parameter number: 92 - iteration: 1 END   || Time now: 15:35:06 | Duration iteration: 00:00:24 | Elapsed from start: 03:06:27\n",
      "parameter number: 92 - iteration: 2 START || Time now: 15:35:06\n",
      "parameter number: 92 - iteration: 2 END   || Time now: 15:35:29 | Duration iteration: 00:00:23 | Elapsed from start: 03:06:50\n",
      "parameter number: 92 - iteration: 3 START || Time now: 15:35:29\n",
      "parameter number: 92 - iteration: 3 END   || Time now: 15:35:55 | Duration iteration: 00:00:25 | Elapsed from start: 03:07:15\n",
      "parameter number: 92 - iteration: 4 START || Time now: 15:35:55\n"
     ]
    },
    {
     "name": "stderr",
     "output_type": "stream",
     "text": [
      "\r",
      " 97%|████████████████████████████████████████████████████████████████████████████▌  | 93/96 [3:07:38<06:00, 120.29s/it]"
     ]
    },
    {
     "name": "stdout",
     "output_type": "stream",
     "text": [
      "parameter number: 92 - iteration: 4 END   || Time now: 15:36:18 | Duration iteration: 00:00:23 | Elapsed from start: 03:07:39\n",
      "parameter number: 93 - iteration: 0 START || Time now: 15:36:18\n",
      "parameter number: 93 - iteration: 0 END   || Time now: 15:36:43 | Duration iteration: 00:00:25 | Elapsed from start: 03:08:04\n",
      "parameter number: 93 - iteration: 1 START || Time now: 15:36:43\n",
      "parameter number: 93 - iteration: 1 END   || Time now: 15:37:06 | Duration iteration: 00:00:22 | Elapsed from start: 03:08:27\n",
      "parameter number: 93 - iteration: 2 START || Time now: 15:37:06\n",
      "parameter number: 93 - iteration: 2 END   || Time now: 15:37:29 | Duration iteration: 00:00:22 | Elapsed from start: 03:08:49\n",
      "parameter number: 93 - iteration: 3 START || Time now: 15:37:29\n",
      "parameter number: 93 - iteration: 3 END   || Time now: 15:37:52 | Duration iteration: 00:00:23 | Elapsed from start: 03:09:13\n",
      "parameter number: 93 - iteration: 4 START || Time now: 15:37:52\n"
     ]
    },
    {
     "name": "stderr",
     "output_type": "stream",
     "text": [
      "\r",
      " 98%|█████████████████████████████████████████████████████████████████████████████▎ | 94/96 [3:09:37<03:59, 119.93s/it]"
     ]
    },
    {
     "name": "stdout",
     "output_type": "stream",
     "text": [
      "parameter number: 93 - iteration: 4 END   || Time now: 15:38:17 | Duration iteration: 00:00:24 | Elapsed from start: 03:09:38\n",
      "parameter number: 94 - iteration: 0 START || Time now: 15:38:17\n",
      "parameter number: 94 - iteration: 0 END   || Time now: 15:38:42 | Duration iteration: 00:00:24 | Elapsed from start: 03:10:02\n",
      "parameter number: 94 - iteration: 1 START || Time now: 15:38:42\n",
      "parameter number: 94 - iteration: 1 END   || Time now: 15:39:05 | Duration iteration: 00:00:22 | Elapsed from start: 03:10:25\n",
      "parameter number: 94 - iteration: 2 START || Time now: 15:39:05\n",
      "parameter number: 94 - iteration: 2 END   || Time now: 15:39:29 | Duration iteration: 00:00:24 | Elapsed from start: 03:10:50\n",
      "parameter number: 94 - iteration: 3 START || Time now: 15:39:29\n",
      "parameter number: 94 - iteration: 3 END   || Time now: 15:39:52 | Duration iteration: 00:00:23 | Elapsed from start: 03:11:13\n",
      "parameter number: 94 - iteration: 4 START || Time now: 15:39:52\n"
     ]
    },
    {
     "name": "stderr",
     "output_type": "stream",
     "text": [
      "\r",
      " 99%|██████████████████████████████████████████████████████████████████████████████▏| 95/96 [3:11:34<01:59, 119.15s/it]"
     ]
    },
    {
     "name": "stdout",
     "output_type": "stream",
     "text": [
      "parameter number: 94 - iteration: 4 END   || Time now: 15:40:15 | Duration iteration: 00:00:22 | Elapsed from start: 03:11:35\n",
      "parameter number: 95 - iteration: 0 START || Time now: 15:40:15\n",
      "parameter number: 95 - iteration: 0 END   || Time now: 15:40:38 | Duration iteration: 00:00:23 | Elapsed from start: 03:11:59\n",
      "parameter number: 95 - iteration: 1 START || Time now: 15:40:38\n",
      "parameter number: 95 - iteration: 1 END   || Time now: 15:41:01 | Duration iteration: 00:00:22 | Elapsed from start: 03:12:21\n",
      "parameter number: 95 - iteration: 2 START || Time now: 15:41:01\n",
      "parameter number: 95 - iteration: 2 END   || Time now: 15:41:23 | Duration iteration: 00:00:22 | Elapsed from start: 03:12:44\n",
      "parameter number: 95 - iteration: 3 START || Time now: 15:41:23\n",
      "parameter number: 95 - iteration: 3 END   || Time now: 15:41:46 | Duration iteration: 00:00:22 | Elapsed from start: 03:13:06\n",
      "parameter number: 95 - iteration: 4 START || Time now: 15:41:46\n"
     ]
    },
    {
     "name": "stderr",
     "output_type": "stream",
     "text": [
      "100%|███████████████████████████████████████████████████████████████████████████████| 96/96 [3:13:28<00:00, 120.92s/it]"
     ]
    },
    {
     "name": "stdout",
     "output_type": "stream",
     "text": [
      "parameter number: 95 - iteration: 4 END   || Time now: 15:42:09 | Duration iteration: 00:00:22 | Elapsed from start: 03:13:29\n"
     ]
    },
    {
     "name": "stderr",
     "output_type": "stream",
     "text": [
      "\n"
     ]
    }
   ],
   "source": [
    "time_beginning_all = datetime.now()\n",
    "\n",
    "for idx, row in tqdm(table.iterrows(), total=table.shape[0]):\n",
    "    if idx >= idx_restart:\n",
    "        # repeat each parameter set 5 times\n",
    "        for iteration in range(0, 5):\n",
    "\n",
    "            # output file for this iteration\n",
    "            outputPath = f'--output_file=../output/iterations/output_proportions_{idx}.csv'\n",
    "            cmd = base_cmd + ' ' + outputPath\n",
    "            \n",
    "            # parameterset to use\n",
    "            arg = f'--parameterset_index={idx+1}'\n",
    "            full_command = f'{cmd} {arg}'\n",
    "            \n",
    "            time_beginning_iteration = datetime.now()\n",
    "            \n",
    "            print('parameter number: ' + str(idx) + ' - iteration: ' + str(iteration) + ' START || Time now: ' + time_beginning_iteration.strftime(\"%H:%M:%S\"))\n",
    "                                    \n",
    "            # Capture the output of the Java program\n",
    "            try:\n",
    "                output = subprocess.check_output(full_command, stderr=subprocess.STDOUT, universal_newlines=True)\n",
    "            except subprocess.CalledProcessError as e:\n",
    "                print(f\"Java program exited with non-zero return code: {e.returncode}\")\n",
    "                print(f\"Error message: {e.output}\")\n",
    "                exit(1)\n",
    "                \n",
    "            time_end_iteration = datetime.now()\n",
    "         \n",
    "            print('parameter number: ' + str(idx) + ' - iteration: ' + str(iteration) + ' END   || Time now: ' + time_end_iteration.strftime(\"%H:%M:%S\") + ' | Duration iteration: ' + calculate_elapsed_time(time_beginning_iteration, time_end_iteration) + ' | Elapsed from start: ' + calculate_elapsed_time(time_beginning_all, time_end_iteration))"
   ]
  }
 ],
 "metadata": {
  "kernelspec": {
   "display_name": "Python 3 (ipykernel)",
   "language": "python",
   "name": "python3"
  },
  "language_info": {
   "codemirror_mode": {
    "name": "ipython",
    "version": 3
   },
   "file_extension": ".py",
   "mimetype": "text/x-python",
   "name": "python",
   "nbconvert_exporter": "python",
   "pygments_lexer": "ipython3",
   "version": "3.9.12"
  }
 },
 "nbformat": 4,
 "nbformat_minor": 5
}
