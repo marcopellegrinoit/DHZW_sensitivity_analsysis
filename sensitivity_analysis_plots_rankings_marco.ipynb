{
 "cells": [
  {
   "cell_type": "code",
   "execution_count": 9,
   "id": "fe0f7db8",
   "metadata": {
    "pycharm": {
     "name": "#%%\n"
    }
   },
   "outputs": [],
   "source": [
    "import warnings\n",
    "import os\n",
    "import pandas as pd\n",
    "import matplotlib.pyplot as plt\n",
    "import numpy as np\n",
    "import pandas as pd\n",
    "import seaborn as sns"
   ]
  },
  {
   "cell_type": "markdown",
   "id": "fe3a9cbe",
   "metadata": {},
   "source": [
    "## Calculate mean of the iterations of each parameter set "
   ]
  },
  {
   "cell_type": "code",
   "execution_count": 10,
   "id": "ccd3ad8f",
   "metadata": {},
   "outputs": [
    {
     "data": {
      "text/html": [
       "<div>\n",
       "<style scoped>\n",
       "    .dataframe tbody tr th:only-of-type {\n",
       "        vertical-align: middle;\n",
       "    }\n",
       "\n",
       "    .dataframe tbody tr th {\n",
       "        vertical-align: top;\n",
       "    }\n",
       "\n",
       "    .dataframe thead th {\n",
       "        text-align: right;\n",
       "    }\n",
       "</style>\n",
       "<table border=\"1\" class=\"dataframe\">\n",
       "  <thead>\n",
       "    <tr style=\"text-align: right;\">\n",
       "      <th></th>\n",
       "      <th>CAR_DRIVER</th>\n",
       "      <th>CAR_PASSENGER</th>\n",
       "      <th>BIKE</th>\n",
       "      <th>BUS_TRAM</th>\n",
       "      <th>TRAIN</th>\n",
       "      <th>WALK</th>\n",
       "    </tr>\n",
       "  </thead>\n",
       "  <tbody>\n",
       "  </tbody>\n",
       "</table>\n",
       "</div>"
      ],
      "text/plain": [
       "Empty DataFrame\n",
       "Columns: [CAR_DRIVER, CAR_PASSENGER, BIKE, BUS_TRAM, TRAIN, WALK]\n",
       "Index: []"
      ]
     },
     "execution_count": 10,
     "metadata": {},
     "output_type": "execute_result"
    }
   ],
   "source": [
    "# DataFrame to store mean values\n",
    "df_output = pd.DataFrame(columns=[\"CAR_DRIVER\", \"CAR_PASSENGER\", \"BIKE\", \"BUS_TRAM\", \"TRAIN\", \"WALK\"])\n",
    "\n",
    "df_output"
   ]
  },
  {
   "cell_type": "code",
   "execution_count": 11,
   "id": "94dc5c6e",
   "metadata": {},
   "outputs": [],
   "source": [
    "warnings.filterwarnings(\"ignore\")\n",
    "\n",
    "folder_path = 'output/iterations'\n",
    "\n",
    "# Iterate through each CSV file in the folder\n",
    "for filename in os.listdir(folder_path):\n",
    "    #print(filename)\n",
    "    if filename.endswith('.csv'):\n",
    "        file_path = os.path.join(folder_path, filename)\n",
    "        \n",
    "        # Read the CSV file into a DataFrame\n",
    "        df = pd.read_csv(file_path)\n",
    "        \n",
    "        # Calculate the mean of each column\n",
    "        mean_values = df.mean()\n",
    "        \n",
    "        #print(mean_values)\n",
    "                        \n",
    "        # Append the mean values to the new DataFrame       \n",
    "        df_output.loc[len(df_output)] = mean_values\n",
    "        \n",
    "# Enable warnings again\n",
    "warnings.filterwarnings(\"default\")"
   ]
  },
  {
   "cell_type": "code",
   "execution_count": 12,
   "id": "de12e3d8",
   "metadata": {},
   "outputs": [
    {
     "data": {
      "text/html": [
       "<div>\n",
       "<style scoped>\n",
       "    .dataframe tbody tr th:only-of-type {\n",
       "        vertical-align: middle;\n",
       "    }\n",
       "\n",
       "    .dataframe tbody tr th {\n",
       "        vertical-align: top;\n",
       "    }\n",
       "\n",
       "    .dataframe thead th {\n",
       "        text-align: right;\n",
       "    }\n",
       "</style>\n",
       "<table border=\"1\" class=\"dataframe\">\n",
       "  <thead>\n",
       "    <tr style=\"text-align: right;\">\n",
       "      <th></th>\n",
       "      <th>CAR_DRIVER</th>\n",
       "      <th>CAR_PASSENGER</th>\n",
       "      <th>BIKE</th>\n",
       "      <th>BUS_TRAM</th>\n",
       "      <th>TRAIN</th>\n",
       "      <th>WALK</th>\n",
       "    </tr>\n",
       "  </thead>\n",
       "  <tbody>\n",
       "    <tr>\n",
       "      <th>0</th>\n",
       "      <td>0.029042</td>\n",
       "      <td>0.055251</td>\n",
       "      <td>0.280208</td>\n",
       "      <td>0.237212</td>\n",
       "      <td>0.020263</td>\n",
       "      <td>0.378024</td>\n",
       "    </tr>\n",
       "    <tr>\n",
       "      <th>1</th>\n",
       "      <td>0.030824</td>\n",
       "      <td>0.063079</td>\n",
       "      <td>0.186901</td>\n",
       "      <td>0.226334</td>\n",
       "      <td>0.027643</td>\n",
       "      <td>0.465218</td>\n",
       "    </tr>\n",
       "    <tr>\n",
       "      <th>2</th>\n",
       "      <td>0.027745</td>\n",
       "      <td>0.043872</td>\n",
       "      <td>0.247660</td>\n",
       "      <td>0.215143</td>\n",
       "      <td>0.024183</td>\n",
       "      <td>0.441396</td>\n",
       "    </tr>\n",
       "    <tr>\n",
       "      <th>3</th>\n",
       "      <td>0.030796</td>\n",
       "      <td>0.067068</td>\n",
       "      <td>0.202426</td>\n",
       "      <td>0.278584</td>\n",
       "      <td>0.030798</td>\n",
       "      <td>0.390329</td>\n",
       "    </tr>\n",
       "    <tr>\n",
       "      <th>4</th>\n",
       "      <td>0.022430</td>\n",
       "      <td>0.058587</td>\n",
       "      <td>0.127174</td>\n",
       "      <td>0.153452</td>\n",
       "      <td>0.016896</td>\n",
       "      <td>0.621461</td>\n",
       "    </tr>\n",
       "    <tr>\n",
       "      <th>...</th>\n",
       "      <td>...</td>\n",
       "      <td>...</td>\n",
       "      <td>...</td>\n",
       "      <td>...</td>\n",
       "      <td>...</td>\n",
       "      <td>...</td>\n",
       "    </tr>\n",
       "    <tr>\n",
       "      <th>61</th>\n",
       "      <td>0.002572</td>\n",
       "      <td>0.002766</td>\n",
       "      <td>0.001315</td>\n",
       "      <td>0.006265</td>\n",
       "      <td>0.084339</td>\n",
       "      <td>0.902745</td>\n",
       "    </tr>\n",
       "    <tr>\n",
       "      <th>62</th>\n",
       "      <td>0.001924</td>\n",
       "      <td>0.002193</td>\n",
       "      <td>0.001360</td>\n",
       "      <td>0.004909</td>\n",
       "      <td>0.086810</td>\n",
       "      <td>0.902804</td>\n",
       "    </tr>\n",
       "    <tr>\n",
       "      <th>63</th>\n",
       "      <td>0.015298</td>\n",
       "      <td>0.069697</td>\n",
       "      <td>0.133656</td>\n",
       "      <td>0.120769</td>\n",
       "      <td>0.010254</td>\n",
       "      <td>0.650326</td>\n",
       "    </tr>\n",
       "    <tr>\n",
       "      <th>64</th>\n",
       "      <td>0.020905</td>\n",
       "      <td>0.038301</td>\n",
       "      <td>0.270495</td>\n",
       "      <td>0.156898</td>\n",
       "      <td>0.015045</td>\n",
       "      <td>0.498355</td>\n",
       "    </tr>\n",
       "    <tr>\n",
       "      <th>65</th>\n",
       "      <td>0.024339</td>\n",
       "      <td>0.037062</td>\n",
       "      <td>0.302828</td>\n",
       "      <td>0.205706</td>\n",
       "      <td>0.023842</td>\n",
       "      <td>0.406224</td>\n",
       "    </tr>\n",
       "  </tbody>\n",
       "</table>\n",
       "<p>66 rows × 6 columns</p>\n",
       "</div>"
      ],
      "text/plain": [
       "    CAR_DRIVER  CAR_PASSENGER      BIKE  BUS_TRAM     TRAIN      WALK\n",
       "0     0.029042       0.055251  0.280208  0.237212  0.020263  0.378024\n",
       "1     0.030824       0.063079  0.186901  0.226334  0.027643  0.465218\n",
       "2     0.027745       0.043872  0.247660  0.215143  0.024183  0.441396\n",
       "3     0.030796       0.067068  0.202426  0.278584  0.030798  0.390329\n",
       "4     0.022430       0.058587  0.127174  0.153452  0.016896  0.621461\n",
       "..         ...            ...       ...       ...       ...       ...\n",
       "61    0.002572       0.002766  0.001315  0.006265  0.084339  0.902745\n",
       "62    0.001924       0.002193  0.001360  0.004909  0.086810  0.902804\n",
       "63    0.015298       0.069697  0.133656  0.120769  0.010254  0.650326\n",
       "64    0.020905       0.038301  0.270495  0.156898  0.015045  0.498355\n",
       "65    0.024339       0.037062  0.302828  0.205706  0.023842  0.406224\n",
       "\n",
       "[66 rows x 6 columns]"
      ]
     },
     "execution_count": 12,
     "metadata": {},
     "output_type": "execute_result"
    }
   ],
   "source": [
    "df_output"
   ]
  },
  {
   "cell_type": "markdown",
   "id": "43d4fa45",
   "metadata": {},
   "source": [
    "## Link means with parameter set for evaluation"
   ]
  },
  {
   "cell_type": "code",
   "execution_count": 13,
   "id": "9f706803",
   "metadata": {
    "pycharm": {
     "name": "#%%\n"
    }
   },
   "outputs": [
    {
     "name": "stdout",
     "output_type": "stream",
     "text": [
      "66\n",
      "66\n",
      "True\n"
     ]
    }
   ],
   "source": [
    "df_input = pd.read_csv('data/parametersets_restricted.csv')\n",
    "\n",
    "# check that everything matches\n",
    "print(df_output.shape[0])\n",
    "print(df_input.shape[0])\n",
    "print(df_output.shape[0] == df_input.shape[0])\n",
    "\n",
    "# put parameters and results together\n",
    "df = pd.concat([df_input, df_output], axis=1)"
   ]
  },
  {
   "cell_type": "code",
   "execution_count": 14,
   "id": "a71fbd94",
   "metadata": {
    "pycharm": {
     "name": "#%%\n"
    }
   },
   "outputs": [
    {
     "data": {
      "text/html": [
       "<div>\n",
       "<style scoped>\n",
       "    .dataframe tbody tr th:only-of-type {\n",
       "        vertical-align: middle;\n",
       "    }\n",
       "\n",
       "    .dataframe tbody tr th {\n",
       "        vertical-align: top;\n",
       "    }\n",
       "\n",
       "    .dataframe thead th {\n",
       "        text-align: right;\n",
       "    }\n",
       "</style>\n",
       "<table border=\"1\" class=\"dataframe\">\n",
       "  <thead>\n",
       "    <tr style=\"text-align: right;\">\n",
       "      <th></th>\n",
       "      <th>alphaWalk</th>\n",
       "      <th>alphaBike</th>\n",
       "      <th>alphaCarDriver</th>\n",
       "      <th>alphaCarPassenger</th>\n",
       "      <th>alphaBus</th>\n",
       "      <th>alphaTrain</th>\n",
       "      <th>betaTimeWalk</th>\n",
       "      <th>betaTimeBike</th>\n",
       "      <th>betaTimeCarDriver</th>\n",
       "      <th>betaTimeCarPassenger</th>\n",
       "      <th>...</th>\n",
       "      <th>betaTimeWalkTransport</th>\n",
       "      <th>betaChangesTransport</th>\n",
       "      <th>used_parameter_label</th>\n",
       "      <th>used_parameter_value</th>\n",
       "      <th>CAR_DRIVER</th>\n",
       "      <th>CAR_PASSENGER</th>\n",
       "      <th>BIKE</th>\n",
       "      <th>BUS_TRAM</th>\n",
       "      <th>TRAIN</th>\n",
       "      <th>WALK</th>\n",
       "    </tr>\n",
       "  </thead>\n",
       "  <tbody>\n",
       "    <tr>\n",
       "      <th>0</th>\n",
       "      <td>-10.0</td>\n",
       "      <td>0.0</td>\n",
       "      <td>0.0</td>\n",
       "      <td>0.0</td>\n",
       "      <td>0.0</td>\n",
       "      <td>0.0</td>\n",
       "      <td>-0.04</td>\n",
       "      <td>-0.03</td>\n",
       "      <td>-0.02</td>\n",
       "      <td>-0.02</td>\n",
       "      <td>...</td>\n",
       "      <td>-0.03</td>\n",
       "      <td>-0.3</td>\n",
       "      <td>alphaWalk</td>\n",
       "      <td>-10.0</td>\n",
       "      <td>0.029042</td>\n",
       "      <td>0.055251</td>\n",
       "      <td>0.280208</td>\n",
       "      <td>0.237212</td>\n",
       "      <td>0.020263</td>\n",
       "      <td>0.378024</td>\n",
       "    </tr>\n",
       "    <tr>\n",
       "      <th>1</th>\n",
       "      <td>-8.0</td>\n",
       "      <td>0.0</td>\n",
       "      <td>0.0</td>\n",
       "      <td>0.0</td>\n",
       "      <td>0.0</td>\n",
       "      <td>0.0</td>\n",
       "      <td>-0.04</td>\n",
       "      <td>-0.03</td>\n",
       "      <td>-0.02</td>\n",
       "      <td>-0.02</td>\n",
       "      <td>...</td>\n",
       "      <td>-0.03</td>\n",
       "      <td>-0.3</td>\n",
       "      <td>alphaWalk</td>\n",
       "      <td>-8.0</td>\n",
       "      <td>0.030824</td>\n",
       "      <td>0.063079</td>\n",
       "      <td>0.186901</td>\n",
       "      <td>0.226334</td>\n",
       "      <td>0.027643</td>\n",
       "      <td>0.465218</td>\n",
       "    </tr>\n",
       "    <tr>\n",
       "      <th>2</th>\n",
       "      <td>-6.0</td>\n",
       "      <td>0.0</td>\n",
       "      <td>0.0</td>\n",
       "      <td>0.0</td>\n",
       "      <td>0.0</td>\n",
       "      <td>0.0</td>\n",
       "      <td>-0.04</td>\n",
       "      <td>-0.03</td>\n",
       "      <td>-0.02</td>\n",
       "      <td>-0.02</td>\n",
       "      <td>...</td>\n",
       "      <td>-0.03</td>\n",
       "      <td>-0.3</td>\n",
       "      <td>alphaWalk</td>\n",
       "      <td>-6.0</td>\n",
       "      <td>0.027745</td>\n",
       "      <td>0.043872</td>\n",
       "      <td>0.247660</td>\n",
       "      <td>0.215143</td>\n",
       "      <td>0.024183</td>\n",
       "      <td>0.441396</td>\n",
       "    </tr>\n",
       "    <tr>\n",
       "      <th>3</th>\n",
       "      <td>-4.0</td>\n",
       "      <td>0.0</td>\n",
       "      <td>0.0</td>\n",
       "      <td>0.0</td>\n",
       "      <td>0.0</td>\n",
       "      <td>0.0</td>\n",
       "      <td>-0.04</td>\n",
       "      <td>-0.03</td>\n",
       "      <td>-0.02</td>\n",
       "      <td>-0.02</td>\n",
       "      <td>...</td>\n",
       "      <td>-0.03</td>\n",
       "      <td>-0.3</td>\n",
       "      <td>alphaWalk</td>\n",
       "      <td>-4.0</td>\n",
       "      <td>0.030796</td>\n",
       "      <td>0.067068</td>\n",
       "      <td>0.202426</td>\n",
       "      <td>0.278584</td>\n",
       "      <td>0.030798</td>\n",
       "      <td>0.390329</td>\n",
       "    </tr>\n",
       "    <tr>\n",
       "      <th>4</th>\n",
       "      <td>-2.0</td>\n",
       "      <td>0.0</td>\n",
       "      <td>0.0</td>\n",
       "      <td>0.0</td>\n",
       "      <td>0.0</td>\n",
       "      <td>0.0</td>\n",
       "      <td>-0.04</td>\n",
       "      <td>-0.03</td>\n",
       "      <td>-0.02</td>\n",
       "      <td>-0.02</td>\n",
       "      <td>...</td>\n",
       "      <td>-0.03</td>\n",
       "      <td>-0.3</td>\n",
       "      <td>alphaWalk</td>\n",
       "      <td>-2.0</td>\n",
       "      <td>0.022430</td>\n",
       "      <td>0.058587</td>\n",
       "      <td>0.127174</td>\n",
       "      <td>0.153452</td>\n",
       "      <td>0.016896</td>\n",
       "      <td>0.621461</td>\n",
       "    </tr>\n",
       "    <tr>\n",
       "      <th>...</th>\n",
       "      <td>...</td>\n",
       "      <td>...</td>\n",
       "      <td>...</td>\n",
       "      <td>...</td>\n",
       "      <td>...</td>\n",
       "      <td>...</td>\n",
       "      <td>...</td>\n",
       "      <td>...</td>\n",
       "      <td>...</td>\n",
       "      <td>...</td>\n",
       "      <td>...</td>\n",
       "      <td>...</td>\n",
       "      <td>...</td>\n",
       "      <td>...</td>\n",
       "      <td>...</td>\n",
       "      <td>...</td>\n",
       "      <td>...</td>\n",
       "      <td>...</td>\n",
       "      <td>...</td>\n",
       "      <td>...</td>\n",
       "      <td>...</td>\n",
       "    </tr>\n",
       "    <tr>\n",
       "      <th>61</th>\n",
       "      <td>0.0</td>\n",
       "      <td>0.0</td>\n",
       "      <td>0.0</td>\n",
       "      <td>0.0</td>\n",
       "      <td>0.0</td>\n",
       "      <td>2.0</td>\n",
       "      <td>-0.04</td>\n",
       "      <td>-0.03</td>\n",
       "      <td>-0.02</td>\n",
       "      <td>-0.02</td>\n",
       "      <td>...</td>\n",
       "      <td>-0.03</td>\n",
       "      <td>-0.3</td>\n",
       "      <td>alphaTrain</td>\n",
       "      <td>2.0</td>\n",
       "      <td>0.002572</td>\n",
       "      <td>0.002766</td>\n",
       "      <td>0.001315</td>\n",
       "      <td>0.006265</td>\n",
       "      <td>0.084339</td>\n",
       "      <td>0.902745</td>\n",
       "    </tr>\n",
       "    <tr>\n",
       "      <th>62</th>\n",
       "      <td>0.0</td>\n",
       "      <td>0.0</td>\n",
       "      <td>0.0</td>\n",
       "      <td>0.0</td>\n",
       "      <td>0.0</td>\n",
       "      <td>4.0</td>\n",
       "      <td>-0.04</td>\n",
       "      <td>-0.03</td>\n",
       "      <td>-0.02</td>\n",
       "      <td>-0.02</td>\n",
       "      <td>...</td>\n",
       "      <td>-0.03</td>\n",
       "      <td>-0.3</td>\n",
       "      <td>alphaTrain</td>\n",
       "      <td>4.0</td>\n",
       "      <td>0.001924</td>\n",
       "      <td>0.002193</td>\n",
       "      <td>0.001360</td>\n",
       "      <td>0.004909</td>\n",
       "      <td>0.086810</td>\n",
       "      <td>0.902804</td>\n",
       "    </tr>\n",
       "    <tr>\n",
       "      <th>63</th>\n",
       "      <td>0.0</td>\n",
       "      <td>0.0</td>\n",
       "      <td>0.0</td>\n",
       "      <td>0.0</td>\n",
       "      <td>0.0</td>\n",
       "      <td>6.0</td>\n",
       "      <td>-0.04</td>\n",
       "      <td>-0.03</td>\n",
       "      <td>-0.02</td>\n",
       "      <td>-0.02</td>\n",
       "      <td>...</td>\n",
       "      <td>-0.03</td>\n",
       "      <td>-0.3</td>\n",
       "      <td>alphaTrain</td>\n",
       "      <td>6.0</td>\n",
       "      <td>0.015298</td>\n",
       "      <td>0.069697</td>\n",
       "      <td>0.133656</td>\n",
       "      <td>0.120769</td>\n",
       "      <td>0.010254</td>\n",
       "      <td>0.650326</td>\n",
       "    </tr>\n",
       "    <tr>\n",
       "      <th>64</th>\n",
       "      <td>0.0</td>\n",
       "      <td>0.0</td>\n",
       "      <td>0.0</td>\n",
       "      <td>0.0</td>\n",
       "      <td>0.0</td>\n",
       "      <td>8.0</td>\n",
       "      <td>-0.04</td>\n",
       "      <td>-0.03</td>\n",
       "      <td>-0.02</td>\n",
       "      <td>-0.02</td>\n",
       "      <td>...</td>\n",
       "      <td>-0.03</td>\n",
       "      <td>-0.3</td>\n",
       "      <td>alphaTrain</td>\n",
       "      <td>8.0</td>\n",
       "      <td>0.020905</td>\n",
       "      <td>0.038301</td>\n",
       "      <td>0.270495</td>\n",
       "      <td>0.156898</td>\n",
       "      <td>0.015045</td>\n",
       "      <td>0.498355</td>\n",
       "    </tr>\n",
       "    <tr>\n",
       "      <th>65</th>\n",
       "      <td>0.0</td>\n",
       "      <td>0.0</td>\n",
       "      <td>0.0</td>\n",
       "      <td>0.0</td>\n",
       "      <td>0.0</td>\n",
       "      <td>10.0</td>\n",
       "      <td>-0.04</td>\n",
       "      <td>-0.03</td>\n",
       "      <td>-0.02</td>\n",
       "      <td>-0.02</td>\n",
       "      <td>...</td>\n",
       "      <td>-0.03</td>\n",
       "      <td>-0.3</td>\n",
       "      <td>alphaTrain</td>\n",
       "      <td>10.0</td>\n",
       "      <td>0.024339</td>\n",
       "      <td>0.037062</td>\n",
       "      <td>0.302828</td>\n",
       "      <td>0.205706</td>\n",
       "      <td>0.023842</td>\n",
       "      <td>0.406224</td>\n",
       "    </tr>\n",
       "  </tbody>\n",
       "</table>\n",
       "<p>66 rows × 26 columns</p>\n",
       "</div>"
      ],
      "text/plain": [
       "    alphaWalk  alphaBike  alphaCarDriver  alphaCarPassenger  alphaBus  \\\n",
       "0       -10.0        0.0             0.0                0.0       0.0   \n",
       "1        -8.0        0.0             0.0                0.0       0.0   \n",
       "2        -6.0        0.0             0.0                0.0       0.0   \n",
       "3        -4.0        0.0             0.0                0.0       0.0   \n",
       "4        -2.0        0.0             0.0                0.0       0.0   \n",
       "..        ...        ...             ...                ...       ...   \n",
       "61        0.0        0.0             0.0                0.0       0.0   \n",
       "62        0.0        0.0             0.0                0.0       0.0   \n",
       "63        0.0        0.0             0.0                0.0       0.0   \n",
       "64        0.0        0.0             0.0                0.0       0.0   \n",
       "65        0.0        0.0             0.0                0.0       0.0   \n",
       "\n",
       "    alphaTrain  betaTimeWalk  betaTimeBike  betaTimeCarDriver  \\\n",
       "0          0.0         -0.04         -0.03              -0.02   \n",
       "1          0.0         -0.04         -0.03              -0.02   \n",
       "2          0.0         -0.04         -0.03              -0.02   \n",
       "3          0.0         -0.04         -0.03              -0.02   \n",
       "4          0.0         -0.04         -0.03              -0.02   \n",
       "..         ...           ...           ...                ...   \n",
       "61         2.0         -0.04         -0.03              -0.02   \n",
       "62         4.0         -0.04         -0.03              -0.02   \n",
       "63         6.0         -0.04         -0.03              -0.02   \n",
       "64         8.0         -0.04         -0.03              -0.02   \n",
       "65        10.0         -0.04         -0.03              -0.02   \n",
       "\n",
       "    betaTimeCarPassenger  ...  betaTimeWalkTransport  betaChangesTransport  \\\n",
       "0                  -0.02  ...                  -0.03                  -0.3   \n",
       "1                  -0.02  ...                  -0.03                  -0.3   \n",
       "2                  -0.02  ...                  -0.03                  -0.3   \n",
       "3                  -0.02  ...                  -0.03                  -0.3   \n",
       "4                  -0.02  ...                  -0.03                  -0.3   \n",
       "..                   ...  ...                    ...                   ...   \n",
       "61                 -0.02  ...                  -0.03                  -0.3   \n",
       "62                 -0.02  ...                  -0.03                  -0.3   \n",
       "63                 -0.02  ...                  -0.03                  -0.3   \n",
       "64                 -0.02  ...                  -0.03                  -0.3   \n",
       "65                 -0.02  ...                  -0.03                  -0.3   \n",
       "\n",
       "    used_parameter_label  used_parameter_value  CAR_DRIVER  CAR_PASSENGER  \\\n",
       "0              alphaWalk                 -10.0    0.029042       0.055251   \n",
       "1              alphaWalk                  -8.0    0.030824       0.063079   \n",
       "2              alphaWalk                  -6.0    0.027745       0.043872   \n",
       "3              alphaWalk                  -4.0    0.030796       0.067068   \n",
       "4              alphaWalk                  -2.0    0.022430       0.058587   \n",
       "..                   ...                   ...         ...            ...   \n",
       "61            alphaTrain                   2.0    0.002572       0.002766   \n",
       "62            alphaTrain                   4.0    0.001924       0.002193   \n",
       "63            alphaTrain                   6.0    0.015298       0.069697   \n",
       "64            alphaTrain                   8.0    0.020905       0.038301   \n",
       "65            alphaTrain                  10.0    0.024339       0.037062   \n",
       "\n",
       "        BIKE  BUS_TRAM     TRAIN      WALK  \n",
       "0   0.280208  0.237212  0.020263  0.378024  \n",
       "1   0.186901  0.226334  0.027643  0.465218  \n",
       "2   0.247660  0.215143  0.024183  0.441396  \n",
       "3   0.202426  0.278584  0.030798  0.390329  \n",
       "4   0.127174  0.153452  0.016896  0.621461  \n",
       "..       ...       ...       ...       ...  \n",
       "61  0.001315  0.006265  0.084339  0.902745  \n",
       "62  0.001360  0.004909  0.086810  0.902804  \n",
       "63  0.133656  0.120769  0.010254  0.650326  \n",
       "64  0.270495  0.156898  0.015045  0.498355  \n",
       "65  0.302828  0.205706  0.023842  0.406224  \n",
       "\n",
       "[66 rows x 26 columns]"
      ]
     },
     "execution_count": 14,
     "metadata": {},
     "output_type": "execute_result"
    }
   ],
   "source": [
    "df"
   ]
  },
  {
   "cell_type": "markdown",
   "id": "5913b263",
   "metadata": {
    "pycharm": {
     "name": "#%% md\n"
    }
   },
   "source": [
    "# Plot linear regressions"
   ]
  },
  {
   "cell_type": "code",
   "execution_count": 15,
   "id": "ecee16f7",
   "metadata": {
    "pycharm": {
     "name": "#%%\n"
    }
   },
   "outputs": [],
   "source": [
    "threshold_slope_abs = 0.005"
   ]
  },
  {
   "cell_type": "code",
   "execution_count": 16,
   "id": "bd80fe57",
   "metadata": {
    "pycharm": {
     "name": "#%%\n"
    }
   },
   "outputs": [
    {
     "data": {
      "image/png": "[encoded data removed]",
      "text/plain": [
       "<Figure size 1000x1000 with 6 Axes>"
      ]
     },
     "metadata": {},
     "output_type": "display_data"
    }
   ],
   "source": [
    "# Initialize an empty list to store parameter names with slope > 0.1\n",
    "params_with_slope = []\n",
    "\n",
    "groups = df.groupby('used_parameter_label')\n",
    "\n",
    "output_cols = ['WALK', 'BIKE', 'BUS_TRAM', 'TRAIN', 'CAR_DRIVER', 'CAR_PASSENGER']\n",
    "\n",
    "# Loop over each group and calculate the slope for each parameter\n",
    "for name, group in groups:\n",
    "    for col in output_cols:\n",
    "        # Calculate the slope for this parameter and output column\n",
    "        slope, intercept = np.polyfit(group['used_parameter_value'], group[col], 1)\n",
    "        \n",
    "        # Check if the absolute value of the slope is greater than 0.1\n",
    "        if abs(slope) > threshold_slope_abs:\n",
    "            # Add the parameter name to the list\n",
    "            params_with_slope.append(name)\n",
    "            break  # Only need to add the parameter name once\n",
    "\n",
    "# Filter the dataframe to only include rows with parameter names in params_with_slope\n",
    "df_filtered = df[df['used_parameter_label'].isin(params_with_slope)]\n",
    "\n",
    "# Group the filtered data by parameter name\n",
    "groups_filtered = df_filtered.groupby('used_parameter_label')\n",
    "\n",
    "# Create a new figure with a 3x2 grid of subplots\n",
    "fig, axs = plt.subplots(nrows=3, ncols=2, figsize=(10, 10))\n",
    "\n",
    "# Initialize a dictionary to store the colors for each group\n",
    "colors = {}\n",
    "\n",
    "# Loop over each output column and plot the data in a separate subplot\n",
    "for i, col in enumerate(output_cols):\n",
    "    # Get the axis object for this subplot\n",
    "    ax = axs[i // 2, i % 2]\n",
    "    \n",
    "    j = 0\n",
    "    # Loop over each group and plot the data for this output column\n",
    "    for name, group in groups_filtered:\n",
    "        # Extract the x and y values for this group and output column\n",
    "        x = group['used_parameter_value']\n",
    "        y = group[col]\n",
    "        \n",
    "        # Assign a color to this group based on its name\n",
    "        if name not in colors:\n",
    "            colors[name] = plt.cm.tab20(j)\n",
    "        \n",
    "        # Plot the data points\n",
    "        slope, intercept = np.polyfit(x, y, 1)\n",
    "        regression_line = intercept + slope * x\n",
    "        ax.plot(x, regression_line, label=name, color=colors[name])\n",
    "        \n",
    "        \n",
    "        ax.scatter(x, y, label=name, color=colors[name], alpha=0.5, s = 10)\n",
    "        \n",
    "        j=j+1\n",
    "    \n",
    "    # Set the title for this subplot to the name of the output column\n",
    "    ax.set_title(col)\n",
    "    \n",
    "    # Set the axis labels for this subplot\n",
    "    ax.set_xlabel('Parameter Value')\n",
    "    ax.set_ylabel('Mode choice proportion')\n",
    "    \n",
    "# Create a legend for the whole figure\n",
    "handles, labels = [], []\n",
    "for name, group in groups_filtered:\n",
    "    for col in output_cols:\n",
    "        if name in params_with_slope:\n",
    "            # Check if the parameter name has already been added to the labels list\n",
    "            if name not in labels:\n",
    "                # Add a handle to the handles list for this parameter name\n",
    "                handle = plt.plot([], [], label=name, color=colors[name])[0]\n",
    "                handles.append(handle)\n",
    "                labels.append(name)\n",
    "\n",
    "fig.legend(handles, labels, loc='lower center', bbox_to_anchor=(0.5, -0.1), ncol=1, mode='expand')\n",
    "\n",
    "# Adjust the spacing between subplots\n",
    "plt.subplots_adjust(wspace=0.3, hspace=0.5)\n",
    "\n",
    "# Title\n",
    "fig.suptitle('Parameters linear regression with abs slope coefficient > '+str(threshold_slope_abs), fontsize=16)\n",
    "\n",
    "# Save\n",
    "plt.savefig('plot_slopes_'+str(threshold_slope_abs)+'.png', dpi=300, bbox_inches='tight')\n",
    "\n",
    "# Show the plot\n",
    "plt.show()"
   ]
  },
  {
   "cell_type": "markdown",
   "id": "80815275",
   "metadata": {
    "pycharm": {
     "name": "#%% md\n"
    }
   },
   "source": [
    "# Rank parameters per mode choice"
   ]
  },
  {
   "cell_type": "code",
   "execution_count": 33,
   "id": "80aa8dd9",
   "metadata": {
    "pycharm": {
     "name": "#%%\n"
    }
   },
   "outputs": [
    {
     "name": "stdout",
     "output_type": "stream",
     "text": [
      "Ranking of parameters for WALK:\n"
     ]
    },
    {
     "ename": "NameError",
     "evalue": "name 'slopes' is not defined",
     "output_type": "error",
     "traceback": [
      "\u001b[1;31m---------------------------------------------------------------------------\u001b[0m",
      "\u001b[1;31mNameError\u001b[0m                                 Traceback (most recent call last)",
      "Cell \u001b[1;32mIn[33], line 5\u001b[0m\n\u001b[0;32m      3\u001b[0m \u001b[38;5;28;01mfor\u001b[39;00m col \u001b[38;5;129;01min\u001b[39;00m output_cols:\n\u001b[0;32m      4\u001b[0m     \u001b[38;5;28mprint\u001b[39m(\u001b[38;5;124mf\u001b[39m\u001b[38;5;124m'\u001b[39m\u001b[38;5;124mRanking of parameters for \u001b[39m\u001b[38;5;132;01m{\u001b[39;00mcol\u001b[38;5;132;01m}\u001b[39;00m\u001b[38;5;124m:\u001b[39m\u001b[38;5;124m'\u001b[39m)\n\u001b[1;32m----> 5\u001b[0m     ranking \u001b[38;5;241m=\u001b[39m pd\u001b[38;5;241m.\u001b[39mDataFrame(\u001b[43mslopes\u001b[49m)\u001b[38;5;241m.\u001b[39mloc[col]\u001b[38;5;241m.\u001b[39msort_values(ascending\u001b[38;5;241m=\u001b[39m\u001b[38;5;28;01mFalse\u001b[39;00m)\n\u001b[0;32m      6\u001b[0m     \u001b[38;5;28mprint\u001b[39m(ranking)\n\u001b[0;32m      7\u001b[0m     \u001b[38;5;28mprint\u001b[39m(\u001b[38;5;124m'\u001b[39m\u001b[38;5;130;01m\\n\u001b[39;00m\u001b[38;5;124m'\u001b[39m)\n",
      "\u001b[1;31mNameError\u001b[0m: name 'slopes' is not defined"
     ]
    }
   ],
   "source": [
    "all_rankings = pd.DataFrame()\n",
    "\n",
    "for col in output_cols:\n",
    "    print(f'Ranking of parameters for {col}:')\n",
    "    ranking = pd.DataFrame(slopes).loc[col].sort_values(ascending=False)\n",
    "    print(ranking)\n",
    "    print('\\n')\n",
    "    ranking.name = col\n",
    "    all_rankings = pd.concat([all_rankings, ranking], axis=1)\n",
    "\n",
    "all_rankings.to_csv('parameters_rankings.csv')"
   ]
  },
  {
   "cell_type": "code",
   "execution_count": null,
   "id": "f8c9c1cf",
   "metadata": {
    "pycharm": {
     "name": "#%%\n"
    }
   },
   "outputs": [],
   "source": []
  },
  {
   "cell_type": "code",
   "execution_count": null,
   "id": "adcb4c9f",
   "metadata": {
    "pycharm": {
     "name": "#%%\n"
    }
   },
   "outputs": [],
   "source": []
  },
  {
   "cell_type": "code",
   "execution_count": null,
   "id": "8d78e414",
   "metadata": {
    "pycharm": {
     "name": "#%%\n"
    }
   },
   "outputs": [],
   "source": []
  },
  {
   "cell_type": "code",
   "execution_count": null,
   "id": "cdec0c10",
   "metadata": {
    "pycharm": {
     "name": "#%%\n"
    }
   },
   "outputs": [],
   "source": []
  },
  {
   "cell_type": "code",
   "execution_count": null,
   "id": "e5c9ec2d",
   "metadata": {
    "pycharm": {
     "name": "#%%\n"
    }
   },
   "outputs": [],
   "source": []
  },
  {
   "cell_type": "code",
   "execution_count": null,
   "id": "26b8a2dd",
   "metadata": {
    "pycharm": {
     "name": "#%%\n"
    }
   },
   "outputs": [],
   "source": []
  },
  {
   "cell_type": "code",
   "execution_count": null,
   "id": "62526178",
   "metadata": {
    "pycharm": {
     "name": "#%%\n"
    }
   },
   "outputs": [],
   "source": []
  },
  {
   "cell_type": "code",
   "execution_count": null,
   "id": "cfe974e5",
   "metadata": {
    "pycharm": {
     "name": "#%%\n"
    }
   },
   "outputs": [],
   "source": []
  },
  {
   "cell_type": "code",
   "execution_count": null,
   "id": "a8cd564a",
   "metadata": {
    "pycharm": {
     "name": "#%%\n"
    }
   },
   "outputs": [],
   "source": []
  },
  {
   "cell_type": "code",
   "execution_count": null,
   "id": "540a9920",
   "metadata": {
    "pycharm": {
     "name": "#%%\n"
    }
   },
   "outputs": [],
   "source": []
  },
  {
   "cell_type": "code",
   "execution_count": null,
   "id": "05e6310c",
   "metadata": {
    "pycharm": {
     "name": "#%%\n"
    }
   },
   "outputs": [],
   "source": []
  },
  {
   "cell_type": "code",
   "execution_count": null,
   "id": "9041e35d",
   "metadata": {
    "pycharm": {
     "name": "#%%\n"
    }
   },
   "outputs": [],
   "source": []
  },
  {
   "cell_type": "code",
   "execution_count": null,
   "id": "4cf2b1b5",
   "metadata": {
    "pycharm": {
     "name": "#%%\n"
    }
   },
   "outputs": [],
   "source": []
  }
 ],
 "metadata": {
  "kernelspec": {
   "display_name": "Python 3 (ipykernel)",
   "language": "python",
   "name": "python3"
  },
  "language_info": {
   "codemirror_mode": {
    "name": "ipython",
    "version": 3
   },
   "file_extension": ".py",
   "mimetype": "text/x-python",
   "name": "python",
   "nbconvert_exporter": "python",
   "pygments_lexer": "ipython3",
   "version": "3.10.11"
  }
 },
 "nbformat": 4,
 "nbformat_minor": 5
}
