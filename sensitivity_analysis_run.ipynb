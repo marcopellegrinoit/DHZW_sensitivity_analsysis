{
 "cells": [
  {
   "cell_type": "code",
   "execution_count": 1,
   "id": "5d657528",
   "metadata": {
    "pycharm": {
     "name": "#%%\n"
    }
   },
   "outputs": [],
   "source": [
    "import subprocess\n",
    "import os\n",
    "import csv\n",
    "import pandas as pd\n",
    "from tqdm import tqdm\n",
    "from datetime import datetime"
   ]
  },
  {
   "cell_type": "code",
   "execution_count": 2,
   "id": "14bb3a7f",
   "metadata": {},
   "outputs": [],
   "source": [
    "# function to print elapsed time\n",
    "def calculate_elapsed_time(start_time, end_time):\n",
    "    elapsed_time = end_time - start_time\n",
    "    total_seconds = elapsed_time.total_seconds()\n",
    "    seconds = int(total_seconds % 60)\n",
    "    total_minutes = total_seconds // 60\n",
    "    minutes = int(total_minutes % 60)\n",
    "    hours = int(total_minutes // 60)\n",
    "    \n",
    "    seconds = str(seconds).zfill(2)\n",
    "    minutes = str(minutes).zfill(2)\n",
    "    hours = str(hours).zfill(2)\n",
    "\n",
    "    return str(hours) + ':' + str(minutes) + ':' + str(seconds)"
   ]
  },
  {
   "cell_type": "markdown",
   "id": "d64b03fc",
   "metadata": {
    "pycharm": {
     "name": "#%% md\n"
    }
   },
   "source": [
    "# Initialise"
   ]
  },
  {
   "cell_type": "markdown",
   "id": "f0d47600",
   "metadata": {
    "pycharm": {
     "name": "#%% md\n"
    }
   },
   "source": [
    "### Read parameter sets to simulate"
   ]
  },
  {
   "cell_type": "code",
   "execution_count": 3,
   "id": "9ee6af40",
   "metadata": {},
   "outputs": [
    {
     "data": {
      "text/html": [
       "<div>\n",
       "<style scoped>\n",
       "    .dataframe tbody tr th:only-of-type {\n",
       "        vertical-align: middle;\n",
       "    }\n",
       "\n",
       "    .dataframe tbody tr th {\n",
       "        vertical-align: top;\n",
       "    }\n",
       "\n",
       "    .dataframe thead th {\n",
       "        text-align: right;\n",
       "    }\n",
       "</style>\n",
       "<table border=\"1\" class=\"dataframe\">\n",
       "  <thead>\n",
       "    <tr style=\"text-align: right;\">\n",
       "      <th></th>\n",
       "      <th>alphaWalk</th>\n",
       "      <th>alphaBike</th>\n",
       "      <th>alphaCarDriver</th>\n",
       "      <th>alphaCarPassenger</th>\n",
       "      <th>alphaBus</th>\n",
       "      <th>alphaTrain</th>\n",
       "      <th>betaTimeWalk</th>\n",
       "      <th>betaTimeBike</th>\n",
       "      <th>betaTimeCarDriver</th>\n",
       "      <th>betaTimeCarPassenger</th>\n",
       "      <th>betaTimeBus</th>\n",
       "      <th>betaTimeTrain</th>\n",
       "      <th>betaCostCarDriver</th>\n",
       "      <th>betaCostCarPassenger</th>\n",
       "      <th>betaCostBus</th>\n",
       "      <th>betaCostTrain</th>\n",
       "      <th>betaTimeWalkTransport</th>\n",
       "      <th>betaChangesTransport</th>\n",
       "      <th>used_parameter_label</th>\n",
       "      <th>used_parameter_value</th>\n",
       "    </tr>\n",
       "  </thead>\n",
       "  <tbody>\n",
       "    <tr>\n",
       "      <th>0</th>\n",
       "      <td>-10.0</td>\n",
       "      <td>0.0</td>\n",
       "      <td>0.0</td>\n",
       "      <td>0.0</td>\n",
       "      <td>0.0</td>\n",
       "      <td>0.0</td>\n",
       "      <td>-0.04</td>\n",
       "      <td>-0.03</td>\n",
       "      <td>-0.02</td>\n",
       "      <td>-0.02</td>\n",
       "      <td>-0.02</td>\n",
       "      <td>-0.02</td>\n",
       "      <td>-0.15</td>\n",
       "      <td>-0.15</td>\n",
       "      <td>-0.1</td>\n",
       "      <td>-0.1</td>\n",
       "      <td>-0.03</td>\n",
       "      <td>-0.3</td>\n",
       "      <td>alphaWalk</td>\n",
       "      <td>-10.0</td>\n",
       "    </tr>\n",
       "    <tr>\n",
       "      <th>1</th>\n",
       "      <td>-8.0</td>\n",
       "      <td>0.0</td>\n",
       "      <td>0.0</td>\n",
       "      <td>0.0</td>\n",
       "      <td>0.0</td>\n",
       "      <td>0.0</td>\n",
       "      <td>-0.04</td>\n",
       "      <td>-0.03</td>\n",
       "      <td>-0.02</td>\n",
       "      <td>-0.02</td>\n",
       "      <td>-0.02</td>\n",
       "      <td>-0.02</td>\n",
       "      <td>-0.15</td>\n",
       "      <td>-0.15</td>\n",
       "      <td>-0.1</td>\n",
       "      <td>-0.1</td>\n",
       "      <td>-0.03</td>\n",
       "      <td>-0.3</td>\n",
       "      <td>alphaWalk</td>\n",
       "      <td>-8.0</td>\n",
       "    </tr>\n",
       "    <tr>\n",
       "      <th>2</th>\n",
       "      <td>-6.0</td>\n",
       "      <td>0.0</td>\n",
       "      <td>0.0</td>\n",
       "      <td>0.0</td>\n",
       "      <td>0.0</td>\n",
       "      <td>0.0</td>\n",
       "      <td>-0.04</td>\n",
       "      <td>-0.03</td>\n",
       "      <td>-0.02</td>\n",
       "      <td>-0.02</td>\n",
       "      <td>-0.02</td>\n",
       "      <td>-0.02</td>\n",
       "      <td>-0.15</td>\n",
       "      <td>-0.15</td>\n",
       "      <td>-0.1</td>\n",
       "      <td>-0.1</td>\n",
       "      <td>-0.03</td>\n",
       "      <td>-0.3</td>\n",
       "      <td>alphaWalk</td>\n",
       "      <td>-6.0</td>\n",
       "    </tr>\n",
       "    <tr>\n",
       "      <th>3</th>\n",
       "      <td>-4.0</td>\n",
       "      <td>0.0</td>\n",
       "      <td>0.0</td>\n",
       "      <td>0.0</td>\n",
       "      <td>0.0</td>\n",
       "      <td>0.0</td>\n",
       "      <td>-0.04</td>\n",
       "      <td>-0.03</td>\n",
       "      <td>-0.02</td>\n",
       "      <td>-0.02</td>\n",
       "      <td>-0.02</td>\n",
       "      <td>-0.02</td>\n",
       "      <td>-0.15</td>\n",
       "      <td>-0.15</td>\n",
       "      <td>-0.1</td>\n",
       "      <td>-0.1</td>\n",
       "      <td>-0.03</td>\n",
       "      <td>-0.3</td>\n",
       "      <td>alphaWalk</td>\n",
       "      <td>-4.0</td>\n",
       "    </tr>\n",
       "    <tr>\n",
       "      <th>4</th>\n",
       "      <td>-2.0</td>\n",
       "      <td>0.0</td>\n",
       "      <td>0.0</td>\n",
       "      <td>0.0</td>\n",
       "      <td>0.0</td>\n",
       "      <td>0.0</td>\n",
       "      <td>-0.04</td>\n",
       "      <td>-0.03</td>\n",
       "      <td>-0.02</td>\n",
       "      <td>-0.02</td>\n",
       "      <td>-0.02</td>\n",
       "      <td>-0.02</td>\n",
       "      <td>-0.15</td>\n",
       "      <td>-0.15</td>\n",
       "      <td>-0.1</td>\n",
       "      <td>-0.1</td>\n",
       "      <td>-0.03</td>\n",
       "      <td>-0.3</td>\n",
       "      <td>alphaWalk</td>\n",
       "      <td>-2.0</td>\n",
       "    </tr>\n",
       "    <tr>\n",
       "      <th>...</th>\n",
       "      <td>...</td>\n",
       "      <td>...</td>\n",
       "      <td>...</td>\n",
       "      <td>...</td>\n",
       "      <td>...</td>\n",
       "      <td>...</td>\n",
       "      <td>...</td>\n",
       "      <td>...</td>\n",
       "      <td>...</td>\n",
       "      <td>...</td>\n",
       "      <td>...</td>\n",
       "      <td>...</td>\n",
       "      <td>...</td>\n",
       "      <td>...</td>\n",
       "      <td>...</td>\n",
       "      <td>...</td>\n",
       "      <td>...</td>\n",
       "      <td>...</td>\n",
       "      <td>...</td>\n",
       "      <td>...</td>\n",
       "    </tr>\n",
       "    <tr>\n",
       "      <th>61</th>\n",
       "      <td>0.0</td>\n",
       "      <td>0.0</td>\n",
       "      <td>0.0</td>\n",
       "      <td>0.0</td>\n",
       "      <td>0.0</td>\n",
       "      <td>2.0</td>\n",
       "      <td>-0.04</td>\n",
       "      <td>-0.03</td>\n",
       "      <td>-0.02</td>\n",
       "      <td>-0.02</td>\n",
       "      <td>-0.02</td>\n",
       "      <td>-0.02</td>\n",
       "      <td>-0.15</td>\n",
       "      <td>-0.15</td>\n",
       "      <td>-0.1</td>\n",
       "      <td>-0.1</td>\n",
       "      <td>-0.03</td>\n",
       "      <td>-0.3</td>\n",
       "      <td>alphaTrain</td>\n",
       "      <td>2.0</td>\n",
       "    </tr>\n",
       "    <tr>\n",
       "      <th>62</th>\n",
       "      <td>0.0</td>\n",
       "      <td>0.0</td>\n",
       "      <td>0.0</td>\n",
       "      <td>0.0</td>\n",
       "      <td>0.0</td>\n",
       "      <td>4.0</td>\n",
       "      <td>-0.04</td>\n",
       "      <td>-0.03</td>\n",
       "      <td>-0.02</td>\n",
       "      <td>-0.02</td>\n",
       "      <td>-0.02</td>\n",
       "      <td>-0.02</td>\n",
       "      <td>-0.15</td>\n",
       "      <td>-0.15</td>\n",
       "      <td>-0.1</td>\n",
       "      <td>-0.1</td>\n",
       "      <td>-0.03</td>\n",
       "      <td>-0.3</td>\n",
       "      <td>alphaTrain</td>\n",
       "      <td>4.0</td>\n",
       "    </tr>\n",
       "    <tr>\n",
       "      <th>63</th>\n",
       "      <td>0.0</td>\n",
       "      <td>0.0</td>\n",
       "      <td>0.0</td>\n",
       "      <td>0.0</td>\n",
       "      <td>0.0</td>\n",
       "      <td>6.0</td>\n",
       "      <td>-0.04</td>\n",
       "      <td>-0.03</td>\n",
       "      <td>-0.02</td>\n",
       "      <td>-0.02</td>\n",
       "      <td>-0.02</td>\n",
       "      <td>-0.02</td>\n",
       "      <td>-0.15</td>\n",
       "      <td>-0.15</td>\n",
       "      <td>-0.1</td>\n",
       "      <td>-0.1</td>\n",
       "      <td>-0.03</td>\n",
       "      <td>-0.3</td>\n",
       "      <td>alphaTrain</td>\n",
       "      <td>6.0</td>\n",
       "    </tr>\n",
       "    <tr>\n",
       "      <th>64</th>\n",
       "      <td>0.0</td>\n",
       "      <td>0.0</td>\n",
       "      <td>0.0</td>\n",
       "      <td>0.0</td>\n",
       "      <td>0.0</td>\n",
       "      <td>8.0</td>\n",
       "      <td>-0.04</td>\n",
       "      <td>-0.03</td>\n",
       "      <td>-0.02</td>\n",
       "      <td>-0.02</td>\n",
       "      <td>-0.02</td>\n",
       "      <td>-0.02</td>\n",
       "      <td>-0.15</td>\n",
       "      <td>-0.15</td>\n",
       "      <td>-0.1</td>\n",
       "      <td>-0.1</td>\n",
       "      <td>-0.03</td>\n",
       "      <td>-0.3</td>\n",
       "      <td>alphaTrain</td>\n",
       "      <td>8.0</td>\n",
       "    </tr>\n",
       "    <tr>\n",
       "      <th>65</th>\n",
       "      <td>0.0</td>\n",
       "      <td>0.0</td>\n",
       "      <td>0.0</td>\n",
       "      <td>0.0</td>\n",
       "      <td>0.0</td>\n",
       "      <td>10.0</td>\n",
       "      <td>-0.04</td>\n",
       "      <td>-0.03</td>\n",
       "      <td>-0.02</td>\n",
       "      <td>-0.02</td>\n",
       "      <td>-0.02</td>\n",
       "      <td>-0.02</td>\n",
       "      <td>-0.15</td>\n",
       "      <td>-0.15</td>\n",
       "      <td>-0.1</td>\n",
       "      <td>-0.1</td>\n",
       "      <td>-0.03</td>\n",
       "      <td>-0.3</td>\n",
       "      <td>alphaTrain</td>\n",
       "      <td>10.0</td>\n",
       "    </tr>\n",
       "  </tbody>\n",
       "</table>\n",
       "<p>66 rows × 20 columns</p>\n",
       "</div>"
      ],
      "text/plain": [
       "    alphaWalk  alphaBike  alphaCarDriver  alphaCarPassenger  alphaBus  \\\n",
       "0       -10.0        0.0             0.0                0.0       0.0   \n",
       "1        -8.0        0.0             0.0                0.0       0.0   \n",
       "2        -6.0        0.0             0.0                0.0       0.0   \n",
       "3        -4.0        0.0             0.0                0.0       0.0   \n",
       "4        -2.0        0.0             0.0                0.0       0.0   \n",
       "..        ...        ...             ...                ...       ...   \n",
       "61        0.0        0.0             0.0                0.0       0.0   \n",
       "62        0.0        0.0             0.0                0.0       0.0   \n",
       "63        0.0        0.0             0.0                0.0       0.0   \n",
       "64        0.0        0.0             0.0                0.0       0.0   \n",
       "65        0.0        0.0             0.0                0.0       0.0   \n",
       "\n",
       "    alphaTrain  betaTimeWalk  betaTimeBike  betaTimeCarDriver  \\\n",
       "0          0.0         -0.04         -0.03              -0.02   \n",
       "1          0.0         -0.04         -0.03              -0.02   \n",
       "2          0.0         -0.04         -0.03              -0.02   \n",
       "3          0.0         -0.04         -0.03              -0.02   \n",
       "4          0.0         -0.04         -0.03              -0.02   \n",
       "..         ...           ...           ...                ...   \n",
       "61         2.0         -0.04         -0.03              -0.02   \n",
       "62         4.0         -0.04         -0.03              -0.02   \n",
       "63         6.0         -0.04         -0.03              -0.02   \n",
       "64         8.0         -0.04         -0.03              -0.02   \n",
       "65        10.0         -0.04         -0.03              -0.02   \n",
       "\n",
       "    betaTimeCarPassenger  betaTimeBus  betaTimeTrain  betaCostCarDriver  \\\n",
       "0                  -0.02        -0.02          -0.02              -0.15   \n",
       "1                  -0.02        -0.02          -0.02              -0.15   \n",
       "2                  -0.02        -0.02          -0.02              -0.15   \n",
       "3                  -0.02        -0.02          -0.02              -0.15   \n",
       "4                  -0.02        -0.02          -0.02              -0.15   \n",
       "..                   ...          ...            ...                ...   \n",
       "61                 -0.02        -0.02          -0.02              -0.15   \n",
       "62                 -0.02        -0.02          -0.02              -0.15   \n",
       "63                 -0.02        -0.02          -0.02              -0.15   \n",
       "64                 -0.02        -0.02          -0.02              -0.15   \n",
       "65                 -0.02        -0.02          -0.02              -0.15   \n",
       "\n",
       "    betaCostCarPassenger  betaCostBus  betaCostTrain  betaTimeWalkTransport  \\\n",
       "0                  -0.15         -0.1           -0.1                  -0.03   \n",
       "1                  -0.15         -0.1           -0.1                  -0.03   \n",
       "2                  -0.15         -0.1           -0.1                  -0.03   \n",
       "3                  -0.15         -0.1           -0.1                  -0.03   \n",
       "4                  -0.15         -0.1           -0.1                  -0.03   \n",
       "..                   ...          ...            ...                    ...   \n",
       "61                 -0.15         -0.1           -0.1                  -0.03   \n",
       "62                 -0.15         -0.1           -0.1                  -0.03   \n",
       "63                 -0.15         -0.1           -0.1                  -0.03   \n",
       "64                 -0.15         -0.1           -0.1                  -0.03   \n",
       "65                 -0.15         -0.1           -0.1                  -0.03   \n",
       "\n",
       "    betaChangesTransport used_parameter_label  used_parameter_value  \n",
       "0                   -0.3            alphaWalk                 -10.0  \n",
       "1                   -0.3            alphaWalk                  -8.0  \n",
       "2                   -0.3            alphaWalk                  -6.0  \n",
       "3                   -0.3            alphaWalk                  -4.0  \n",
       "4                   -0.3            alphaWalk                  -2.0  \n",
       "..                   ...                  ...                   ...  \n",
       "61                  -0.3           alphaTrain                   2.0  \n",
       "62                  -0.3           alphaTrain                   4.0  \n",
       "63                  -0.3           alphaTrain                   6.0  \n",
       "64                  -0.3           alphaTrain                   8.0  \n",
       "65                  -0.3           alphaTrain                  10.0  \n",
       "\n",
       "[66 rows x 20 columns]"
      ]
     },
     "execution_count": 3,
     "metadata": {},
     "output_type": "execute_result"
    }
   ],
   "source": [
    "table = pd.read_csv('data/parametersets_restricted.csv')\n",
    "table"
   ]
  },
  {
   "cell_type": "markdown",
   "id": "3c7df30e",
   "metadata": {
    "pycharm": {
     "name": "#%% md\n"
    }
   },
   "source": [
    "### Initialise empty the output dataframe"
   ]
  },
  {
   "cell_type": "code",
   "execution_count": 4,
   "id": "b9febd1a",
   "metadata": {
    "pycharm": {
     "name": "#%%\n"
    }
   },
   "outputs": [],
   "source": [
    "df = pd.DataFrame(columns=[\"CAR_DRIVER\", \"CAR_PASSENGER\", \"BIKE\", \"BUS_TRAM\", \"TRAIN\", \"WALK\"])\n",
    "\n",
    "for i in range(0, len(table)):\n",
    "    df.to_csv(\"output/iterations/output_proportions_\" + str(i) + \".csv\", index=False)"
   ]
  },
  {
   "cell_type": "markdown",
   "id": "cc1fd03f",
   "metadata": {
    "pycharm": {
     "name": "#%% md\n"
    }
   },
   "source": [
    "# Call Sim2APL iteratively"
   ]
  },
  {
   "cell_type": "markdown",
   "id": "0274dc6a",
   "metadata": {
    "pycharm": {
     "name": "#%% md\n"
    }
   },
   "source": [
    "### Prepare the Java command"
   ]
  },
  {
   "cell_type": "code",
   "execution_count": 5,
   "id": "2c2c0040",
   "metadata": {
    "pycharm": {
     "name": "#%%\n"
    }
   },
   "outputs": [],
   "source": [
    "# baseline of the Java command\n",
    "config = \"--config src/main/resources/config_DHZW_full.toml\"\n",
    "modeliberal = \"--mode-liberal 0.5\"\n",
    "modeconservative = \"--mode-conservative 0.5\"\n",
    "output = \"-o output/deskrun\"\n",
    "parametersPath = \"--parameter_file ../data/parametersets_restricted.csv\"\n",
    "\n",
    "base_cmd = \"java -cp target/sim2apl-dhzw-simulation-1.0-SNAPSHOT-jar-with-dependencies.jar main.java.nl.uu.iss.ga.Simulation\" + \" \" + config + \" \" + modeliberal + \" \" + modeconservative + \" \" + output + \" \" + parametersPath\n",
    "\n",
    "# set current directory the folder of Sim2APL so I can execute the jar with the correct paths\n",
    "if(os.path.basename(os.getcwd()) != 'DHZW-simulation_Sim-2APL'):\n",
    "    new_directory = os.path.join(os.getcwd(), 'DHZW-simulation_Sim-2APL')\n",
    "    new_directory = new_directory.replace('\\\\', '/')\n",
    "    os.chdir(new_directory)"
   ]
  },
  {
   "cell_type": "markdown",
   "id": "fb4dd204",
   "metadata": {
    "pycharm": {
     "name": "#%% md\n"
    }
   },
   "source": [
    "### Main loop to call the simulations"
   ]
  },
  {
   "cell_type": "code",
   "execution_count": 6,
   "id": "2ffde0c7",
   "metadata": {},
   "outputs": [],
   "source": [
    "idx_restart = 0"
   ]
  },
  {
   "cell_type": "code",
   "execution_count": null,
   "id": "613af1ec",
   "metadata": {
    "pycharm": {
     "name": "#%%\n"
    }
   },
   "outputs": [],
   "source": []
  },
  {
   "cell_type": "code",
   "execution_count": 7,
   "id": "691245ea",
   "metadata": {
    "pycharm": {
     "name": "#%%\n"
    }
   },
   "outputs": [
    {
     "name": "stderr",
     "output_type": "stream",
     "text": [
      "\r",
      "  0%|                                                                                           | 0/66 [00:00<?, ?it/s]"
     ]
    },
    {
     "name": "stdout",
     "output_type": "stream",
     "text": [
      "parameter number: 0 - iteration: 0 START || Time now: 14:08:06\n",
      "parameter number: 0 - iteration: 0 END   || Time now: 14:08:31 | Duration iteration: 00:00:24 | Elapsed from start: 00:00:24\n",
      "parameter number: 0 - iteration: 1 START || Time now: 14:08:31\n",
      "parameter number: 0 - iteration: 1 END   || Time now: 14:08:56 | Duration iteration: 00:00:24 | Elapsed from start: 00:00:49\n",
      "parameter number: 0 - iteration: 2 START || Time now: 14:08:56\n",
      "parameter number: 0 - iteration: 2 END   || Time now: 14:09:21 | Duration iteration: 00:00:24 | Elapsed from start: 00:01:14\n",
      "parameter number: 0 - iteration: 3 START || Time now: 14:09:21\n",
      "parameter number: 0 - iteration: 3 END   || Time now: 14:09:44 | Duration iteration: 00:00:23 | Elapsed from start: 00:01:38\n",
      "parameter number: 0 - iteration: 4 START || Time now: 14:09:44\n"
     ]
    },
    {
     "name": "stderr",
     "output_type": "stream",
     "text": [
      "\r",
      "  2%|█▏                                                                              | 1/66 [02:01<2:11:26, 121.34s/it]"
     ]
    },
    {
     "name": "stdout",
     "output_type": "stream",
     "text": [
      "parameter number: 0 - iteration: 4 END   || Time now: 14:10:08 | Duration iteration: 00:00:23 | Elapsed from start: 00:02:01\n",
      "parameter number: 1 - iteration: 0 START || Time now: 14:10:08\n",
      "parameter number: 1 - iteration: 0 END   || Time now: 14:10:31 | Duration iteration: 00:00:23 | Elapsed from start: 00:02:24\n",
      "parameter number: 1 - iteration: 1 START || Time now: 14:10:31\n",
      "parameter number: 1 - iteration: 1 END   || Time now: 14:10:56 | Duration iteration: 00:00:25 | Elapsed from start: 00:02:49\n",
      "parameter number: 1 - iteration: 2 START || Time now: 14:10:56\n",
      "parameter number: 1 - iteration: 2 END   || Time now: 14:11:19 | Duration iteration: 00:00:23 | Elapsed from start: 00:03:13\n",
      "parameter number: 1 - iteration: 3 START || Time now: 14:11:19\n",
      "parameter number: 1 - iteration: 3 END   || Time now: 14:11:42 | Duration iteration: 00:00:23 | Elapsed from start: 00:03:36\n",
      "parameter number: 1 - iteration: 4 START || Time now: 14:11:42\n"
     ]
    },
    {
     "name": "stderr",
     "output_type": "stream",
     "text": [
      "\r",
      "  3%|██▍                                                                             | 2/66 [03:59<2:07:20, 119.38s/it]"
     ]
    },
    {
     "name": "stdout",
     "output_type": "stream",
     "text": [
      "parameter number: 1 - iteration: 4 END   || Time now: 14:12:06 | Duration iteration: 00:00:23 | Elapsed from start: 00:03:59\n",
      "parameter number: 2 - iteration: 0 START || Time now: 14:12:06\n",
      "parameter number: 2 - iteration: 0 END   || Time now: 14:12:29 | Duration iteration: 00:00:23 | Elapsed from start: 00:04:23\n",
      "parameter number: 2 - iteration: 1 START || Time now: 14:12:29\n",
      "parameter number: 2 - iteration: 1 END   || Time now: 14:12:52 | Duration iteration: 00:00:22 | Elapsed from start: 00:04:45\n",
      "parameter number: 2 - iteration: 2 START || Time now: 14:12:52\n",
      "parameter number: 2 - iteration: 2 END   || Time now: 14:13:15 | Duration iteration: 00:00:23 | Elapsed from start: 00:05:09\n",
      "parameter number: 2 - iteration: 3 START || Time now: 14:13:15\n",
      "parameter number: 2 - iteration: 3 END   || Time now: 14:13:41 | Duration iteration: 00:00:25 | Elapsed from start: 00:05:34\n",
      "parameter number: 2 - iteration: 4 START || Time now: 14:13:41\n"
     ]
    },
    {
     "name": "stderr",
     "output_type": "stream",
     "text": [
      "\r",
      "  5%|███▋                                                                            | 3/66 [05:56<2:04:31, 118.59s/it]"
     ]
    },
    {
     "name": "stdout",
     "output_type": "stream",
     "text": [
      "parameter number: 2 - iteration: 4 END   || Time now: 14:14:03 | Duration iteration: 00:00:22 | Elapsed from start: 00:05:57\n",
      "parameter number: 3 - iteration: 0 START || Time now: 14:14:03\n",
      "parameter number: 3 - iteration: 0 END   || Time now: 14:14:28 | Duration iteration: 00:00:24 | Elapsed from start: 00:06:21\n",
      "parameter number: 3 - iteration: 1 START || Time now: 14:14:28\n",
      "parameter number: 3 - iteration: 1 END   || Time now: 14:14:51 | Duration iteration: 00:00:23 | Elapsed from start: 00:06:45\n",
      "parameter number: 3 - iteration: 2 START || Time now: 14:14:51\n",
      "parameter number: 3 - iteration: 2 END   || Time now: 14:15:15 | Duration iteration: 00:00:23 | Elapsed from start: 00:07:08\n",
      "parameter number: 3 - iteration: 3 START || Time now: 14:15:15\n",
      "parameter number: 3 - iteration: 3 END   || Time now: 14:15:38 | Duration iteration: 00:00:22 | Elapsed from start: 00:07:31\n",
      "parameter number: 3 - iteration: 4 START || Time now: 14:15:38\n"
     ]
    },
    {
     "name": "stderr",
     "output_type": "stream",
     "text": [
      "\r",
      "  6%|████▊                                                                           | 4/66 [07:54<2:02:16, 118.33s/it]"
     ]
    },
    {
     "name": "stdout",
     "output_type": "stream",
     "text": [
      "parameter number: 3 - iteration: 4 END   || Time now: 14:16:01 | Duration iteration: 00:00:23 | Elapsed from start: 00:07:54\n",
      "parameter number: 4 - iteration: 0 START || Time now: 14:16:01\n",
      "parameter number: 4 - iteration: 0 END   || Time now: 14:16:25 | Duration iteration: 00:00:23 | Elapsed from start: 00:08:18\n",
      "parameter number: 4 - iteration: 1 START || Time now: 14:16:25\n",
      "parameter number: 4 - iteration: 1 END   || Time now: 14:16:47 | Duration iteration: 00:00:22 | Elapsed from start: 00:08:40\n",
      "parameter number: 4 - iteration: 2 START || Time now: 14:16:47\n",
      "parameter number: 4 - iteration: 2 END   || Time now: 14:17:10 | Duration iteration: 00:00:22 | Elapsed from start: 00:09:03\n",
      "parameter number: 4 - iteration: 3 START || Time now: 14:17:10\n",
      "parameter number: 4 - iteration: 3 END   || Time now: 14:17:33 | Duration iteration: 00:00:23 | Elapsed from start: 00:09:26\n",
      "parameter number: 4 - iteration: 4 START || Time now: 14:17:33\n"
     ]
    },
    {
     "name": "stderr",
     "output_type": "stream",
     "text": [
      "\r",
      "  8%|██████                                                                          | 5/66 [09:50<1:59:11, 117.23s/it]"
     ]
    },
    {
     "name": "stdout",
     "output_type": "stream",
     "text": [
      "parameter number: 4 - iteration: 4 END   || Time now: 14:17:57 | Duration iteration: 00:00:23 | Elapsed from start: 00:09:50\n",
      "parameter number: 5 - iteration: 0 START || Time now: 14:17:57\n",
      "parameter number: 5 - iteration: 0 END   || Time now: 14:18:22 | Duration iteration: 00:00:25 | Elapsed from start: 00:10:15\n",
      "parameter number: 5 - iteration: 1 START || Time now: 14:18:22\n",
      "parameter number: 5 - iteration: 1 END   || Time now: 14:18:47 | Duration iteration: 00:00:25 | Elapsed from start: 00:10:40\n",
      "parameter number: 5 - iteration: 2 START || Time now: 14:18:47\n",
      "parameter number: 5 - iteration: 2 END   || Time now: 14:19:13 | Duration iteration: 00:00:26 | Elapsed from start: 00:11:06\n",
      "parameter number: 5 - iteration: 3 START || Time now: 14:19:13\n",
      "parameter number: 5 - iteration: 3 END   || Time now: 14:19:38 | Duration iteration: 00:00:24 | Elapsed from start: 00:11:31\n",
      "parameter number: 5 - iteration: 4 START || Time now: 14:19:38\n"
     ]
    },
    {
     "name": "stderr",
     "output_type": "stream",
     "text": [
      "\r",
      "  9%|███████▎                                                                        | 6/66 [11:55<1:59:48, 119.81s/it]"
     ]
    },
    {
     "name": "stdout",
     "output_type": "stream",
     "text": [
      "parameter number: 5 - iteration: 4 END   || Time now: 14:20:01 | Duration iteration: 00:00:23 | Elapsed from start: 00:11:55\n",
      "parameter number: 6 - iteration: 0 START || Time now: 14:20:01\n",
      "parameter number: 6 - iteration: 0 END   || Time now: 14:20:25 | Duration iteration: 00:00:23 | Elapsed from start: 00:12:18\n",
      "parameter number: 6 - iteration: 1 START || Time now: 14:20:25\n",
      "parameter number: 6 - iteration: 1 END   || Time now: 14:20:48 | Duration iteration: 00:00:23 | Elapsed from start: 00:12:41\n",
      "parameter number: 6 - iteration: 2 START || Time now: 14:20:48\n",
      "parameter number: 6 - iteration: 2 END   || Time now: 14:21:11 | Duration iteration: 00:00:23 | Elapsed from start: 00:13:04\n",
      "parameter number: 6 - iteration: 3 START || Time now: 14:21:11\n",
      "parameter number: 6 - iteration: 3 END   || Time now: 14:21:34 | Duration iteration: 00:00:23 | Elapsed from start: 00:13:28\n",
      "parameter number: 6 - iteration: 4 START || Time now: 14:21:34\n"
     ]
    },
    {
     "name": "stderr",
     "output_type": "stream",
     "text": [
      "\r",
      " 11%|████████▍                                                                       | 7/66 [13:51<1:56:35, 118.56s/it]"
     ]
    },
    {
     "name": "stdout",
     "output_type": "stream",
     "text": [
      "parameter number: 6 - iteration: 4 END   || Time now: 14:21:57 | Duration iteration: 00:00:23 | Elapsed from start: 00:13:51\n",
      "parameter number: 7 - iteration: 0 START || Time now: 14:21:57\n",
      "parameter number: 7 - iteration: 0 END   || Time now: 14:22:21 | Duration iteration: 00:00:23 | Elapsed from start: 00:14:14\n",
      "parameter number: 7 - iteration: 1 START || Time now: 14:22:21\n",
      "parameter number: 7 - iteration: 1 END   || Time now: 14:22:46 | Duration iteration: 00:00:25 | Elapsed from start: 00:14:39\n",
      "parameter number: 7 - iteration: 2 START || Time now: 14:22:46\n",
      "parameter number: 7 - iteration: 2 END   || Time now: 14:23:09 | Duration iteration: 00:00:23 | Elapsed from start: 00:15:02\n",
      "parameter number: 7 - iteration: 3 START || Time now: 14:23:09\n",
      "parameter number: 7 - iteration: 3 END   || Time now: 14:23:34 | Duration iteration: 00:00:25 | Elapsed from start: 00:15:27\n",
      "parameter number: 7 - iteration: 4 START || Time now: 14:23:34\n"
     ]
    },
    {
     "name": "stderr",
     "output_type": "stream",
     "text": [
      "\r",
      " 12%|█████████▋                                                                      | 8/66 [15:50<1:54:57, 118.92s/it]"
     ]
    },
    {
     "name": "stdout",
     "output_type": "stream",
     "text": [
      "parameter number: 7 - iteration: 4 END   || Time now: 14:23:57 | Duration iteration: 00:00:23 | Elapsed from start: 00:15:50\n",
      "parameter number: 8 - iteration: 0 START || Time now: 14:23:57\n",
      "parameter number: 8 - iteration: 0 END   || Time now: 14:24:22 | Duration iteration: 00:00:24 | Elapsed from start: 00:16:15\n",
      "parameter number: 8 - iteration: 1 START || Time now: 14:24:22\n",
      "parameter number: 8 - iteration: 1 END   || Time now: 14:24:45 | Duration iteration: 00:00:23 | Elapsed from start: 00:16:38\n",
      "parameter number: 8 - iteration: 2 START || Time now: 14:24:45\n",
      "parameter number: 8 - iteration: 2 END   || Time now: 14:25:08 | Duration iteration: 00:00:23 | Elapsed from start: 00:17:01\n",
      "parameter number: 8 - iteration: 3 START || Time now: 14:25:08\n",
      "parameter number: 8 - iteration: 3 END   || Time now: 14:25:34 | Duration iteration: 00:00:25 | Elapsed from start: 00:17:27\n",
      "parameter number: 8 - iteration: 4 START || Time now: 14:25:34\n"
     ]
    },
    {
     "name": "stderr",
     "output_type": "stream",
     "text": [
      "\r",
      " 14%|██████████▉                                                                     | 9/66 [17:50<1:53:19, 119.30s/it]"
     ]
    },
    {
     "name": "stdout",
     "output_type": "stream",
     "text": [
      "parameter number: 8 - iteration: 4 END   || Time now: 14:25:57 | Duration iteration: 00:00:23 | Elapsed from start: 00:17:50\n",
      "parameter number: 9 - iteration: 0 START || Time now: 14:25:57\n",
      "parameter number: 9 - iteration: 0 END   || Time now: 14:26:22 | Duration iteration: 00:00:25 | Elapsed from start: 00:18:16\n",
      "parameter number: 9 - iteration: 1 START || Time now: 14:26:22\n",
      "parameter number: 9 - iteration: 1 END   || Time now: 14:26:48 | Duration iteration: 00:00:25 | Elapsed from start: 00:18:41\n",
      "parameter number: 9 - iteration: 2 START || Time now: 14:26:48\n",
      "parameter number: 9 - iteration: 2 END   || Time now: 14:27:11 | Duration iteration: 00:00:23 | Elapsed from start: 00:19:04\n",
      "parameter number: 9 - iteration: 3 START || Time now: 14:27:11\n",
      "parameter number: 9 - iteration: 3 END   || Time now: 14:27:34 | Duration iteration: 00:00:23 | Elapsed from start: 00:19:27\n",
      "parameter number: 9 - iteration: 4 START || Time now: 14:27:34\n"
     ]
    },
    {
     "name": "stderr",
     "output_type": "stream",
     "text": [
      "\r",
      " 15%|███████████▉                                                                   | 10/66 [19:52<1:51:54, 119.90s/it]"
     ]
    },
    {
     "name": "stdout",
     "output_type": "stream",
     "text": [
      "parameter number: 9 - iteration: 4 END   || Time now: 14:27:58 | Duration iteration: 00:00:24 | Elapsed from start: 00:19:52\n",
      "parameter number: 10 - iteration: 0 START || Time now: 14:27:58\n",
      "parameter number: 10 - iteration: 0 END   || Time now: 14:28:21 | Duration iteration: 00:00:22 | Elapsed from start: 00:20:15\n",
      "parameter number: 10 - iteration: 1 START || Time now: 14:28:21\n",
      "parameter number: 10 - iteration: 1 END   || Time now: 14:28:45 | Duration iteration: 00:00:23 | Elapsed from start: 00:20:38\n",
      "parameter number: 10 - iteration: 2 START || Time now: 14:28:45\n",
      "parameter number: 10 - iteration: 2 END   || Time now: 14:29:07 | Duration iteration: 00:00:22 | Elapsed from start: 00:21:00\n",
      "parameter number: 10 - iteration: 3 START || Time now: 14:29:07\n",
      "parameter number: 10 - iteration: 3 END   || Time now: 14:29:29 | Duration iteration: 00:00:22 | Elapsed from start: 00:21:23\n",
      "parameter number: 10 - iteration: 4 START || Time now: 14:29:29\n"
     ]
    },
    {
     "name": "stderr",
     "output_type": "stream",
     "text": [
      "\r",
      " 17%|█████████████▏                                                                 | 11/66 [21:45<1:48:12, 118.05s/it]"
     ]
    },
    {
     "name": "stdout",
     "output_type": "stream",
     "text": [
      "parameter number: 10 - iteration: 4 END   || Time now: 14:29:52 | Duration iteration: 00:00:22 | Elapsed from start: 00:21:45\n",
      "parameter number: 11 - iteration: 0 START || Time now: 14:29:52\n",
      "parameter number: 11 - iteration: 0 END   || Time now: 14:30:17 | Duration iteration: 00:00:25 | Elapsed from start: 00:22:11\n",
      "parameter number: 11 - iteration: 1 START || Time now: 14:30:17\n",
      "parameter number: 11 - iteration: 1 END   || Time now: 14:30:40 | Duration iteration: 00:00:23 | Elapsed from start: 00:22:34\n",
      "parameter number: 11 - iteration: 2 START || Time now: 14:30:40\n",
      "parameter number: 11 - iteration: 2 END   || Time now: 14:31:05 | Duration iteration: 00:00:24 | Elapsed from start: 00:22:59\n",
      "parameter number: 11 - iteration: 3 START || Time now: 14:31:05\n",
      "parameter number: 11 - iteration: 3 END   || Time now: 14:31:29 | Duration iteration: 00:00:23 | Elapsed from start: 00:23:22\n",
      "parameter number: 11 - iteration: 4 START || Time now: 14:31:29\n"
     ]
    },
    {
     "name": "stderr",
     "output_type": "stream",
     "text": [
      "\r",
      " 18%|██████████████▎                                                                | 12/66 [23:45<1:46:44, 118.61s/it]"
     ]
    },
    {
     "name": "stdout",
     "output_type": "stream",
     "text": [
      "parameter number: 11 - iteration: 4 END   || Time now: 14:31:52 | Duration iteration: 00:00:23 | Elapsed from start: 00:23:45\n",
      "parameter number: 12 - iteration: 0 START || Time now: 14:31:52\n",
      "parameter number: 12 - iteration: 0 END   || Time now: 14:32:15 | Duration iteration: 00:00:22 | Elapsed from start: 00:24:08\n",
      "parameter number: 12 - iteration: 1 START || Time now: 14:32:15\n",
      "parameter number: 12 - iteration: 1 END   || Time now: 14:32:39 | Duration iteration: 00:00:24 | Elapsed from start: 00:24:33\n",
      "parameter number: 12 - iteration: 2 START || Time now: 14:32:39\n",
      "parameter number: 12 - iteration: 2 END   || Time now: 14:33:05 | Duration iteration: 00:00:25 | Elapsed from start: 00:24:58\n",
      "parameter number: 12 - iteration: 3 START || Time now: 14:33:05\n",
      "parameter number: 12 - iteration: 3 END   || Time now: 14:33:28 | Duration iteration: 00:00:23 | Elapsed from start: 00:25:21\n",
      "parameter number: 12 - iteration: 4 START || Time now: 14:33:28\n"
     ]
    },
    {
     "name": "stderr",
     "output_type": "stream",
     "text": [
      "\r",
      " 20%|███████████████▌                                                               | 13/66 [25:44<1:44:40, 118.50s/it]"
     ]
    },
    {
     "name": "stdout",
     "output_type": "stream",
     "text": [
      "parameter number: 12 - iteration: 4 END   || Time now: 14:33:50 | Duration iteration: 00:00:22 | Elapsed from start: 00:25:44\n",
      "parameter number: 13 - iteration: 0 START || Time now: 14:33:50\n",
      "parameter number: 13 - iteration: 0 END   || Time now: 14:34:17 | Duration iteration: 00:00:26 | Elapsed from start: 00:26:10\n",
      "parameter number: 13 - iteration: 1 START || Time now: 14:34:17\n",
      "parameter number: 13 - iteration: 1 END   || Time now: 14:34:40 | Duration iteration: 00:00:23 | Elapsed from start: 00:26:33\n",
      "parameter number: 13 - iteration: 2 START || Time now: 14:34:40\n",
      "parameter number: 13 - iteration: 2 END   || Time now: 14:35:03 | Duration iteration: 00:00:22 | Elapsed from start: 00:26:56\n",
      "parameter number: 13 - iteration: 3 START || Time now: 14:35:03\n",
      "parameter number: 13 - iteration: 3 END   || Time now: 14:35:26 | Duration iteration: 00:00:23 | Elapsed from start: 00:27:19\n",
      "parameter number: 13 - iteration: 4 START || Time now: 14:35:26\n"
     ]
    },
    {
     "name": "stderr",
     "output_type": "stream",
     "text": [
      "\r",
      " 21%|████████████████▊                                                              | 14/66 [27:42<1:42:43, 118.52s/it]"
     ]
    },
    {
     "name": "stdout",
     "output_type": "stream",
     "text": [
      "parameter number: 13 - iteration: 4 END   || Time now: 14:35:49 | Duration iteration: 00:00:23 | Elapsed from start: 00:27:42\n",
      "parameter number: 14 - iteration: 0 START || Time now: 14:35:49\n",
      "parameter number: 14 - iteration: 0 END   || Time now: 14:36:12 | Duration iteration: 00:00:23 | Elapsed from start: 00:28:05\n",
      "parameter number: 14 - iteration: 1 START || Time now: 14:36:12\n",
      "parameter number: 14 - iteration: 1 END   || Time now: 14:36:35 | Duration iteration: 00:00:23 | Elapsed from start: 00:28:29\n",
      "parameter number: 14 - iteration: 2 START || Time now: 14:36:35\n",
      "parameter number: 14 - iteration: 2 END   || Time now: 14:36:58 | Duration iteration: 00:00:22 | Elapsed from start: 00:28:52\n",
      "parameter number: 14 - iteration: 3 START || Time now: 14:36:58\n",
      "parameter number: 14 - iteration: 3 END   || Time now: 14:37:21 | Duration iteration: 00:00:22 | Elapsed from start: 00:29:14\n",
      "parameter number: 14 - iteration: 4 START || Time now: 14:37:21\n"
     ]
    },
    {
     "name": "stderr",
     "output_type": "stream",
     "text": [
      "\r",
      " 23%|█████████████████▉                                                             | 15/66 [29:37<1:39:46, 117.38s/it]"
     ]
    },
    {
     "name": "stdout",
     "output_type": "stream",
     "text": [
      "parameter number: 14 - iteration: 4 END   || Time now: 14:37:44 | Duration iteration: 00:00:23 | Elapsed from start: 00:29:37\n",
      "parameter number: 15 - iteration: 0 START || Time now: 14:37:44\n",
      "parameter number: 15 - iteration: 0 END   || Time now: 14:38:09 | Duration iteration: 00:00:25 | Elapsed from start: 00:30:02\n",
      "parameter number: 15 - iteration: 1 START || Time now: 14:38:09\n",
      "parameter number: 15 - iteration: 1 END   || Time now: 14:38:32 | Duration iteration: 00:00:23 | Elapsed from start: 00:30:25\n",
      "parameter number: 15 - iteration: 2 START || Time now: 14:38:32\n",
      "parameter number: 15 - iteration: 2 END   || Time now: 14:38:55 | Duration iteration: 00:00:23 | Elapsed from start: 00:30:48\n",
      "parameter number: 15 - iteration: 3 START || Time now: 14:38:55\n",
      "parameter number: 15 - iteration: 3 END   || Time now: 14:39:18 | Duration iteration: 00:00:22 | Elapsed from start: 00:31:11\n",
      "parameter number: 15 - iteration: 4 START || Time now: 14:39:18\n"
     ]
    },
    {
     "name": "stderr",
     "output_type": "stream",
     "text": [
      "\r",
      " 24%|███████████████████▏                                                           | 16/66 [31:36<1:38:22, 118.05s/it]"
     ]
    },
    {
     "name": "stdout",
     "output_type": "stream",
     "text": [
      "parameter number: 15 - iteration: 4 END   || Time now: 14:39:43 | Duration iteration: 00:00:25 | Elapsed from start: 00:31:37\n",
      "parameter number: 16 - iteration: 0 START || Time now: 14:39:43\n",
      "parameter number: 16 - iteration: 0 END   || Time now: 14:40:07 | Duration iteration: 00:00:23 | Elapsed from start: 00:32:00\n",
      "parameter number: 16 - iteration: 1 START || Time now: 14:40:07\n",
      "parameter number: 16 - iteration: 1 END   || Time now: 14:40:29 | Duration iteration: 00:00:22 | Elapsed from start: 00:32:22\n",
      "parameter number: 16 - iteration: 2 START || Time now: 14:40:29\n",
      "parameter number: 16 - iteration: 2 END   || Time now: 14:40:52 | Duration iteration: 00:00:23 | Elapsed from start: 00:32:46\n",
      "parameter number: 16 - iteration: 3 START || Time now: 14:40:52\n",
      "parameter number: 16 - iteration: 3 END   || Time now: 14:41:15 | Duration iteration: 00:00:23 | Elapsed from start: 00:33:09\n",
      "parameter number: 16 - iteration: 4 START || Time now: 14:41:15\n"
     ]
    },
    {
     "name": "stderr",
     "output_type": "stream",
     "text": [
      "\r",
      " 26%|████████████████████▎                                                          | 17/66 [33:31<1:35:29, 116.93s/it]"
     ]
    },
    {
     "name": "stdout",
     "output_type": "stream",
     "text": [
      "parameter number: 16 - iteration: 4 END   || Time now: 14:41:38 | Duration iteration: 00:00:22 | Elapsed from start: 00:33:31\n",
      "parameter number: 17 - iteration: 0 START || Time now: 14:41:38\n",
      "parameter number: 17 - iteration: 0 END   || Time now: 14:42:01 | Duration iteration: 00:00:22 | Elapsed from start: 00:33:54\n",
      "parameter number: 17 - iteration: 1 START || Time now: 14:42:01\n",
      "parameter number: 17 - iteration: 1 END   || Time now: 14:42:24 | Duration iteration: 00:00:23 | Elapsed from start: 00:34:17\n",
      "parameter number: 17 - iteration: 2 START || Time now: 14:42:24\n",
      "parameter number: 17 - iteration: 2 END   || Time now: 14:42:47 | Duration iteration: 00:00:22 | Elapsed from start: 00:34:40\n",
      "parameter number: 17 - iteration: 3 START || Time now: 14:42:47\n",
      "parameter number: 17 - iteration: 3 END   || Time now: 14:43:12 | Duration iteration: 00:00:24 | Elapsed from start: 00:35:05\n",
      "parameter number: 17 - iteration: 4 START || Time now: 14:43:12\n"
     ]
    },
    {
     "name": "stderr",
     "output_type": "stream",
     "text": [
      "\r",
      " 27%|█████████████████████▌                                                         | 18/66 [35:28<1:33:34, 116.96s/it]"
     ]
    },
    {
     "name": "stdout",
     "output_type": "stream",
     "text": [
      "parameter number: 17 - iteration: 4 END   || Time now: 14:43:35 | Duration iteration: 00:00:23 | Elapsed from start: 00:35:28\n",
      "parameter number: 18 - iteration: 0 START || Time now: 14:43:35\n",
      "parameter number: 18 - iteration: 0 END   || Time now: 14:43:58 | Duration iteration: 00:00:22 | Elapsed from start: 00:35:51\n",
      "parameter number: 18 - iteration: 1 START || Time now: 14:43:58\n",
      "parameter number: 18 - iteration: 1 END   || Time now: 14:44:21 | Duration iteration: 00:00:23 | Elapsed from start: 00:36:14\n",
      "parameter number: 18 - iteration: 2 START || Time now: 14:44:21\n",
      "parameter number: 18 - iteration: 2 END   || Time now: 14:44:43 | Duration iteration: 00:00:22 | Elapsed from start: 00:36:36\n",
      "parameter number: 18 - iteration: 3 START || Time now: 14:44:43\n",
      "parameter number: 18 - iteration: 3 END   || Time now: 14:45:07 | Duration iteration: 00:00:23 | Elapsed from start: 00:37:00\n",
      "parameter number: 18 - iteration: 4 START || Time now: 14:45:07\n"
     ]
    },
    {
     "name": "stderr",
     "output_type": "stream",
     "text": [
      "\r",
      " 29%|██████████████████████▋                                                        | 19/66 [37:25<1:31:42, 117.08s/it]"
     ]
    },
    {
     "name": "stdout",
     "output_type": "stream",
     "text": [
      "parameter number: 18 - iteration: 4 END   || Time now: 14:45:32 | Duration iteration: 00:00:25 | Elapsed from start: 00:37:25\n",
      "parameter number: 19 - iteration: 0 START || Time now: 14:45:32\n",
      "parameter number: 19 - iteration: 0 END   || Time now: 14:45:55 | Duration iteration: 00:00:22 | Elapsed from start: 00:37:48\n",
      "parameter number: 19 - iteration: 1 START || Time now: 14:45:55\n",
      "parameter number: 19 - iteration: 1 END   || Time now: 14:46:20 | Duration iteration: 00:00:25 | Elapsed from start: 00:38:13\n",
      "parameter number: 19 - iteration: 2 START || Time now: 14:46:20\n",
      "parameter number: 19 - iteration: 2 END   || Time now: 14:46:43 | Duration iteration: 00:00:23 | Elapsed from start: 00:38:37\n",
      "parameter number: 19 - iteration: 3 START || Time now: 14:46:43\n",
      "parameter number: 19 - iteration: 3 END   || Time now: 14:47:07 | Duration iteration: 00:00:23 | Elapsed from start: 00:39:00\n",
      "parameter number: 19 - iteration: 4 START || Time now: 14:47:07\n"
     ]
    },
    {
     "name": "stderr",
     "output_type": "stream",
     "text": [
      "\r",
      " 30%|███████████████████████▉                                                       | 20/66 [39:23<1:29:57, 117.33s/it]"
     ]
    },
    {
     "name": "stdout",
     "output_type": "stream",
     "text": [
      "parameter number: 19 - iteration: 4 END   || Time now: 14:47:30 | Duration iteration: 00:00:23 | Elapsed from start: 00:39:23\n",
      "parameter number: 20 - iteration: 0 START || Time now: 14:47:30\n",
      "parameter number: 20 - iteration: 0 END   || Time now: 14:47:55 | Duration iteration: 00:00:24 | Elapsed from start: 00:39:48\n",
      "parameter number: 20 - iteration: 1 START || Time now: 14:47:55\n",
      "parameter number: 20 - iteration: 1 END   || Time now: 14:48:18 | Duration iteration: 00:00:23 | Elapsed from start: 00:40:11\n",
      "parameter number: 20 - iteration: 2 START || Time now: 14:48:18\n",
      "parameter number: 20 - iteration: 2 END   || Time now: 14:48:40 | Duration iteration: 00:00:22 | Elapsed from start: 00:40:33\n",
      "parameter number: 20 - iteration: 3 START || Time now: 14:48:40\n",
      "parameter number: 20 - iteration: 3 END   || Time now: 14:49:02 | Duration iteration: 00:00:22 | Elapsed from start: 00:40:56\n",
      "parameter number: 20 - iteration: 4 START || Time now: 14:49:02\n"
     ]
    },
    {
     "name": "stderr",
     "output_type": "stream",
     "text": [
      "\r",
      " 32%|█████████████████████████▏                                                     | 21/66 [41:20<1:27:48, 117.08s/it]"
     ]
    },
    {
     "name": "stdout",
     "output_type": "stream",
     "text": [
      "parameter number: 20 - iteration: 4 END   || Time now: 14:49:26 | Duration iteration: 00:00:23 | Elapsed from start: 00:41:20\n",
      "parameter number: 21 - iteration: 0 START || Time now: 14:49:26\n",
      "parameter number: 21 - iteration: 0 END   || Time now: 14:49:51 | Duration iteration: 00:00:24 | Elapsed from start: 00:41:45\n",
      "parameter number: 21 - iteration: 1 START || Time now: 14:49:51\n",
      "parameter number: 21 - iteration: 1 END   || Time now: 14:50:17 | Duration iteration: 00:00:25 | Elapsed from start: 00:42:10\n",
      "parameter number: 21 - iteration: 2 START || Time now: 14:50:17\n",
      "parameter number: 21 - iteration: 2 END   || Time now: 14:50:41 | Duration iteration: 00:00:24 | Elapsed from start: 00:42:35\n",
      "parameter number: 21 - iteration: 3 START || Time now: 14:50:41\n",
      "parameter number: 21 - iteration: 3 END   || Time now: 14:51:05 | Duration iteration: 00:00:23 | Elapsed from start: 00:42:58\n",
      "parameter number: 21 - iteration: 4 START || Time now: 14:51:05\n"
     ]
    },
    {
     "name": "stderr",
     "output_type": "stream",
     "text": [
      "\r",
      " 33%|██████████████████████████▎                                                    | 22/66 [43:21<1:26:52, 118.45s/it]"
     ]
    },
    {
     "name": "stdout",
     "output_type": "stream",
     "text": [
      "parameter number: 21 - iteration: 4 END   || Time now: 14:51:28 | Duration iteration: 00:00:23 | Elapsed from start: 00:43:21\n",
      "parameter number: 22 - iteration: 0 START || Time now: 14:51:28\n",
      "parameter number: 22 - iteration: 0 END   || Time now: 14:51:51 | Duration iteration: 00:00:22 | Elapsed from start: 00:43:44\n",
      "parameter number: 22 - iteration: 1 START || Time now: 14:51:51\n",
      "parameter number: 22 - iteration: 1 END   || Time now: 14:52:15 | Duration iteration: 00:00:24 | Elapsed from start: 00:44:09\n",
      "parameter number: 22 - iteration: 2 START || Time now: 14:52:15\n",
      "parameter number: 22 - iteration: 2 END   || Time now: 14:52:39 | Duration iteration: 00:00:23 | Elapsed from start: 00:44:32\n",
      "parameter number: 22 - iteration: 3 START || Time now: 14:52:39\n",
      "parameter number: 22 - iteration: 3 END   || Time now: 14:53:02 | Duration iteration: 00:00:23 | Elapsed from start: 00:44:55\n",
      "parameter number: 22 - iteration: 4 START || Time now: 14:53:02\n"
     ]
    },
    {
     "name": "stderr",
     "output_type": "stream",
     "text": [
      "\r",
      " 35%|███████████████████████████▌                                                   | 23/66 [45:18<1:24:35, 118.04s/it]"
     ]
    },
    {
     "name": "stdout",
     "output_type": "stream",
     "text": [
      "parameter number: 22 - iteration: 4 END   || Time now: 14:53:25 | Duration iteration: 00:00:23 | Elapsed from start: 00:45:18\n",
      "parameter number: 23 - iteration: 0 START || Time now: 14:53:25\n",
      "parameter number: 23 - iteration: 0 END   || Time now: 14:53:48 | Duration iteration: 00:00:23 | Elapsed from start: 00:45:42\n",
      "parameter number: 23 - iteration: 1 START || Time now: 14:53:48\n",
      "parameter number: 23 - iteration: 1 END   || Time now: 14:54:12 | Duration iteration: 00:00:23 | Elapsed from start: 00:46:05\n",
      "parameter number: 23 - iteration: 2 START || Time now: 14:54:12\n",
      "parameter number: 23 - iteration: 2 END   || Time now: 14:54:35 | Duration iteration: 00:00:23 | Elapsed from start: 00:46:29\n",
      "parameter number: 23 - iteration: 3 START || Time now: 14:54:35\n",
      "parameter number: 23 - iteration: 3 END   || Time now: 14:54:58 | Duration iteration: 00:00:23 | Elapsed from start: 00:46:52\n",
      "parameter number: 23 - iteration: 4 START || Time now: 14:54:58\n"
     ]
    },
    {
     "name": "stderr",
     "output_type": "stream",
     "text": [
      "\r",
      " 36%|████████████████████████████▋                                                  | 24/66 [47:14<1:22:09, 117.36s/it]"
     ]
    },
    {
     "name": "stdout",
     "output_type": "stream",
     "text": [
      "parameter number: 23 - iteration: 4 END   || Time now: 14:55:21 | Duration iteration: 00:00:22 | Elapsed from start: 00:47:14\n",
      "parameter number: 24 - iteration: 0 START || Time now: 14:55:21\n",
      "parameter number: 24 - iteration: 0 END   || Time now: 14:55:44 | Duration iteration: 00:00:22 | Elapsed from start: 00:47:37\n",
      "parameter number: 24 - iteration: 1 START || Time now: 14:55:44\n",
      "parameter number: 24 - iteration: 1 END   || Time now: 14:56:09 | Duration iteration: 00:00:25 | Elapsed from start: 00:48:02\n",
      "parameter number: 24 - iteration: 2 START || Time now: 14:56:09\n",
      "parameter number: 24 - iteration: 2 END   || Time now: 14:56:34 | Duration iteration: 00:00:25 | Elapsed from start: 00:48:28\n",
      "parameter number: 24 - iteration: 3 START || Time now: 14:56:34\n",
      "parameter number: 24 - iteration: 3 END   || Time now: 14:56:57 | Duration iteration: 00:00:23 | Elapsed from start: 00:48:51\n",
      "parameter number: 24 - iteration: 4 START || Time now: 14:56:57\n"
     ]
    },
    {
     "name": "stderr",
     "output_type": "stream",
     "text": [
      "\r",
      " 38%|█████████████████████████████▉                                                 | 25/66 [49:14<1:20:40, 118.07s/it]"
     ]
    },
    {
     "name": "stdout",
     "output_type": "stream",
     "text": [
      "parameter number: 24 - iteration: 4 END   || Time now: 14:57:21 | Duration iteration: 00:00:23 | Elapsed from start: 00:49:14\n",
      "parameter number: 25 - iteration: 0 START || Time now: 14:57:21\n",
      "parameter number: 25 - iteration: 0 END   || Time now: 14:57:46 | Duration iteration: 00:00:24 | Elapsed from start: 00:49:39\n",
      "parameter number: 25 - iteration: 1 START || Time now: 14:57:46\n",
      "parameter number: 25 - iteration: 1 END   || Time now: 14:58:09 | Duration iteration: 00:00:23 | Elapsed from start: 00:50:02\n",
      "parameter number: 25 - iteration: 2 START || Time now: 14:58:09\n",
      "parameter number: 25 - iteration: 2 END   || Time now: 14:58:32 | Duration iteration: 00:00:23 | Elapsed from start: 00:50:25\n",
      "parameter number: 25 - iteration: 3 START || Time now: 14:58:32\n",
      "parameter number: 25 - iteration: 3 END   || Time now: 14:58:56 | Duration iteration: 00:00:23 | Elapsed from start: 00:50:49\n",
      "parameter number: 25 - iteration: 4 START || Time now: 14:58:56\n"
     ]
    },
    {
     "name": "stderr",
     "output_type": "stream",
     "text": [
      "\r",
      " 39%|███████████████████████████████                                                | 26/66 [51:14<1:19:09, 118.74s/it]"
     ]
    },
    {
     "name": "stdout",
     "output_type": "stream",
     "text": [
      "parameter number: 25 - iteration: 4 END   || Time now: 14:59:21 | Duration iteration: 00:00:25 | Elapsed from start: 00:51:14\n",
      "parameter number: 26 - iteration: 0 START || Time now: 14:59:21\n",
      "parameter number: 26 - iteration: 0 END   || Time now: 14:59:44 | Duration iteration: 00:00:23 | Elapsed from start: 00:51:37\n",
      "parameter number: 26 - iteration: 1 START || Time now: 14:59:44\n",
      "parameter number: 26 - iteration: 1 END   || Time now: 15:00:07 | Duration iteration: 00:00:23 | Elapsed from start: 00:52:01\n",
      "parameter number: 26 - iteration: 2 START || Time now: 15:00:07\n",
      "parameter number: 26 - iteration: 2 END   || Time now: 15:00:30 | Duration iteration: 00:00:22 | Elapsed from start: 00:52:23\n",
      "parameter number: 26 - iteration: 3 START || Time now: 15:00:30\n",
      "parameter number: 26 - iteration: 3 END   || Time now: 15:00:52 | Duration iteration: 00:00:22 | Elapsed from start: 00:52:46\n",
      "parameter number: 26 - iteration: 4 START || Time now: 15:00:52\n"
     ]
    },
    {
     "name": "stderr",
     "output_type": "stream",
     "text": [
      "\r",
      " 41%|████████████████████████████████▎                                              | 27/66 [53:08<1:16:19, 117.42s/it]"
     ]
    },
    {
     "name": "stdout",
     "output_type": "stream",
     "text": [
      "parameter number: 26 - iteration: 4 END   || Time now: 15:01:15 | Duration iteration: 00:00:23 | Elapsed from start: 00:53:09\n",
      "parameter number: 27 - iteration: 0 START || Time now: 15:01:15\n",
      "parameter number: 27 - iteration: 0 END   || Time now: 15:01:38 | Duration iteration: 00:00:22 | Elapsed from start: 00:53:31\n",
      "parameter number: 27 - iteration: 1 START || Time now: 15:01:38\n",
      "parameter number: 27 - iteration: 1 END   || Time now: 15:02:02 | Duration iteration: 00:00:23 | Elapsed from start: 00:53:55\n",
      "parameter number: 27 - iteration: 2 START || Time now: 15:02:02\n",
      "parameter number: 27 - iteration: 2 END   || Time now: 15:02:24 | Duration iteration: 00:00:22 | Elapsed from start: 00:54:17\n",
      "parameter number: 27 - iteration: 3 START || Time now: 15:02:24\n",
      "parameter number: 27 - iteration: 3 END   || Time now: 15:02:47 | Duration iteration: 00:00:23 | Elapsed from start: 00:54:40\n",
      "parameter number: 27 - iteration: 4 START || Time now: 15:02:47\n"
     ]
    },
    {
     "name": "stderr",
     "output_type": "stream",
     "text": [
      "\r",
      " 42%|█████████████████████████████████▌                                             | 28/66 [55:05<1:14:12, 117.16s/it]"
     ]
    },
    {
     "name": "stdout",
     "output_type": "stream",
     "text": [
      "parameter number: 27 - iteration: 4 END   || Time now: 15:03:12 | Duration iteration: 00:00:24 | Elapsed from start: 00:55:05\n",
      "parameter number: 28 - iteration: 0 START || Time now: 15:03:12\n",
      "parameter number: 28 - iteration: 0 END   || Time now: 15:03:37 | Duration iteration: 00:00:24 | Elapsed from start: 00:55:30\n",
      "parameter number: 28 - iteration: 1 START || Time now: 15:03:37\n",
      "parameter number: 28 - iteration: 1 END   || Time now: 15:04:02 | Duration iteration: 00:00:25 | Elapsed from start: 00:55:55\n",
      "parameter number: 28 - iteration: 2 START || Time now: 15:04:02\n",
      "parameter number: 28 - iteration: 2 END   || Time now: 15:04:25 | Duration iteration: 00:00:23 | Elapsed from start: 00:56:19\n",
      "parameter number: 28 - iteration: 3 START || Time now: 15:04:25\n",
      "parameter number: 28 - iteration: 3 END   || Time now: 15:04:50 | Duration iteration: 00:00:24 | Elapsed from start: 00:56:43\n",
      "parameter number: 28 - iteration: 4 START || Time now: 15:04:50\n"
     ]
    },
    {
     "name": "stderr",
     "output_type": "stream",
     "text": [
      "\r",
      " 44%|██████████████████████████████████▋                                            | 29/66 [57:06<1:13:02, 118.44s/it]"
     ]
    },
    {
     "name": "stdout",
     "output_type": "stream",
     "text": [
      "parameter number: 28 - iteration: 4 END   || Time now: 15:05:13 | Duration iteration: 00:00:23 | Elapsed from start: 00:57:07\n",
      "parameter number: 29 - iteration: 0 START || Time now: 15:05:13\n",
      "parameter number: 29 - iteration: 0 END   || Time now: 15:05:37 | Duration iteration: 00:00:23 | Elapsed from start: 00:57:30\n",
      "parameter number: 29 - iteration: 1 START || Time now: 15:05:37\n",
      "parameter number: 29 - iteration: 1 END   || Time now: 15:06:00 | Duration iteration: 00:00:23 | Elapsed from start: 00:57:53\n",
      "parameter number: 29 - iteration: 2 START || Time now: 15:06:00\n",
      "parameter number: 29 - iteration: 2 END   || Time now: 15:06:22 | Duration iteration: 00:00:22 | Elapsed from start: 00:58:15\n",
      "parameter number: 29 - iteration: 3 START || Time now: 15:06:22\n",
      "parameter number: 29 - iteration: 3 END   || Time now: 15:06:45 | Duration iteration: 00:00:23 | Elapsed from start: 00:58:39\n",
      "parameter number: 29 - iteration: 4 START || Time now: 15:06:45\n"
     ]
    },
    {
     "name": "stderr",
     "output_type": "stream",
     "text": [
      "\r",
      " 45%|███████████████████████████████████▉                                           | 30/66 [59:01<1:10:20, 117.25s/it]"
     ]
    },
    {
     "name": "stdout",
     "output_type": "stream",
     "text": [
      "parameter number: 29 - iteration: 4 END   || Time now: 15:07:08 | Duration iteration: 00:00:22 | Elapsed from start: 00:59:01\n",
      "parameter number: 30 - iteration: 0 START || Time now: 15:07:08\n",
      "parameter number: 30 - iteration: 0 END   || Time now: 15:07:31 | Duration iteration: 00:00:23 | Elapsed from start: 00:59:24\n",
      "parameter number: 30 - iteration: 1 START || Time now: 15:07:31\n",
      "parameter number: 30 - iteration: 1 END   || Time now: 15:07:54 | Duration iteration: 00:00:23 | Elapsed from start: 00:59:47\n",
      "parameter number: 30 - iteration: 2 START || Time now: 15:07:54\n",
      "parameter number: 30 - iteration: 2 END   || Time now: 15:08:17 | Duration iteration: 00:00:22 | Elapsed from start: 01:00:10\n",
      "parameter number: 30 - iteration: 3 START || Time now: 15:08:17\n",
      "parameter number: 30 - iteration: 3 END   || Time now: 15:08:39 | Duration iteration: 00:00:22 | Elapsed from start: 01:00:32\n",
      "parameter number: 30 - iteration: 4 START || Time now: 15:08:39\n"
     ]
    },
    {
     "name": "stderr",
     "output_type": "stream",
     "text": [
      "\r",
      " 47%|████████████████████████████████████▏                                        | 31/66 [1:00:56<1:07:56, 116.48s/it]"
     ]
    },
    {
     "name": "stdout",
     "output_type": "stream",
     "text": [
      "parameter number: 30 - iteration: 4 END   || Time now: 15:09:02 | Duration iteration: 00:00:23 | Elapsed from start: 01:00:56\n",
      "parameter number: 31 - iteration: 0 START || Time now: 15:09:02\n",
      "parameter number: 31 - iteration: 0 END   || Time now: 15:09:26 | Duration iteration: 00:00:23 | Elapsed from start: 01:01:19\n",
      "parameter number: 31 - iteration: 1 START || Time now: 15:09:26\n",
      "parameter number: 31 - iteration: 1 END   || Time now: 15:09:49 | Duration iteration: 00:00:23 | Elapsed from start: 01:01:42\n",
      "parameter number: 31 - iteration: 2 START || Time now: 15:09:49\n",
      "parameter number: 31 - iteration: 2 END   || Time now: 15:10:11 | Duration iteration: 00:00:22 | Elapsed from start: 01:02:05\n",
      "parameter number: 31 - iteration: 3 START || Time now: 15:10:11\n",
      "parameter number: 31 - iteration: 3 END   || Time now: 15:10:36 | Duration iteration: 00:00:24 | Elapsed from start: 01:02:29\n",
      "parameter number: 31 - iteration: 4 START || Time now: 15:10:36\n"
     ]
    },
    {
     "name": "stderr",
     "output_type": "stream",
     "text": [
      "\r",
      " 48%|█████████████████████████████████████▎                                       | 32/66 [1:02:54<1:06:22, 117.13s/it]"
     ]
    },
    {
     "name": "stdout",
     "output_type": "stream",
     "text": [
      "parameter number: 31 - iteration: 4 END   || Time now: 15:11:01 | Duration iteration: 00:00:24 | Elapsed from start: 01:02:54\n",
      "parameter number: 32 - iteration: 0 START || Time now: 15:11:01\n",
      "parameter number: 32 - iteration: 0 END   || Time now: 15:11:24 | Duration iteration: 00:00:23 | Elapsed from start: 01:03:18\n",
      "parameter number: 32 - iteration: 1 START || Time now: 15:11:24\n",
      "parameter number: 32 - iteration: 1 END   || Time now: 15:11:47 | Duration iteration: 00:00:23 | Elapsed from start: 01:03:41\n",
      "parameter number: 32 - iteration: 2 START || Time now: 15:11:47\n",
      "parameter number: 32 - iteration: 2 END   || Time now: 15:12:10 | Duration iteration: 00:00:23 | Elapsed from start: 01:04:04\n",
      "parameter number: 32 - iteration: 3 START || Time now: 15:12:10\n",
      "parameter number: 32 - iteration: 3 END   || Time now: 15:12:35 | Duration iteration: 00:00:24 | Elapsed from start: 01:04:28\n",
      "parameter number: 32 - iteration: 4 START || Time now: 15:12:35\n"
     ]
    },
    {
     "name": "stderr",
     "output_type": "stream",
     "text": [
      "\r",
      " 50%|██████████████████████████████████████▌                                      | 33/66 [1:04:53<1:04:38, 117.52s/it]"
     ]
    },
    {
     "name": "stdout",
     "output_type": "stream",
     "text": [
      "parameter number: 32 - iteration: 4 END   || Time now: 15:12:59 | Duration iteration: 00:00:24 | Elapsed from start: 01:04:53\n",
      "parameter number: 33 - iteration: 0 START || Time now: 15:12:59\n",
      "parameter number: 33 - iteration: 0 END   || Time now: 15:13:25 | Duration iteration: 00:00:25 | Elapsed from start: 01:05:18\n",
      "parameter number: 33 - iteration: 1 START || Time now: 15:13:25\n",
      "parameter number: 33 - iteration: 1 END   || Time now: 15:13:48 | Duration iteration: 00:00:23 | Elapsed from start: 01:05:41\n",
      "parameter number: 33 - iteration: 2 START || Time now: 15:13:48\n",
      "parameter number: 33 - iteration: 2 END   || Time now: 15:14:11 | Duration iteration: 00:00:23 | Elapsed from start: 01:06:05\n",
      "parameter number: 33 - iteration: 3 START || Time now: 15:14:11\n",
      "parameter number: 33 - iteration: 3 END   || Time now: 15:14:34 | Duration iteration: 00:00:22 | Elapsed from start: 01:06:28\n",
      "parameter number: 33 - iteration: 4 START || Time now: 15:14:34\n"
     ]
    },
    {
     "name": "stderr",
     "output_type": "stream",
     "text": [
      "\r",
      " 52%|███████████████████████████████████████▋                                     | 34/66 [1:06:50<1:02:42, 117.56s/it]"
     ]
    },
    {
     "name": "stdout",
     "output_type": "stream",
     "text": [
      "parameter number: 33 - iteration: 4 END   || Time now: 15:14:57 | Duration iteration: 00:00:22 | Elapsed from start: 01:06:50\n",
      "parameter number: 34 - iteration: 0 START || Time now: 15:14:57\n",
      "parameter number: 34 - iteration: 0 END   || Time now: 15:15:20 | Duration iteration: 00:00:23 | Elapsed from start: 01:07:14\n",
      "parameter number: 34 - iteration: 1 START || Time now: 15:15:20\n",
      "parameter number: 34 - iteration: 1 END   || Time now: 15:15:43 | Duration iteration: 00:00:22 | Elapsed from start: 01:07:36\n",
      "parameter number: 34 - iteration: 2 START || Time now: 15:15:43\n",
      "parameter number: 34 - iteration: 2 END   || Time now: 15:16:06 | Duration iteration: 00:00:22 | Elapsed from start: 01:07:59\n",
      "parameter number: 34 - iteration: 3 START || Time now: 15:16:06\n",
      "parameter number: 34 - iteration: 3 END   || Time now: 15:16:29 | Duration iteration: 00:00:22 | Elapsed from start: 01:08:22\n",
      "parameter number: 34 - iteration: 4 START || Time now: 15:16:29\n"
     ]
    },
    {
     "name": "stderr",
     "output_type": "stream",
     "text": [
      "\r",
      " 53%|████████████████████████████████████████▊                                    | 35/66 [1:08:47<1:00:38, 117.39s/it]"
     ]
    },
    {
     "name": "stdout",
     "output_type": "stream",
     "text": [
      "parameter number: 34 - iteration: 4 END   || Time now: 15:16:54 | Duration iteration: 00:00:25 | Elapsed from start: 01:08:47\n",
      "parameter number: 35 - iteration: 0 START || Time now: 15:16:54\n",
      "parameter number: 35 - iteration: 0 END   || Time now: 15:17:18 | Duration iteration: 00:00:23 | Elapsed from start: 01:09:11\n",
      "parameter number: 35 - iteration: 1 START || Time now: 15:17:18\n",
      "parameter number: 35 - iteration: 1 END   || Time now: 15:17:42 | Duration iteration: 00:00:24 | Elapsed from start: 01:09:35\n",
      "parameter number: 35 - iteration: 2 START || Time now: 15:17:42\n",
      "parameter number: 35 - iteration: 2 END   || Time now: 15:18:07 | Duration iteration: 00:00:24 | Elapsed from start: 01:10:00\n",
      "parameter number: 35 - iteration: 3 START || Time now: 15:18:07\n",
      "parameter number: 35 - iteration: 3 END   || Time now: 15:18:34 | Duration iteration: 00:00:27 | Elapsed from start: 01:10:27\n",
      "parameter number: 35 - iteration: 4 START || Time now: 15:18:34\n"
     ]
    },
    {
     "name": "stderr",
     "output_type": "stream",
     "text": [
      "\r",
      " 55%|██████████████████████████████████████████                                   | 36/66 [1:10:54<1:00:02, 120.09s/it]"
     ]
    },
    {
     "name": "stdout",
     "output_type": "stream",
     "text": [
      "parameter number: 35 - iteration: 4 END   || Time now: 15:19:01 | Duration iteration: 00:00:26 | Elapsed from start: 01:10:54\n",
      "parameter number: 36 - iteration: 0 START || Time now: 15:19:01\n",
      "parameter number: 36 - iteration: 0 END   || Time now: 15:19:26 | Duration iteration: 00:00:25 | Elapsed from start: 01:11:19\n",
      "parameter number: 36 - iteration: 1 START || Time now: 15:19:26\n",
      "parameter number: 36 - iteration: 1 END   || Time now: 15:19:51 | Duration iteration: 00:00:24 | Elapsed from start: 01:11:44\n",
      "parameter number: 36 - iteration: 2 START || Time now: 15:19:51\n",
      "parameter number: 36 - iteration: 2 END   || Time now: 15:20:15 | Duration iteration: 00:00:24 | Elapsed from start: 01:12:08\n",
      "parameter number: 36 - iteration: 3 START || Time now: 15:20:15\n",
      "parameter number: 36 - iteration: 3 END   || Time now: 15:20:39 | Duration iteration: 00:00:23 | Elapsed from start: 01:12:32\n",
      "parameter number: 36 - iteration: 4 START || Time now: 15:20:39\n"
     ]
    },
    {
     "name": "stderr",
     "output_type": "stream",
     "text": [
      "\r",
      " 56%|████████████████████████████████████████████▎                                  | 37/66 [1:12:56<58:22, 120.76s/it]"
     ]
    },
    {
     "name": "stdout",
     "output_type": "stream",
     "text": [
      "parameter number: 36 - iteration: 4 END   || Time now: 15:21:03 | Duration iteration: 00:00:24 | Elapsed from start: 01:12:56\n",
      "parameter number: 37 - iteration: 0 START || Time now: 15:21:03\n",
      "parameter number: 37 - iteration: 0 END   || Time now: 15:21:27 | Duration iteration: 00:00:23 | Elapsed from start: 01:13:20\n",
      "parameter number: 37 - iteration: 1 START || Time now: 15:21:27\n",
      "parameter number: 37 - iteration: 1 END   || Time now: 15:21:51 | Duration iteration: 00:00:24 | Elapsed from start: 01:13:44\n",
      "parameter number: 37 - iteration: 2 START || Time now: 15:21:51\n",
      "parameter number: 37 - iteration: 2 END   || Time now: 15:22:14 | Duration iteration: 00:00:23 | Elapsed from start: 01:14:08\n",
      "parameter number: 37 - iteration: 3 START || Time now: 15:22:14\n",
      "parameter number: 37 - iteration: 3 END   || Time now: 15:22:41 | Duration iteration: 00:00:26 | Elapsed from start: 01:14:34\n",
      "parameter number: 37 - iteration: 4 START || Time now: 15:22:41\n"
     ]
    },
    {
     "name": "stderr",
     "output_type": "stream",
     "text": [
      "\r",
      " 58%|█████████████████████████████████████████████▍                                 | 38/66 [1:14:59<56:40, 121.46s/it]"
     ]
    },
    {
     "name": "stdout",
     "output_type": "stream",
     "text": [
      "parameter number: 37 - iteration: 4 END   || Time now: 15:23:06 | Duration iteration: 00:00:24 | Elapsed from start: 01:14:59\n",
      "parameter number: 38 - iteration: 0 START || Time now: 15:23:06\n",
      "parameter number: 38 - iteration: 0 END   || Time now: 15:23:30 | Duration iteration: 00:00:24 | Elapsed from start: 01:15:24\n",
      "parameter number: 38 - iteration: 1 START || Time now: 15:23:30\n",
      "parameter number: 38 - iteration: 1 END   || Time now: 15:23:55 | Duration iteration: 00:00:24 | Elapsed from start: 01:15:48\n",
      "parameter number: 38 - iteration: 2 START || Time now: 15:23:55\n",
      "parameter number: 38 - iteration: 2 END   || Time now: 15:24:19 | Duration iteration: 00:00:23 | Elapsed from start: 01:16:12\n",
      "parameter number: 38 - iteration: 3 START || Time now: 15:24:19\n",
      "parameter number: 38 - iteration: 3 END   || Time now: 15:24:43 | Duration iteration: 00:00:23 | Elapsed from start: 01:16:36\n",
      "parameter number: 38 - iteration: 4 START || Time now: 15:24:43\n"
     ]
    },
    {
     "name": "stderr",
     "output_type": "stream",
     "text": [
      "\r",
      " 59%|██████████████████████████████████████████████▋                                | 39/66 [1:17:01<54:39, 121.45s/it]"
     ]
    },
    {
     "name": "stdout",
     "output_type": "stream",
     "text": [
      "parameter number: 38 - iteration: 4 END   || Time now: 15:25:07 | Duration iteration: 00:00:24 | Elapsed from start: 01:17:01\n",
      "parameter number: 39 - iteration: 0 START || Time now: 15:25:07\n",
      "parameter number: 39 - iteration: 0 END   || Time now: 15:25:32 | Duration iteration: 00:00:25 | Elapsed from start: 01:17:26\n",
      "parameter number: 39 - iteration: 1 START || Time now: 15:25:32\n",
      "parameter number: 39 - iteration: 1 END   || Time now: 15:25:56 | Duration iteration: 00:00:23 | Elapsed from start: 01:17:49\n",
      "parameter number: 39 - iteration: 2 START || Time now: 15:25:56\n",
      "parameter number: 39 - iteration: 2 END   || Time now: 15:26:18 | Duration iteration: 00:00:22 | Elapsed from start: 01:18:11\n",
      "parameter number: 39 - iteration: 3 START || Time now: 15:26:18\n",
      "parameter number: 39 - iteration: 3 END   || Time now: 15:26:41 | Duration iteration: 00:00:23 | Elapsed from start: 01:18:35\n",
      "parameter number: 39 - iteration: 4 START || Time now: 15:26:41\n"
     ]
    },
    {
     "name": "stderr",
     "output_type": "stream",
     "text": [
      "\r",
      " 61%|███████████████████████████████████████████████▉                               | 40/66 [1:18:58<52:05, 120.21s/it]"
     ]
    },
    {
     "name": "stdout",
     "output_type": "stream",
     "text": [
      "parameter number: 39 - iteration: 4 END   || Time now: 15:27:05 | Duration iteration: 00:00:23 | Elapsed from start: 01:18:58\n",
      "parameter number: 40 - iteration: 0 START || Time now: 15:27:05\n",
      "parameter number: 40 - iteration: 0 END   || Time now: 15:27:27 | Duration iteration: 00:00:22 | Elapsed from start: 01:19:21\n",
      "parameter number: 40 - iteration: 1 START || Time now: 15:27:27\n",
      "parameter number: 40 - iteration: 1 END   || Time now: 15:27:50 | Duration iteration: 00:00:22 | Elapsed from start: 01:19:43\n",
      "parameter number: 40 - iteration: 2 START || Time now: 15:27:50\n",
      "parameter number: 40 - iteration: 2 END   || Time now: 15:28:13 | Duration iteration: 00:00:23 | Elapsed from start: 01:20:06\n",
      "parameter number: 40 - iteration: 3 START || Time now: 15:28:13\n",
      "parameter number: 40 - iteration: 3 END   || Time now: 15:28:38 | Duration iteration: 00:00:25 | Elapsed from start: 01:20:32\n",
      "parameter number: 40 - iteration: 4 START || Time now: 15:28:38\n"
     ]
    },
    {
     "name": "stderr",
     "output_type": "stream",
     "text": [
      "\r",
      " 62%|█████████████████████████████████████████████████                              | 41/66 [1:20:55<49:42, 119.28s/it]"
     ]
    },
    {
     "name": "stdout",
     "output_type": "stream",
     "text": [
      "parameter number: 40 - iteration: 4 END   || Time now: 15:29:02 | Duration iteration: 00:00:23 | Elapsed from start: 01:20:55\n",
      "parameter number: 41 - iteration: 0 START || Time now: 15:29:02\n",
      "parameter number: 41 - iteration: 0 END   || Time now: 15:29:25 | Duration iteration: 00:00:23 | Elapsed from start: 01:21:18\n",
      "parameter number: 41 - iteration: 1 START || Time now: 15:29:25\n",
      "parameter number: 41 - iteration: 1 END   || Time now: 15:29:50 | Duration iteration: 00:00:25 | Elapsed from start: 01:21:43\n",
      "parameter number: 41 - iteration: 2 START || Time now: 15:29:50\n",
      "parameter number: 41 - iteration: 2 END   || Time now: 15:30:15 | Duration iteration: 00:00:25 | Elapsed from start: 01:22:08\n",
      "parameter number: 41 - iteration: 3 START || Time now: 15:30:15\n",
      "parameter number: 41 - iteration: 3 END   || Time now: 15:30:40 | Duration iteration: 00:00:24 | Elapsed from start: 01:22:33\n",
      "parameter number: 41 - iteration: 4 START || Time now: 15:30:40\n"
     ]
    },
    {
     "name": "stderr",
     "output_type": "stream",
     "text": [
      "\r",
      " 64%|██████████████████████████████████████████████████▎                            | 42/66 [1:22:56<47:58, 119.94s/it]"
     ]
    },
    {
     "name": "stdout",
     "output_type": "stream",
     "text": [
      "parameter number: 41 - iteration: 4 END   || Time now: 15:31:03 | Duration iteration: 00:00:23 | Elapsed from start: 01:22:57\n",
      "parameter number: 42 - iteration: 0 START || Time now: 15:31:03\n",
      "parameter number: 42 - iteration: 0 END   || Time now: 15:31:26 | Duration iteration: 00:00:23 | Elapsed from start: 01:23:20\n",
      "parameter number: 42 - iteration: 1 START || Time now: 15:31:26\n",
      "parameter number: 42 - iteration: 1 END   || Time now: 15:31:51 | Duration iteration: 00:00:24 | Elapsed from start: 01:23:44\n",
      "parameter number: 42 - iteration: 2 START || Time now: 15:31:51\n",
      "parameter number: 42 - iteration: 2 END   || Time now: 15:32:14 | Duration iteration: 00:00:23 | Elapsed from start: 01:24:08\n",
      "parameter number: 42 - iteration: 3 START || Time now: 15:32:14\n",
      "parameter number: 42 - iteration: 3 END   || Time now: 15:32:38 | Duration iteration: 00:00:23 | Elapsed from start: 01:24:31\n",
      "parameter number: 42 - iteration: 4 START || Time now: 15:32:38\n"
     ]
    },
    {
     "name": "stderr",
     "output_type": "stream",
     "text": [
      "\r",
      " 65%|███████████████████████████████████████████████████▍                           | 43/66 [1:24:55<45:51, 119.63s/it]"
     ]
    },
    {
     "name": "stdout",
     "output_type": "stream",
     "text": [
      "parameter number: 42 - iteration: 4 END   || Time now: 15:33:02 | Duration iteration: 00:00:24 | Elapsed from start: 01:24:55\n",
      "parameter number: 43 - iteration: 0 START || Time now: 15:33:02\n",
      "parameter number: 43 - iteration: 0 END   || Time now: 15:33:26 | Duration iteration: 00:00:23 | Elapsed from start: 01:25:19\n",
      "parameter number: 43 - iteration: 1 START || Time now: 15:33:26\n",
      "parameter number: 43 - iteration: 1 END   || Time now: 15:33:49 | Duration iteration: 00:00:23 | Elapsed from start: 01:25:42\n",
      "parameter number: 43 - iteration: 2 START || Time now: 15:33:49\n",
      "parameter number: 43 - iteration: 2 END   || Time now: 15:34:12 | Duration iteration: 00:00:23 | Elapsed from start: 01:26:05\n",
      "parameter number: 43 - iteration: 3 START || Time now: 15:34:12\n",
      "parameter number: 43 - iteration: 3 END   || Time now: 15:34:35 | Duration iteration: 00:00:23 | Elapsed from start: 01:26:29\n",
      "parameter number: 43 - iteration: 4 START || Time now: 15:34:35\n"
     ]
    },
    {
     "name": "stderr",
     "output_type": "stream",
     "text": [
      "\r",
      " 67%|████████████████████████████████████████████████████▋                          | 44/66 [1:26:54<43:43, 119.27s/it]"
     ]
    },
    {
     "name": "stdout",
     "output_type": "stream",
     "text": [
      "parameter number: 43 - iteration: 4 END   || Time now: 15:35:01 | Duration iteration: 00:00:25 | Elapsed from start: 01:26:54\n",
      "parameter number: 44 - iteration: 0 START || Time now: 15:35:01\n",
      "parameter number: 44 - iteration: 0 END   || Time now: 15:35:23 | Duration iteration: 00:00:22 | Elapsed from start: 01:27:16\n",
      "parameter number: 44 - iteration: 1 START || Time now: 15:35:23\n",
      "parameter number: 44 - iteration: 1 END   || Time now: 15:35:46 | Duration iteration: 00:00:22 | Elapsed from start: 01:27:39\n",
      "parameter number: 44 - iteration: 2 START || Time now: 15:35:46\n",
      "parameter number: 44 - iteration: 2 END   || Time now: 15:36:11 | Duration iteration: 00:00:25 | Elapsed from start: 01:28:04\n",
      "parameter number: 44 - iteration: 3 START || Time now: 15:36:11\n",
      "parameter number: 44 - iteration: 3 END   || Time now: 15:36:34 | Duration iteration: 00:00:22 | Elapsed from start: 01:28:27\n",
      "parameter number: 44 - iteration: 4 START || Time now: 15:36:34\n"
     ]
    },
    {
     "name": "stderr",
     "output_type": "stream",
     "text": [
      "\r",
      " 68%|█████████████████████████████████████████████████████▊                         | 45/66 [1:28:50<41:25, 118.36s/it]"
     ]
    },
    {
     "name": "stdout",
     "output_type": "stream",
     "text": [
      "parameter number: 44 - iteration: 4 END   || Time now: 15:36:57 | Duration iteration: 00:00:23 | Elapsed from start: 01:28:50\n",
      "parameter number: 45 - iteration: 0 START || Time now: 15:36:57\n",
      "parameter number: 45 - iteration: 0 END   || Time now: 15:37:22 | Duration iteration: 00:00:25 | Elapsed from start: 01:29:15\n",
      "parameter number: 45 - iteration: 1 START || Time now: 15:37:22\n",
      "parameter number: 45 - iteration: 1 END   || Time now: 15:37:47 | Duration iteration: 00:00:24 | Elapsed from start: 01:29:40\n",
      "parameter number: 45 - iteration: 2 START || Time now: 15:37:47\n",
      "parameter number: 45 - iteration: 2 END   || Time now: 15:38:12 | Duration iteration: 00:00:25 | Elapsed from start: 01:30:06\n",
      "parameter number: 45 - iteration: 3 START || Time now: 15:38:12\n",
      "parameter number: 45 - iteration: 3 END   || Time now: 15:38:36 | Duration iteration: 00:00:23 | Elapsed from start: 01:30:29\n",
      "parameter number: 45 - iteration: 4 START || Time now: 15:38:36\n"
     ]
    },
    {
     "name": "stderr",
     "output_type": "stream",
     "text": [
      "\r",
      " 70%|███████████████████████████████████████████████████████                        | 46/66 [1:30:51<39:42, 119.12s/it]"
     ]
    },
    {
     "name": "stdout",
     "output_type": "stream",
     "text": [
      "parameter number: 45 - iteration: 4 END   || Time now: 15:38:58 | Duration iteration: 00:00:22 | Elapsed from start: 01:30:51\n",
      "parameter number: 46 - iteration: 0 START || Time now: 15:38:58\n",
      "parameter number: 46 - iteration: 0 END   || Time now: 15:39:21 | Duration iteration: 00:00:23 | Elapsed from start: 01:31:14\n",
      "parameter number: 46 - iteration: 1 START || Time now: 15:39:21\n",
      "parameter number: 46 - iteration: 1 END   || Time now: 15:39:43 | Duration iteration: 00:00:22 | Elapsed from start: 01:31:36\n",
      "parameter number: 46 - iteration: 2 START || Time now: 15:39:43\n",
      "parameter number: 46 - iteration: 2 END   || Time now: 15:40:06 | Duration iteration: 00:00:23 | Elapsed from start: 01:32:00\n",
      "parameter number: 46 - iteration: 3 START || Time now: 15:40:06\n",
      "parameter number: 46 - iteration: 3 END   || Time now: 15:40:29 | Duration iteration: 00:00:22 | Elapsed from start: 01:32:22\n",
      "parameter number: 46 - iteration: 4 START || Time now: 15:40:29\n"
     ]
    },
    {
     "name": "stderr",
     "output_type": "stream",
     "text": [
      "\r",
      " 71%|████████████████████████████████████████████████████████▎                      | 47/66 [1:32:44<37:11, 117.45s/it]"
     ]
    },
    {
     "name": "stdout",
     "output_type": "stream",
     "text": [
      "parameter number: 46 - iteration: 4 END   || Time now: 15:40:51 | Duration iteration: 00:00:22 | Elapsed from start: 01:32:45\n",
      "parameter number: 47 - iteration: 0 START || Time now: 15:40:51\n",
      "parameter number: 47 - iteration: 0 END   || Time now: 15:41:15 | Duration iteration: 00:00:23 | Elapsed from start: 01:33:08\n",
      "parameter number: 47 - iteration: 1 START || Time now: 15:41:15\n",
      "parameter number: 47 - iteration: 1 END   || Time now: 15:41:37 | Duration iteration: 00:00:22 | Elapsed from start: 01:33:30\n",
      "parameter number: 47 - iteration: 2 START || Time now: 15:41:37\n",
      "parameter number: 47 - iteration: 2 END   || Time now: 15:42:00 | Duration iteration: 00:00:23 | Elapsed from start: 01:33:54\n",
      "parameter number: 47 - iteration: 3 START || Time now: 15:42:00\n",
      "parameter number: 47 - iteration: 3 END   || Time now: 15:42:23 | Duration iteration: 00:00:23 | Elapsed from start: 01:34:17\n",
      "parameter number: 47 - iteration: 4 START || Time now: 15:42:23\n"
     ]
    },
    {
     "name": "stderr",
     "output_type": "stream",
     "text": [
      "\r",
      " 73%|█████████████████████████████████████████████████████████▍                     | 48/66 [1:34:40<35:05, 116.95s/it]"
     ]
    },
    {
     "name": "stdout",
     "output_type": "stream",
     "text": [
      "parameter number: 47 - iteration: 4 END   || Time now: 15:42:47 | Duration iteration: 00:00:23 | Elapsed from start: 01:34:40\n",
      "parameter number: 48 - iteration: 0 START || Time now: 15:42:47\n",
      "parameter number: 48 - iteration: 0 END   || Time now: 15:43:10 | Duration iteration: 00:00:23 | Elapsed from start: 01:35:04\n",
      "parameter number: 48 - iteration: 1 START || Time now: 15:43:10\n",
      "parameter number: 48 - iteration: 1 END   || Time now: 15:43:33 | Duration iteration: 00:00:23 | Elapsed from start: 01:35:27\n",
      "parameter number: 48 - iteration: 2 START || Time now: 15:43:33\n",
      "parameter number: 48 - iteration: 2 END   || Time now: 15:43:58 | Duration iteration: 00:00:25 | Elapsed from start: 01:35:52\n",
      "parameter number: 48 - iteration: 3 START || Time now: 15:43:58\n",
      "parameter number: 48 - iteration: 3 END   || Time now: 15:44:21 | Duration iteration: 00:00:22 | Elapsed from start: 01:36:15\n",
      "parameter number: 48 - iteration: 4 START || Time now: 15:44:21\n"
     ]
    },
    {
     "name": "stderr",
     "output_type": "stream",
     "text": [
      "\r",
      " 74%|██████████████████████████████████████████████████████████▋                    | 49/66 [1:36:37<33:06, 116.83s/it]"
     ]
    },
    {
     "name": "stdout",
     "output_type": "stream",
     "text": [
      "parameter number: 48 - iteration: 4 END   || Time now: 15:44:44 | Duration iteration: 00:00:22 | Elapsed from start: 01:36:37\n",
      "parameter number: 49 - iteration: 0 START || Time now: 15:44:44\n",
      "parameter number: 49 - iteration: 0 END   || Time now: 15:45:06 | Duration iteration: 00:00:22 | Elapsed from start: 01:36:59\n",
      "parameter number: 49 - iteration: 1 START || Time now: 15:45:06\n",
      "parameter number: 49 - iteration: 1 END   || Time now: 15:45:30 | Duration iteration: 00:00:23 | Elapsed from start: 01:37:23\n",
      "parameter number: 49 - iteration: 2 START || Time now: 15:45:30\n",
      "parameter number: 49 - iteration: 2 END   || Time now: 15:45:52 | Duration iteration: 00:00:22 | Elapsed from start: 01:37:45\n",
      "parameter number: 49 - iteration: 3 START || Time now: 15:45:52\n",
      "parameter number: 49 - iteration: 3 END   || Time now: 15:46:15 | Duration iteration: 00:00:23 | Elapsed from start: 01:38:09\n",
      "parameter number: 49 - iteration: 4 START || Time now: 15:46:15\n"
     ]
    },
    {
     "name": "stderr",
     "output_type": "stream",
     "text": [
      "\r",
      " 76%|███████████████████████████████████████████████████████████▊                   | 50/66 [1:38:32<31:01, 116.33s/it]"
     ]
    },
    {
     "name": "stdout",
     "output_type": "stream",
     "text": [
      "parameter number: 49 - iteration: 4 END   || Time now: 15:46:39 | Duration iteration: 00:00:23 | Elapsed from start: 01:38:32\n",
      "parameter number: 50 - iteration: 0 START || Time now: 15:46:39\n",
      "parameter number: 50 - iteration: 0 END   || Time now: 15:47:04 | Duration iteration: 00:00:25 | Elapsed from start: 01:38:58\n",
      "parameter number: 50 - iteration: 1 START || Time now: 15:47:04\n",
      "parameter number: 50 - iteration: 1 END   || Time now: 15:47:28 | Duration iteration: 00:00:23 | Elapsed from start: 01:39:21\n",
      "parameter number: 50 - iteration: 2 START || Time now: 15:47:28\n",
      "parameter number: 50 - iteration: 2 END   || Time now: 15:47:53 | Duration iteration: 00:00:25 | Elapsed from start: 01:39:46\n",
      "parameter number: 50 - iteration: 3 START || Time now: 15:47:53\n",
      "parameter number: 50 - iteration: 3 END   || Time now: 15:48:18 | Duration iteration: 00:00:25 | Elapsed from start: 01:40:12\n",
      "parameter number: 50 - iteration: 4 START || Time now: 15:48:18\n"
     ]
    },
    {
     "name": "stderr",
     "output_type": "stream",
     "text": [
      "\r",
      " 77%|█████████████████████████████████████████████████████████████                  | 51/66 [1:40:34<29:30, 118.00s/it]"
     ]
    },
    {
     "name": "stdout",
     "output_type": "stream",
     "text": [
      "parameter number: 50 - iteration: 4 END   || Time now: 15:48:41 | Duration iteration: 00:00:22 | Elapsed from start: 01:40:34\n",
      "parameter number: 51 - iteration: 0 START || Time now: 15:48:41\n",
      "parameter number: 51 - iteration: 0 END   || Time now: 15:49:03 | Duration iteration: 00:00:22 | Elapsed from start: 01:40:57\n",
      "parameter number: 51 - iteration: 1 START || Time now: 15:49:03\n",
      "parameter number: 51 - iteration: 1 END   || Time now: 15:49:27 | Duration iteration: 00:00:23 | Elapsed from start: 01:41:20\n",
      "parameter number: 51 - iteration: 2 START || Time now: 15:49:27\n",
      "parameter number: 51 - iteration: 2 END   || Time now: 15:49:51 | Duration iteration: 00:00:23 | Elapsed from start: 01:41:44\n",
      "parameter number: 51 - iteration: 3 START || Time now: 15:49:51\n",
      "parameter number: 51 - iteration: 3 END   || Time now: 15:50:13 | Duration iteration: 00:00:22 | Elapsed from start: 01:42:07\n",
      "parameter number: 51 - iteration: 4 START || Time now: 15:50:13\n"
     ]
    },
    {
     "name": "stderr",
     "output_type": "stream",
     "text": [
      "\r",
      " 79%|██████████████████████████████████████████████████████████████▏                | 52/66 [1:42:32<27:31, 117.98s/it]"
     ]
    },
    {
     "name": "stdout",
     "output_type": "stream",
     "text": [
      "parameter number: 51 - iteration: 4 END   || Time now: 15:50:39 | Duration iteration: 00:00:25 | Elapsed from start: 01:42:32\n",
      "parameter number: 52 - iteration: 0 START || Time now: 15:50:39\n",
      "parameter number: 52 - iteration: 0 END   || Time now: 15:51:03 | Duration iteration: 00:00:24 | Elapsed from start: 01:42:57\n",
      "parameter number: 52 - iteration: 1 START || Time now: 15:51:03\n",
      "parameter number: 52 - iteration: 1 END   || Time now: 15:51:26 | Duration iteration: 00:00:22 | Elapsed from start: 01:43:20\n",
      "parameter number: 52 - iteration: 2 START || Time now: 15:51:26\n",
      "parameter number: 52 - iteration: 2 END   || Time now: 15:51:50 | Duration iteration: 00:00:23 | Elapsed from start: 01:43:43\n",
      "parameter number: 52 - iteration: 3 START || Time now: 15:51:50\n",
      "parameter number: 52 - iteration: 3 END   || Time now: 15:52:12 | Duration iteration: 00:00:22 | Elapsed from start: 01:44:06\n",
      "parameter number: 52 - iteration: 4 START || Time now: 15:52:12\n"
     ]
    },
    {
     "name": "stderr",
     "output_type": "stream",
     "text": [
      "\r",
      " 80%|███████████████████████████████████████████████████████████████▍               | 53/66 [1:44:28<25:26, 117.46s/it]"
     ]
    },
    {
     "name": "stdout",
     "output_type": "stream",
     "text": [
      "parameter number: 52 - iteration: 4 END   || Time now: 15:52:35 | Duration iteration: 00:00:22 | Elapsed from start: 01:44:28\n",
      "parameter number: 53 - iteration: 0 START || Time now: 15:52:35\n",
      "parameter number: 53 - iteration: 0 END   || Time now: 15:53:00 | Duration iteration: 00:00:24 | Elapsed from start: 01:44:53\n",
      "parameter number: 53 - iteration: 1 START || Time now: 15:53:00\n",
      "parameter number: 53 - iteration: 1 END   || Time now: 15:53:22 | Duration iteration: 00:00:22 | Elapsed from start: 01:45:16\n",
      "parameter number: 53 - iteration: 2 START || Time now: 15:53:22\n",
      "parameter number: 53 - iteration: 2 END   || Time now: 15:53:48 | Duration iteration: 00:00:25 | Elapsed from start: 01:45:41\n",
      "parameter number: 53 - iteration: 3 START || Time now: 15:53:48\n",
      "parameter number: 53 - iteration: 3 END   || Time now: 15:54:11 | Duration iteration: 00:00:23 | Elapsed from start: 01:46:04\n",
      "parameter number: 53 - iteration: 4 START || Time now: 15:54:11\n"
     ]
    },
    {
     "name": "stderr",
     "output_type": "stream",
     "text": [
      "\r",
      " 82%|████████████████████████████████████████████████████████████████▋              | 54/66 [1:46:27<23:35, 117.99s/it]"
     ]
    },
    {
     "name": "stdout",
     "output_type": "stream",
     "text": [
      "parameter number: 53 - iteration: 4 END   || Time now: 15:54:34 | Duration iteration: 00:00:23 | Elapsed from start: 01:46:27\n",
      "parameter number: 54 - iteration: 0 START || Time now: 15:54:34\n",
      "parameter number: 54 - iteration: 0 END   || Time now: 15:55:00 | Duration iteration: 00:00:25 | Elapsed from start: 01:46:53\n",
      "parameter number: 54 - iteration: 1 START || Time now: 15:55:00\n",
      "parameter number: 54 - iteration: 1 END   || Time now: 15:55:26 | Duration iteration: 00:00:26 | Elapsed from start: 01:47:19\n",
      "parameter number: 54 - iteration: 2 START || Time now: 15:55:26\n",
      "parameter number: 54 - iteration: 2 END   || Time now: 15:55:52 | Duration iteration: 00:00:25 | Elapsed from start: 01:47:45\n",
      "parameter number: 54 - iteration: 3 START || Time now: 15:55:52\n",
      "parameter number: 54 - iteration: 3 END   || Time now: 15:56:15 | Duration iteration: 00:00:22 | Elapsed from start: 01:48:08\n",
      "parameter number: 54 - iteration: 4 START || Time now: 15:56:15\n"
     ]
    },
    {
     "name": "stderr",
     "output_type": "stream",
     "text": [
      "\r",
      " 83%|█████████████████████████████████████████████████████████████████▊             | 55/66 [1:48:31<21:56, 119.70s/it]"
     ]
    },
    {
     "name": "stdout",
     "output_type": "stream",
     "text": [
      "parameter number: 54 - iteration: 4 END   || Time now: 15:56:38 | Duration iteration: 00:00:23 | Elapsed from start: 01:48:31\n",
      "parameter number: 55 - iteration: 0 START || Time now: 15:56:38\n",
      "parameter number: 55 - iteration: 0 END   || Time now: 15:57:02 | Duration iteration: 00:00:24 | Elapsed from start: 01:48:55\n",
      "parameter number: 55 - iteration: 1 START || Time now: 15:57:02\n",
      "parameter number: 55 - iteration: 1 END   || Time now: 15:57:24 | Duration iteration: 00:00:22 | Elapsed from start: 01:49:18\n",
      "parameter number: 55 - iteration: 2 START || Time now: 15:57:24\n",
      "parameter number: 55 - iteration: 2 END   || Time now: 15:57:47 | Duration iteration: 00:00:22 | Elapsed from start: 01:49:40\n",
      "parameter number: 55 - iteration: 3 START || Time now: 15:57:47\n",
      "parameter number: 55 - iteration: 3 END   || Time now: 15:58:10 | Duration iteration: 00:00:23 | Elapsed from start: 01:50:03\n",
      "parameter number: 55 - iteration: 4 START || Time now: 15:58:10\n"
     ]
    },
    {
     "name": "stderr",
     "output_type": "stream",
     "text": [
      "\r",
      " 85%|███████████████████████████████████████████████████████████████████            | 56/66 [1:50:27<19:44, 118.46s/it]"
     ]
    },
    {
     "name": "stdout",
     "output_type": "stream",
     "text": [
      "parameter number: 55 - iteration: 4 END   || Time now: 15:58:33 | Duration iteration: 00:00:23 | Elapsed from start: 01:50:27\n",
      "parameter number: 56 - iteration: 0 START || Time now: 15:58:33\n",
      "parameter number: 56 - iteration: 0 END   || Time now: 15:58:56 | Duration iteration: 00:00:23 | Elapsed from start: 01:50:50\n",
      "parameter number: 56 - iteration: 1 START || Time now: 15:58:56\n",
      "parameter number: 56 - iteration: 1 END   || Time now: 15:59:21 | Duration iteration: 00:00:24 | Elapsed from start: 01:51:14\n",
      "parameter number: 56 - iteration: 2 START || Time now: 15:59:21\n",
      "parameter number: 56 - iteration: 2 END   || Time now: 15:59:44 | Duration iteration: 00:00:22 | Elapsed from start: 01:51:37\n",
      "parameter number: 56 - iteration: 3 START || Time now: 15:59:44\n",
      "parameter number: 56 - iteration: 3 END   || Time now: 16:00:10 | Duration iteration: 00:00:25 | Elapsed from start: 01:52:03\n",
      "parameter number: 56 - iteration: 4 START || Time now: 16:00:10\n"
     ]
    },
    {
     "name": "stderr",
     "output_type": "stream",
     "text": [
      "\r",
      " 86%|████████████████████████████████████████████████████████████████████▏          | 57/66 [1:52:26<17:49, 118.87s/it]"
     ]
    },
    {
     "name": "stdout",
     "output_type": "stream",
     "text": [
      "parameter number: 56 - iteration: 4 END   || Time now: 16:00:33 | Duration iteration: 00:00:23 | Elapsed from start: 01:52:26\n",
      "parameter number: 57 - iteration: 0 START || Time now: 16:00:33\n",
      "parameter number: 57 - iteration: 0 END   || Time now: 16:00:56 | Duration iteration: 00:00:23 | Elapsed from start: 01:52:49\n",
      "parameter number: 57 - iteration: 1 START || Time now: 16:00:56\n",
      "parameter number: 57 - iteration: 1 END   || Time now: 16:01:19 | Duration iteration: 00:00:22 | Elapsed from start: 01:53:12\n",
      "parameter number: 57 - iteration: 2 START || Time now: 16:01:19\n",
      "parameter number: 57 - iteration: 2 END   || Time now: 16:01:42 | Duration iteration: 00:00:23 | Elapsed from start: 01:53:35\n",
      "parameter number: 57 - iteration: 3 START || Time now: 16:01:42\n",
      "parameter number: 57 - iteration: 3 END   || Time now: 16:02:05 | Duration iteration: 00:00:22 | Elapsed from start: 01:53:58\n",
      "parameter number: 57 - iteration: 4 START || Time now: 16:02:05\n"
     ]
    },
    {
     "name": "stderr",
     "output_type": "stream",
     "text": [
      "\r",
      " 88%|█████████████████████████████████████████████████████████████████████▍         | 58/66 [1:54:21<15:41, 117.70s/it]"
     ]
    },
    {
     "name": "stdout",
     "output_type": "stream",
     "text": [
      "parameter number: 57 - iteration: 4 END   || Time now: 16:02:28 | Duration iteration: 00:00:23 | Elapsed from start: 01:54:21\n",
      "parameter number: 58 - iteration: 0 START || Time now: 16:02:28\n",
      "parameter number: 58 - iteration: 0 END   || Time now: 16:02:52 | Duration iteration: 00:00:23 | Elapsed from start: 01:54:45\n",
      "parameter number: 58 - iteration: 1 START || Time now: 16:02:52\n",
      "parameter number: 58 - iteration: 1 END   || Time now: 16:03:17 | Duration iteration: 00:00:25 | Elapsed from start: 01:55:10\n",
      "parameter number: 58 - iteration: 2 START || Time now: 16:03:17\n",
      "parameter number: 58 - iteration: 2 END   || Time now: 16:03:40 | Duration iteration: 00:00:23 | Elapsed from start: 01:55:33\n",
      "parameter number: 58 - iteration: 3 START || Time now: 16:03:40\n",
      "parameter number: 58 - iteration: 3 END   || Time now: 16:04:05 | Duration iteration: 00:00:25 | Elapsed from start: 01:55:59\n",
      "parameter number: 58 - iteration: 4 START || Time now: 16:04:05\n"
     ]
    },
    {
     "name": "stderr",
     "output_type": "stream",
     "text": [
      "\r",
      " 89%|██████████████████████████████████████████████████████████████████████▌        | 59/66 [1:56:22<13:49, 118.47s/it]"
     ]
    },
    {
     "name": "stdout",
     "output_type": "stream",
     "text": [
      "parameter number: 58 - iteration: 4 END   || Time now: 16:04:28 | Duration iteration: 00:00:23 | Elapsed from start: 01:56:22\n",
      "parameter number: 59 - iteration: 0 START || Time now: 16:04:28\n",
      "parameter number: 59 - iteration: 0 END   || Time now: 16:04:51 | Duration iteration: 00:00:22 | Elapsed from start: 01:56:45\n",
      "parameter number: 59 - iteration: 1 START || Time now: 16:04:51\n",
      "parameter number: 59 - iteration: 1 END   || Time now: 16:05:15 | Duration iteration: 00:00:23 | Elapsed from start: 01:57:08\n",
      "parameter number: 59 - iteration: 2 START || Time now: 16:05:15\n",
      "parameter number: 59 - iteration: 2 END   || Time now: 16:05:40 | Duration iteration: 00:00:25 | Elapsed from start: 01:57:33\n",
      "parameter number: 59 - iteration: 3 START || Time now: 16:05:40\n",
      "parameter number: 59 - iteration: 3 END   || Time now: 16:06:03 | Duration iteration: 00:00:22 | Elapsed from start: 01:57:56\n",
      "parameter number: 59 - iteration: 4 START || Time now: 16:06:03\n"
     ]
    },
    {
     "name": "stderr",
     "output_type": "stream",
     "text": [
      "\r",
      " 91%|███████████████████████████████████████████████████████████████████████▊       | 60/66 [1:58:19<11:48, 118.13s/it]"
     ]
    },
    {
     "name": "stdout",
     "output_type": "stream",
     "text": [
      "parameter number: 59 - iteration: 4 END   || Time now: 16:06:26 | Duration iteration: 00:00:22 | Elapsed from start: 01:58:19\n",
      "parameter number: 60 - iteration: 0 START || Time now: 16:06:26\n",
      "parameter number: 60 - iteration: 0 END   || Time now: 16:06:49 | Duration iteration: 00:00:23 | Elapsed from start: 01:58:42\n",
      "parameter number: 60 - iteration: 1 START || Time now: 16:06:49\n",
      "parameter number: 60 - iteration: 1 END   || Time now: 16:07:12 | Duration iteration: 00:00:23 | Elapsed from start: 01:59:05\n",
      "parameter number: 60 - iteration: 2 START || Time now: 16:07:12\n",
      "parameter number: 60 - iteration: 2 END   || Time now: 16:07:35 | Duration iteration: 00:00:22 | Elapsed from start: 01:59:28\n",
      "parameter number: 60 - iteration: 3 START || Time now: 16:07:35\n",
      "parameter number: 60 - iteration: 3 END   || Time now: 16:07:58 | Duration iteration: 00:00:23 | Elapsed from start: 01:59:52\n",
      "parameter number: 60 - iteration: 4 START || Time now: 16:07:58\n"
     ]
    },
    {
     "name": "stderr",
     "output_type": "stream",
     "text": [
      "\r",
      " 92%|█████████████████████████████████████████████████████████████████████████      | 61/66 [2:00:15<09:46, 117.37s/it]"
     ]
    },
    {
     "name": "stdout",
     "output_type": "stream",
     "text": [
      "parameter number: 60 - iteration: 4 END   || Time now: 16:08:21 | Duration iteration: 00:00:23 | Elapsed from start: 02:00:15\n",
      "parameter number: 61 - iteration: 0 START || Time now: 16:08:21\n",
      "parameter number: 61 - iteration: 0 END   || Time now: 16:08:45 | Duration iteration: 00:00:23 | Elapsed from start: 02:00:38\n",
      "parameter number: 61 - iteration: 1 START || Time now: 16:08:45\n",
      "parameter number: 61 - iteration: 1 END   || Time now: 16:09:10 | Duration iteration: 00:00:24 | Elapsed from start: 02:01:03\n",
      "parameter number: 61 - iteration: 2 START || Time now: 16:09:10\n",
      "parameter number: 61 - iteration: 2 END   || Time now: 16:09:34 | Duration iteration: 00:00:24 | Elapsed from start: 02:01:27\n",
      "parameter number: 61 - iteration: 3 START || Time now: 16:09:34\n",
      "parameter number: 61 - iteration: 3 END   || Time now: 16:09:57 | Duration iteration: 00:00:23 | Elapsed from start: 02:01:50\n",
      "parameter number: 61 - iteration: 4 START || Time now: 16:09:57\n"
     ]
    },
    {
     "name": "stderr",
     "output_type": "stream",
     "text": [
      "\r",
      " 94%|██████████████████████████████████████████████████████████████████████████▏    | 62/66 [2:02:13<07:50, 117.73s/it]"
     ]
    },
    {
     "name": "stdout",
     "output_type": "stream",
     "text": [
      "parameter number: 61 - iteration: 4 END   || Time now: 16:10:20 | Duration iteration: 00:00:22 | Elapsed from start: 02:02:13\n",
      "parameter number: 62 - iteration: 0 START || Time now: 16:10:20\n",
      "parameter number: 62 - iteration: 0 END   || Time now: 16:10:43 | Duration iteration: 00:00:23 | Elapsed from start: 02:02:36\n",
      "parameter number: 62 - iteration: 1 START || Time now: 16:10:43\n",
      "parameter number: 62 - iteration: 1 END   || Time now: 16:11:06 | Duration iteration: 00:00:23 | Elapsed from start: 02:03:00\n",
      "parameter number: 62 - iteration: 2 START || Time now: 16:11:06\n",
      "parameter number: 62 - iteration: 2 END   || Time now: 16:11:31 | Duration iteration: 00:00:24 | Elapsed from start: 02:03:24\n",
      "parameter number: 62 - iteration: 3 START || Time now: 16:11:31\n",
      "parameter number: 62 - iteration: 3 END   || Time now: 16:11:54 | Duration iteration: 00:00:23 | Elapsed from start: 02:03:47\n",
      "parameter number: 62 - iteration: 4 START || Time now: 16:11:54\n"
     ]
    },
    {
     "name": "stderr",
     "output_type": "stream",
     "text": [
      "\r",
      " 95%|███████████████████████████████████████████████████████████████████████████▍   | 63/66 [2:04:10<05:52, 117.42s/it]"
     ]
    },
    {
     "name": "stdout",
     "output_type": "stream",
     "text": [
      "parameter number: 62 - iteration: 4 END   || Time now: 16:12:17 | Duration iteration: 00:00:22 | Elapsed from start: 02:04:10\n",
      "parameter number: 63 - iteration: 0 START || Time now: 16:12:17\n",
      "parameter number: 63 - iteration: 0 END   || Time now: 16:12:40 | Duration iteration: 00:00:23 | Elapsed from start: 02:04:33\n",
      "parameter number: 63 - iteration: 1 START || Time now: 16:12:40\n",
      "parameter number: 63 - iteration: 1 END   || Time now: 16:13:03 | Duration iteration: 00:00:22 | Elapsed from start: 02:04:56\n",
      "parameter number: 63 - iteration: 2 START || Time now: 16:13:03\n",
      "parameter number: 63 - iteration: 2 END   || Time now: 16:13:27 | Duration iteration: 00:00:24 | Elapsed from start: 02:05:20\n",
      "parameter number: 63 - iteration: 3 START || Time now: 16:13:27\n",
      "parameter number: 63 - iteration: 3 END   || Time now: 16:13:51 | Duration iteration: 00:00:24 | Elapsed from start: 02:05:44\n",
      "parameter number: 63 - iteration: 4 START || Time now: 16:13:51\n"
     ]
    },
    {
     "name": "stderr",
     "output_type": "stream",
     "text": [
      "\r",
      " 97%|████████████████████████████████████████████████████████████████████████████▌  | 64/66 [2:06:09<03:55, 117.86s/it]"
     ]
    },
    {
     "name": "stdout",
     "output_type": "stream",
     "text": [
      "parameter number: 63 - iteration: 4 END   || Time now: 16:14:15 | Duration iteration: 00:00:24 | Elapsed from start: 02:06:09\n",
      "parameter number: 64 - iteration: 0 START || Time now: 16:14:15\n",
      "parameter number: 64 - iteration: 0 END   || Time now: 16:14:40 | Duration iteration: 00:00:24 | Elapsed from start: 02:06:33\n",
      "parameter number: 64 - iteration: 1 START || Time now: 16:14:40\n",
      "parameter number: 64 - iteration: 1 END   || Time now: 16:15:04 | Duration iteration: 00:00:24 | Elapsed from start: 02:06:58\n",
      "parameter number: 64 - iteration: 2 START || Time now: 16:15:04\n",
      "parameter number: 64 - iteration: 2 END   || Time now: 16:15:31 | Duration iteration: 00:00:26 | Elapsed from start: 02:07:24\n",
      "parameter number: 64 - iteration: 3 START || Time now: 16:15:31\n",
      "parameter number: 64 - iteration: 3 END   || Time now: 16:15:55 | Duration iteration: 00:00:24 | Elapsed from start: 02:07:49\n",
      "parameter number: 64 - iteration: 4 START || Time now: 16:15:55\n"
     ]
    },
    {
     "name": "stderr",
     "output_type": "stream",
     "text": [
      "\r",
      " 98%|█████████████████████████████████████████████████████████████████████████████▊ | 65/66 [2:08:13<01:59, 119.82s/it]"
     ]
    },
    {
     "name": "stdout",
     "output_type": "stream",
     "text": [
      "parameter number: 64 - iteration: 4 END   || Time now: 16:16:20 | Duration iteration: 00:00:24 | Elapsed from start: 02:08:13\n",
      "parameter number: 65 - iteration: 0 START || Time now: 16:16:20\n",
      "parameter number: 65 - iteration: 0 END   || Time now: 16:16:44 | Duration iteration: 00:00:24 | Elapsed from start: 02:08:37\n",
      "parameter number: 65 - iteration: 1 START || Time now: 16:16:44\n",
      "parameter number: 65 - iteration: 1 END   || Time now: 16:17:09 | Duration iteration: 00:00:24 | Elapsed from start: 02:09:02\n",
      "parameter number: 65 - iteration: 2 START || Time now: 16:17:09\n",
      "parameter number: 65 - iteration: 2 END   || Time now: 16:17:32 | Duration iteration: 00:00:23 | Elapsed from start: 02:09:26\n",
      "parameter number: 65 - iteration: 3 START || Time now: 16:17:32\n",
      "parameter number: 65 - iteration: 3 END   || Time now: 16:17:55 | Duration iteration: 00:00:22 | Elapsed from start: 02:09:48\n",
      "parameter number: 65 - iteration: 4 START || Time now: 16:17:55\n"
     ]
    },
    {
     "name": "stderr",
     "output_type": "stream",
     "text": [
      "100%|███████████████████████████████████████████████████████████████████████████████| 66/66 [2:10:12<00:00, 118.37s/it]"
     ]
    },
    {
     "name": "stdout",
     "output_type": "stream",
     "text": [
      "parameter number: 65 - iteration: 4 END   || Time now: 16:18:18 | Duration iteration: 00:00:23 | Elapsed from start: 02:10:12\n"
     ]
    },
    {
     "name": "stderr",
     "output_type": "stream",
     "text": [
      "\n"
     ]
    }
   ],
   "source": [
    "time_beginning_all = datetime.now()\n",
    "\n",
    "for idx, row in tqdm(table.iterrows(), total=table.shape[0]):\n",
    "    if idx >= idx_restart:\n",
    "        # repeat each parameter set 5 times\n",
    "        for iteration in range(0, 5):\n",
    "\n",
    "            # output file for this iteration\n",
    "            outputPath = f'--output_file=../output/iterations/output_proportions_{idx}.csv'\n",
    "            cmd = base_cmd + ' ' + outputPath\n",
    "            \n",
    "            # parameterset to use\n",
    "            arg = f'--parameterset_index={idx+1}'\n",
    "            full_command = f'{cmd} {arg}'\n",
    "            \n",
    "            time_beginning_iteration = datetime.now()\n",
    "            \n",
    "            print('parameter number: ' + str(idx) + ' - iteration: ' + str(iteration) + ' START || Time now: ' + time_beginning_iteration.strftime(\"%H:%M:%S\"))\n",
    "                                    \n",
    "            # Capture the output of the Java program\n",
    "            try:\n",
    "                output = subprocess.check_output(full_command, stderr=subprocess.STDOUT, universal_newlines=True)\n",
    "            except subprocess.CalledProcessError as e:\n",
    "                print(f\"Java program exited with non-zero return code: {e.returncode}\")\n",
    "                print(f\"Error message: {e.output}\")\n",
    "                exit(1)\n",
    "                \n",
    "            time_end_iteration = datetime.now()\n",
    "         \n",
    "            print('parameter number: ' + str(idx) + ' - iteration: ' + str(iteration) + ' END   || Time now: ' + time_end_iteration.strftime(\"%H:%M:%S\") + ' | Duration iteration: ' + calculate_elapsed_time(time_beginning_iteration, time_end_iteration) + ' | Elapsed from start: ' + calculate_elapsed_time(time_beginning_all, time_end_iteration))"
   ]
  },
  {
   "cell_type": "code",
   "execution_count": null,
   "id": "27c95f45",
   "metadata": {
    "pycharm": {
     "name": "#%%\n"
    }
   },
   "outputs": [],
   "source": []
  },
  {
   "cell_type": "code",
   "execution_count": null,
   "id": "a463052e",
   "metadata": {
    "pycharm": {
     "name": "#%%\n"
    }
   },
   "outputs": [],
   "source": []
  }
 ],
 "metadata": {
  "kernelspec": {
   "display_name": "Python 3 (ipykernel)",
   "language": "python",
   "name": "python3"
  },
  "language_info": {
   "codemirror_mode": {
    "name": "ipython",
    "version": 3
   },
   "file_extension": ".py",
   "mimetype": "text/x-python",
   "name": "python",
   "nbconvert_exporter": "python",
   "pygments_lexer": "ipython3",
   "version": "3.10.11"
  }
 },
 "nbformat": 4,
 "nbformat_minor": 5
}
